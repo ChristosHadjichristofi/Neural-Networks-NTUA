{
  "nbformat": 4,
  "nbformat_minor": 0,
  "metadata": {
    "colab": {
      "name": "exercise 1",
      "provenance": [],
      "collapsed_sections": []
    },
    "kernelspec": {
      "display_name": "Python 3",
      "name": "python3"
    },
    "language_info": {
      "name": "python"
    }
  },
  "cells": [
    {
      "cell_type": "markdown",
      "metadata": {
        "id": "KI8JR8MaY5lx"
      },
      "source": [
        "# Μέρος 1"
      ]
    },
    {
      "cell_type": "markdown",
      "metadata": {
        "id": "VRM-j3AjZfPX"
      },
      "source": [
        "## Εισαγωγή και επισκόπηση"
      ]
    },
    {
      "cell_type": "markdown",
      "metadata": {
        "id": "FuuI2ReUPlAE"
      },
      "source": [
        "####**Παρουσίαση του dataset και ποιό πρόβλημα περιγράφει**"
      ]
    },
    {
      "cell_type": "markdown",
      "metadata": {
        "id": "kkC3C6u_Q0RR"
      },
      "source": [
        "Το dataset που ανάλαβε να μελετήσει η ομάδα μας αφορά την διάγνωση ερεθυματωδών ασθενειών μέσω κλινικών και ιστοπαθολογικών δεδομένων ασθενών (366), αφού όπως έδειξαν οι έρευνες, οι ασθένειες αυτές μοιράζονται αρκετά κοινά χαρακτηριστικά. Οι ασθένειες που ανήκουν σε αυτή την κατηγορία είναι οι εξής: psoriasis, seboreic dermatitis, lichen planus, pityriasis rosea, cronic dermatitis, and pityriasis rubra pilaris και είναι ουσιαστικά οι κλάσεις που διαχωρίζονται οι εγγραφές(ασθενείς) του dataset μας. Η κάθε εγγραφή του dataset περιέχει 12 κλινικά χαρακτηριστικά, 22 ιστοπαθολογικά χαρακτηριστικά τα οποία προέκυψαν μέσω ανάλυσης δερματικών δειγμάτων που ελήφθησαν από τον κάθε ασθενή, καθώς και την διάγνωση που έλαβε ο κάθε ασθενής."
      ]
    },
    {
      "cell_type": "markdown",
      "metadata": {
        "id": "NGo_POMyQ4zu"
      },
      "source": [
        "#### **Προεπεξεργασία των αρχικών text files**"
      ]
    },
    {
      "cell_type": "markdown",
      "metadata": {
        "id": "YXnKCb9IRQ0f"
      },
      "source": [
        "Χρειάστηκαν να γίνουν δύο μικρές αλλαγές στο αρχικό plain text file.\n",
        "\n",
        "\n",
        "1.   Προσθήκη των ονομάτων των χαρακτηριστικών του data set, τα οποία ελήφθησαν απο το αρχείο dermatology.names, το οποίο περιέχει και διάφορες άλλες πληροφορίες. Αυτό έγινε ούτως ώστε στη συνέχεια να έχουμε μια μεταβλητή τύπου ndarray που θα κρατούσε τα feature names.\n",
        "2.   Η δεύτερη αλλαγή που έγινε ήταν να παραλείψουμε όλα τα records τα οποία είχαν ελλειπή στοιχεία. Θα γίνει εκτενέστερη αναφορά σε αυτά στην συνέχεια."
      ]
    },
    {
      "cell_type": "markdown",
      "metadata": {
        "id": "GXq2Swn-Rqu2"
      },
      "source": [
        "#### **Πλήθος δειγμάτων και χαρακτηριστικών καθώς και το είδος όλων των χαρακτηριστικών. Αναφορά στα μη διατεταγμένα χαρακτηριστικά και ποια είναι αυτά**"
      ]
    },
    {
      "cell_type": "markdown",
      "metadata": {
        "id": "A5dP8uRMRxse"
      },
      "source": [
        "Το αρχικό πλήθος των δειγμάτων ήταν 366. Μετά την αφαίρεση που έγινε στο στάδιο της προεπεξεργασίας του αρχικού plain text file παρέμειναν 358 δείγματα."
      ]
    },
    {
      "cell_type": "markdown",
      "metadata": {
        "id": "jXb6YtU9R1yq"
      },
      "source": [
        "#### **Υπάρχουν επικεφαλίδες; Αρίθμηση γραμμών;**"
      ]
    },
    {
      "cell_type": "markdown",
      "metadata": {
        "id": "oU6Vf_XUR7ih"
      },
      "source": [
        "  1. Οι επικεφαλίδες υπάρχουν γιατί τις προσθέσαμε.\n",
        "  2. Όχι, δεν υπάρχει αρίθμηση γραμμών."
      ]
    },
    {
      "cell_type": "markdown",
      "metadata": {
        "id": "7TvYNeIeR_FP"
      },
      "source": [
        "#### **Ποιες είναι οι ετικέτες των κλάσεων και σε ποια κολόνα βρίσκονται;**"
      ]
    },
    {
      "cell_type": "markdown",
      "metadata": {
        "id": "68hTjVmZSLnJ"
      },
      "source": [
        "Οι ετικέτες των κλάσεων είναι οι αριθμοί 1 με 6.\n",
        "\n",
        "Συγκεκριμένα:\n",
        "\n",
        "Classification Code | Class Name\n",
        "--------------------|------------\n",
        "1                   | psoriasis\n",
        "2                   | seboreic dermatitis\n",
        "3                   | lichen planus\n",
        "4                   | pityriasis rosea\n",
        "5                   | cronic dermatitis\n",
        "6                   | pityriasis rubra pilaris"
      ]
    },
    {
      "cell_type": "markdown",
      "metadata": {
        "id": "zzkO6lCuSEPa"
      },
      "source": [
        "#### **Aπουσιάζουσες τιμές, πόσα είναι τα δείγματα με απουσιάζουσες τιμές και ποιο το ποσοστό τους επί του συνόλου**"
      ]
    },
    {
      "cell_type": "markdown",
      "metadata": {
        "id": "AmT4ofGiSM9Y"
      },
      "source": [
        "  1. Οι απουσιάζουσες τιμές είναι 8.\n",
        "  2. Τα δείγματα με απουσιάζουσες τιμές είναι 8.\n",
        "  3. Το ποσοστό επί του συνόλου είναι $ \\frac{6}{366} * 100 \\approx 2,2 $%$ $\n",
        "\n",
        "**Θεωρήθηκε ότι το ποσοστό είναι αμελητέο σε σχέση με το dataset και έτσι οι εγγραφές αφαιρέθηκαν.**"
      ]
    },
    {
      "cell_type": "markdown",
      "metadata": {
        "id": "KCQpCCviSRsn"
      },
      "source": [
        "#### **Ποιος είναι το πλήθος των κλάσεων και τα ποσοστά δειγμάτων τους επί του συνόλου; Αν θεωρήσουμε ότι ένα dataset είναι μη ισορροπημένο αν μια οποιαδήποτε κλάση είναι 1.5 φορά πιο συχνή από κάποια άλλη (60%-40% σε binary datasets) εκτιμήστε αν το dataset είναι ισορροπημένο ή όχι.**"
      ]
    },
    {
      "cell_type": "markdown",
      "metadata": {
        "id": "D1A7XVIcSU-K"
      },
      "source": [
        "1. Συνολικά είναι 6 κλάσεις.\n",
        "\n",
        "2. Τα ποσοστά δειγμάτων τους επι του συνόλου έχουν ως εξής:\n",
        "\n",
        "\n",
        "Classification Code | Class Name                | Percentage ( $ \\approx $ )\n",
        "--------------------|---------------------------|-----------\n",
        "1                   | psoriasis                 | $ 31 $%$ $\n",
        "2                   | seboreic dermatitis       | $ 16,8 $%$ $\n",
        "3                   | lichen planus             | $ 19.8 $%$ $\n",
        "4                   | pityriasis rosea          | $ 13,4 $%$ $\n",
        "5                   | cronic dermatitis         | $ 13,4 $%$ $\n",
        "6                   | pityriasis rubra pilaris  | $ 5,6 $%$ $\n",
        "\n",
        "3. Το παρών dataset δεν είναι ισορροπημένο, καθώς η πρώτη κλάση είναι μεγαλύτερη κατα $1.5$, απο όλες τις υπόλοιπες κλάσεις. Επιπλέον, η κλάση 6 είναι κατα πολύ μικρότερη απ' όλες τις υπόλοιπες.\n"
      ]
    },
    {
      "cell_type": "markdown",
      "metadata": {
        "id": "ayOe9YXYZEtK"
      },
      "source": [
        "## Προετοιμασία"
      ]
    },
    {
      "cell_type": "code",
      "metadata": {
        "colab": {
          "base_uri": "https://localhost:8080/"
        },
        "id": "izZ2We4GYtHO",
        "outputId": "872aca2b-79ff-4961-e905-f1853799665e"
      },
      "source": [
        "!pip install --upgrade pip\n",
        "!pip install --upgrade scikit-learn\n",
        "!pip install --upgrade numpy\n",
        "!pip install --upgrade matplotlib \n",
        "!pip install --upgrade scipy \n",
        "!pip install --upgrade pandas"
      ],
      "execution_count": 278,
      "outputs": [
        {
          "output_type": "stream",
          "name": "stdout",
          "text": [
            "Requirement already satisfied: pip in /usr/local/lib/python3.7/dist-packages (21.3.1)\n",
            "\u001b[33mWARNING: Running pip as the 'root' user can result in broken permissions and conflicting behaviour with the system package manager. It is recommended to use a virtual environment instead: https://pip.pypa.io/warnings/venv\u001b[0m\n",
            "Requirement already satisfied: scikit-learn in /usr/local/lib/python3.7/dist-packages (1.0.1)\n",
            "Requirement already satisfied: threadpoolctl>=2.0.0 in /usr/local/lib/python3.7/dist-packages (from scikit-learn) (3.0.0)\n",
            "Requirement already satisfied: numpy>=1.14.6 in /usr/local/lib/python3.7/dist-packages (from scikit-learn) (1.21.4)\n",
            "Requirement already satisfied: scipy>=1.1.0 in /usr/local/lib/python3.7/dist-packages (from scikit-learn) (1.7.3)\n",
            "Requirement already satisfied: joblib>=0.11 in /usr/local/lib/python3.7/dist-packages (from scikit-learn) (1.1.0)\n",
            "\u001b[33mWARNING: Running pip as the 'root' user can result in broken permissions and conflicting behaviour with the system package manager. It is recommended to use a virtual environment instead: https://pip.pypa.io/warnings/venv\u001b[0m\n",
            "Requirement already satisfied: numpy in /usr/local/lib/python3.7/dist-packages (1.21.4)\n",
            "\u001b[33mWARNING: Running pip as the 'root' user can result in broken permissions and conflicting behaviour with the system package manager. It is recommended to use a virtual environment instead: https://pip.pypa.io/warnings/venv\u001b[0m\n",
            "Requirement already satisfied: matplotlib in /usr/local/lib/python3.7/dist-packages (3.5.0)\n",
            "Requirement already satisfied: setuptools-scm>=4 in /usr/local/lib/python3.7/dist-packages (from matplotlib) (6.3.2)\n",
            "Requirement already satisfied: python-dateutil>=2.7 in /usr/local/lib/python3.7/dist-packages (from matplotlib) (2.8.2)\n",
            "Requirement already satisfied: kiwisolver>=1.0.1 in /usr/local/lib/python3.7/dist-packages (from matplotlib) (1.3.2)\n",
            "Requirement already satisfied: fonttools>=4.22.0 in /usr/local/lib/python3.7/dist-packages (from matplotlib) (4.28.2)\n",
            "Requirement already satisfied: pyparsing>=2.2.1 in /usr/local/lib/python3.7/dist-packages (from matplotlib) (3.0.6)\n",
            "Requirement already satisfied: pillow>=6.2.0 in /usr/local/lib/python3.7/dist-packages (from matplotlib) (7.1.2)\n",
            "Requirement already satisfied: numpy>=1.17 in /usr/local/lib/python3.7/dist-packages (from matplotlib) (1.21.4)\n",
            "Requirement already satisfied: cycler>=0.10 in /usr/local/lib/python3.7/dist-packages (from matplotlib) (0.11.0)\n",
            "Requirement already satisfied: packaging>=20.0 in /usr/local/lib/python3.7/dist-packages (from matplotlib) (21.3)\n",
            "Requirement already satisfied: six>=1.5 in /usr/local/lib/python3.7/dist-packages (from python-dateutil>=2.7->matplotlib) (1.15.0)\n",
            "Requirement already satisfied: tomli>=1.0.0 in /usr/local/lib/python3.7/dist-packages (from setuptools-scm>=4->matplotlib) (1.2.2)\n",
            "Requirement already satisfied: setuptools in /usr/local/lib/python3.7/dist-packages (from setuptools-scm>=4->matplotlib) (57.4.0)\n",
            "\u001b[33mWARNING: Running pip as the 'root' user can result in broken permissions and conflicting behaviour with the system package manager. It is recommended to use a virtual environment instead: https://pip.pypa.io/warnings/venv\u001b[0m\n",
            "Requirement already satisfied: scipy in /usr/local/lib/python3.7/dist-packages (1.7.3)\n",
            "Requirement already satisfied: numpy<1.23.0,>=1.16.5 in /usr/local/lib/python3.7/dist-packages (from scipy) (1.21.4)\n",
            "\u001b[33mWARNING: Running pip as the 'root' user can result in broken permissions and conflicting behaviour with the system package manager. It is recommended to use a virtual environment instead: https://pip.pypa.io/warnings/venv\u001b[0m\n",
            "Requirement already satisfied: pandas in /usr/local/lib/python3.7/dist-packages (1.3.4)\n",
            "Requirement already satisfied: pytz>=2017.3 in /usr/local/lib/python3.7/dist-packages (from pandas) (2018.9)\n",
            "Requirement already satisfied: python-dateutil>=2.7.3 in /usr/local/lib/python3.7/dist-packages (from pandas) (2.8.2)\n",
            "Requirement already satisfied: numpy>=1.17.3 in /usr/local/lib/python3.7/dist-packages (from pandas) (1.21.4)\n",
            "Requirement already satisfied: six>=1.5 in /usr/local/lib/python3.7/dist-packages (from python-dateutil>=2.7.3->pandas) (1.15.0)\n",
            "\u001b[33mWARNING: Running pip as the 'root' user can result in broken permissions and conflicting behaviour with the system package manager. It is recommended to use a virtual environment instead: https://pip.pypa.io/warnings/venv\u001b[0m\n"
          ]
        }
      ]
    },
    {
      "cell_type": "markdown",
      "metadata": {
        "id": "geu8n6WteHb0"
      },
      "source": [
        "#### **Διαχωρισμός του dataset σε feature_names, features, labels, label_names (ndarrays)**"
      ]
    },
    {
      "cell_type": "code",
      "metadata": {
        "id": "mo-SPe3fdoZ5",
        "colab": {
          "base_uri": "https://localhost:8080/"
        },
        "outputId": "1c98c14d-4748-46a7-df74-ab5d6ab097a3"
      },
      "source": [
        "import pandas as pd\n",
        "import numpy as np\n",
        "import time\n",
        "import warnings\n",
        "warnings.filterwarnings(\"ignore\")\n",
        "\n",
        "# hold times fro train and pred of out of the box\n",
        "train_time_base = {}\n",
        "pred_time_base = {}\n",
        "\n",
        "url = 'https://raw.githubusercontent.com/ChristosHadjichristofi/NN_data/main/dermatology.data'\n",
        "data = pd.read_csv(url)\n",
        "print(data)\n",
        "# first column of our dataset is the feature names and remove the last column\n",
        "# which is the classification\n",
        "feature_names = data.columns.values[:34]\n",
        "# feature data, everything from the dataset except and last column [labels]\n",
        "feature_data = data.iloc[:, :34].values\n",
        "# label_names, hardcoded (we got the info) from the dermatology.names\n",
        "label_names = [\"psoriasis\", \"seboreic dermatitis\", \"lichen planus\",\n",
        "               \"pityriasis rosea\", \"cronic dermatitis\", \"pityriasis rubra pilaris\"]\n",
        "label_names = np.array(label_names)\n",
        "# labels, last column from the dataset [classification column]\n",
        "labels = data.iloc[:, 34].values"
      ],
      "execution_count": 279,
      "outputs": [
        {
          "output_type": "stream",
          "name": "stdout",
          "text": [
            "     erythema  scaling  ...  Age  Classification\n",
            "0           2        2  ...   55               2\n",
            "1           3        3  ...    8               1\n",
            "2           2        1  ...   26               3\n",
            "3           2        2  ...   40               1\n",
            "4           2        3  ...   45               3\n",
            "..        ...      ...  ...  ...             ...\n",
            "353         2        1  ...   25               4\n",
            "354         3        2  ...   36               4\n",
            "355         3        2  ...   28               3\n",
            "356         2        1  ...   50               3\n",
            "357         3        2  ...   35               1\n",
            "\n",
            "[358 rows x 35 columns]\n"
          ]
        }
      ]
    },
    {
      "cell_type": "markdown",
      "metadata": {
        "id": "zIgvodJ_eesU"
      },
      "source": [
        "#### **Διαχωρισμός του dataset σε train set ($ 70 $%$ $) και test set ($ 30 $%$ $)**"
      ]
    },
    {
      "cell_type": "code",
      "metadata": {
        "id": "_IQA2HoPezwL"
      },
      "source": [
        "from sklearn.model_selection import train_test_split\n",
        "\n",
        "# Split the data to train and test set\n",
        "train, test, train_labels, test_labels = train_test_split(feature_data, labels, test_size = 0.3)"
      ],
      "execution_count": 280,
      "outputs": []
    },
    {
      "cell_type": "markdown",
      "metadata": {
        "id": "SAr-f4udZI2H"
      },
      "source": [
        "## Ταξινόμηση"
      ]
    },
    {
      "cell_type": "markdown",
      "metadata": {
        "id": "JLe3r3DrZKjQ"
      },
      "source": [
        "### Ταξινομητές - Out of the box"
      ]
    },
    {
      "cell_type": "markdown",
      "metadata": {
        "id": "XyKyfW4nV2Jv"
      },
      "source": [
        "#### **Dummy**"
      ]
    },
    {
      "cell_type": "code",
      "metadata": {
        "id": "OuskmOGB8jh-"
      },
      "source": [
        "from sklearn.dummy import DummyClassifier\n",
        "\n",
        "dc_uniform = DummyClassifier(strategy=\"uniform\")\n",
        "dc_constant_1 = DummyClassifier(strategy=\"constant\", constant=1)\n",
        "dc_constant_2 = DummyClassifier(strategy=\"constant\", constant=2)\n",
        "dc_constant_3 = DummyClassifier(strategy=\"constant\", constant=3)\n",
        "dc_constant_4 = DummyClassifier(strategy=\"constant\", constant=4)\n",
        "dc_constant_5 = DummyClassifier(strategy=\"constant\", constant=5)\n",
        "dc_constant_6 = DummyClassifier(strategy=\"constant\", constant=6)\n",
        "dc_most_frequent = DummyClassifier(strategy=\"most_frequent\")\n",
        "dc_stratified = DummyClassifier(strategy=\"stratified\")\n",
        "\n",
        "# dictionary to store all classifier without optimization preds\n",
        "predictions = {}\n",
        "\n",
        "# with the fit method we train the classifier with the train set\n",
        "# with the predict method predictions occur based on the input data\n",
        "\n",
        "dc_uniform.fit(train, train_labels)\n",
        "predictions[\"DC Uniform\"] = dc_uniform.predict(test)\n",
        "\n",
        "dc_constant_1.fit(train, train_labels)\n",
        "predictions[\"DC Constant 1\"] = dc_constant_1.predict(test)\n",
        "\n",
        "dc_constant_2.fit(train, train_labels)\n",
        "predictions[\"DC Constant 2\"] = dc_constant_2.predict(test)\n",
        "\n",
        "dc_constant_3.fit(train, train_labels)\n",
        "predictions[\"DC Constant 3\"] = dc_constant_3.predict(test)\n",
        "\n",
        "dc_constant_4.fit(train, train_labels)\n",
        "predictions[\"DC Constant 4\"] = dc_constant_4.predict(test)\n",
        "\n",
        "dc_constant_5.fit(train, train_labels)\n",
        "predictions[\"DC Constant 5\"] = dc_constant_5.predict(test)\n",
        "\n",
        "dc_constant_6.fit(train, train_labels)\n",
        "predictions[\"DC Constant 6\"] = dc_constant_6.predict(test)\n",
        "\n",
        "dc_most_frequent.fit(train, train_labels)\n",
        "predictions[\"DC Most Frequent\"] = dc_most_frequent.predict(test)\n",
        "\n",
        "dc_stratified.fit(train, train_labels)\n",
        "predictions[\"DC Stratified\"] = dc_stratified.predict(test)"
      ],
      "execution_count": 281,
      "outputs": []
    },
    {
      "cell_type": "markdown",
      "metadata": {
        "id": "R6rFOataVx9g"
      },
      "source": [
        "#### **Gaussian Naive Bayes (GNB)**"
      ]
    },
    {
      "cell_type": "code",
      "metadata": {
        "id": "3YS0nk4K_Brt"
      },
      "source": [
        "from sklearn.naive_bayes import GaussianNB\n",
        "\n",
        "gnb = GaussianNB()\n",
        "\n",
        "start_time = time.time()\n",
        "gnb.fit(train, train_labels)\n",
        "train_time_base[\"GNB\"] = time.time() - start_time\n",
        "\n",
        "start_time = time.time()\n",
        "predictions[\"GNB\"] = gnb.predict(test)\n",
        "pred_time_base[\"GNB\"] = time.time() - start_time"
      ],
      "execution_count": 282,
      "outputs": []
    },
    {
      "cell_type": "markdown",
      "metadata": {
        "id": "k6XVxTZVVqh8"
      },
      "source": [
        "#### **K Nearest Neighbours (kNN)**"
      ]
    },
    {
      "cell_type": "code",
      "metadata": {
        "id": "LyhC11V1Aaql"
      },
      "source": [
        "from sklearn.neighbors import KNeighborsClassifier\n",
        "\n",
        "knn = KNeighborsClassifier(n_neighbors=1)\n",
        "\n",
        "start_time = time.time()\n",
        "knn.fit(train, train_labels)\n",
        "train_time_base[\"KNN\"] = time.time() - start_time\n",
        "\n",
        "start_time = time.time()\n",
        "predictions[\"KNN\"] = knn.predict(test)\n",
        "pred_time_base[\"KNN\"] = time.time() - start_time"
      ],
      "execution_count": 283,
      "outputs": []
    },
    {
      "cell_type": "markdown",
      "metadata": {
        "id": "qE2VCfsrVjEb"
      },
      "source": [
        "#### **Logistic Regression (LR)**\n"
      ]
    },
    {
      "cell_type": "code",
      "metadata": {
        "id": "vNK-ADX_FX4f"
      },
      "source": [
        "from sklearn.linear_model import LogisticRegression\n",
        "\n",
        "logisticRegr = LogisticRegression()\n",
        "\n",
        "start_time = time.time()\n",
        "logisticRegr.fit(train, train_labels)\n",
        "train_time_base[\"LR\"] = time.time() - start_time\n",
        "\n",
        "start_time = time.time()\n",
        "predictions[\"LR\"] = logisticRegr.predict(test)\n",
        "pred_time_base[\"LR\"] = time.time() - start_time"
      ],
      "execution_count": 284,
      "outputs": []
    },
    {
      "cell_type": "markdown",
      "metadata": {
        "id": "s2O7D0wNZNTV"
      },
      "source": [
        "### Μετρικές"
      ]
    },
    {
      "cell_type": "code",
      "metadata": {
        "id": "OcazHB9-Wyby"
      },
      "source": [
        "from sklearn.metrics import accuracy_score\n",
        "from sklearn.metrics import f1_score\n",
        "import matplotlib.pyplot as plt\n",
        "\n",
        "accuracy = {}\n",
        "f1 = {}\n",
        "\n",
        "def metrics_info(classifier_name, preds):\n",
        "  accuracy[classifier_name] = accuracy_score(test_labels, preds)\n",
        "  f1[classifier_name] = f1_score(test_labels, preds, average = \"macro\")\n",
        "\n",
        "# print bar plot function\n",
        "def bar_plot(classifiers, scores, title):\n",
        "  plt.figure(figsize = (10,6))\n",
        "  y_pos = np.arange(len(classifiers))\n",
        "  plt.bar(y_pos, scores, align='center', alpha = 0.9)\n",
        "  plt.xticks(y_pos, classifiers, rotation = 45)\n",
        "  plt.ylabel('Score')\n",
        "  plt.title(title)\n",
        "  plt.show()"
      ],
      "execution_count": 285,
      "outputs": []
    },
    {
      "cell_type": "code",
      "metadata": {
        "id": "XChJeVuuNMFs",
        "colab": {
          "base_uri": "https://localhost:8080/",
          "height": 112
        },
        "outputId": "44c5552d-6149-4029-be29-4a8a22c7250c"
      },
      "source": [
        "from IPython.display import Markdown as md\n",
        "\n",
        "# Dummy Metrics\n",
        "metrics_info(\"DC Uniform\", predictions[\"DC Uniform\"])\n",
        "metrics_info(\"DC Constant 1\", predictions[\"DC Constant 1\"])\n",
        "metrics_info(\"DC Constant 2\", predictions[\"DC Constant 2\"])\n",
        "metrics_info(\"DC Constant 3\", predictions[\"DC Constant 3\"])\n",
        "metrics_info(\"DC Constant 4\", predictions[\"DC Constant 4\"])\n",
        "metrics_info(\"DC Constant 5\", predictions[\"DC Constant 5\"])\n",
        "metrics_info(\"DC Constant 6\", predictions[\"DC Constant 6\"])\n",
        "metrics_info(\"DC Most Frequent\", predictions[\"DC Most Frequent\"])\n",
        "metrics_info(\"DC Stratified\", predictions[\"DC Stratified\"])\n",
        "\n",
        "# GNB Metrics\n",
        "metrics_info(\"GNB\", predictions[\"GNB\"])\n",
        "\n",
        "# KNN\n",
        "metrics_info(\"KNN\", predictions[\"KNN\"])\n",
        "\n",
        "# LR\n",
        "metrics_info(\"LR\", predictions[\"LR\"])\n",
        "\n",
        "data = []\n",
        "data.append(list(accuracy.values()))\n",
        "data.append(list(f1.values()))\n",
        "\n",
        "pd.DataFrame(data, index = [\"Accuracy Score\", \"F1 Score\"], columns = list(accuracy.keys()))"
      ],
      "execution_count": 286,
      "outputs": [
        {
          "output_type": "execute_result",
          "data": {
            "text/html": [
              "<div>\n",
              "<style scoped>\n",
              "    .dataframe tbody tr th:only-of-type {\n",
              "        vertical-align: middle;\n",
              "    }\n",
              "\n",
              "    .dataframe tbody tr th {\n",
              "        vertical-align: top;\n",
              "    }\n",
              "\n",
              "    .dataframe thead th {\n",
              "        text-align: right;\n",
              "    }\n",
              "</style>\n",
              "<table border=\"1\" class=\"dataframe\">\n",
              "  <thead>\n",
              "    <tr style=\"text-align: right;\">\n",
              "      <th></th>\n",
              "      <th>DC Uniform</th>\n",
              "      <th>DC Constant 1</th>\n",
              "      <th>DC Constant 2</th>\n",
              "      <th>DC Constant 3</th>\n",
              "      <th>DC Constant 4</th>\n",
              "      <th>DC Constant 5</th>\n",
              "      <th>DC Constant 6</th>\n",
              "      <th>DC Most Frequent</th>\n",
              "      <th>DC Stratified</th>\n",
              "      <th>GNB</th>\n",
              "      <th>KNN</th>\n",
              "      <th>LR</th>\n",
              "    </tr>\n",
              "  </thead>\n",
              "  <tbody>\n",
              "    <tr>\n",
              "      <th>Accuracy Score</th>\n",
              "      <td>0.148148</td>\n",
              "      <td>0.361111</td>\n",
              "      <td>0.175926</td>\n",
              "      <td>0.194444</td>\n",
              "      <td>0.092593</td>\n",
              "      <td>0.111111</td>\n",
              "      <td>0.064815</td>\n",
              "      <td>0.361111</td>\n",
              "      <td>0.194444</td>\n",
              "      <td>0.907407</td>\n",
              "      <td>0.898148</td>\n",
              "      <td>0.972222</td>\n",
              "    </tr>\n",
              "    <tr>\n",
              "      <th>F1 Score</th>\n",
              "      <td>0.121389</td>\n",
              "      <td>0.088435</td>\n",
              "      <td>0.049869</td>\n",
              "      <td>0.054264</td>\n",
              "      <td>0.028249</td>\n",
              "      <td>0.033333</td>\n",
              "      <td>0.020290</td>\n",
              "      <td>0.088435</td>\n",
              "      <td>0.139342</td>\n",
              "      <td>0.877641</td>\n",
              "      <td>0.865486</td>\n",
              "      <td>0.962677</td>\n",
              "    </tr>\n",
              "  </tbody>\n",
              "</table>\n",
              "</div>"
            ],
            "text/plain": [
              "                DC Uniform  DC Constant 1  ...       KNN        LR\n",
              "Accuracy Score    0.148148       0.361111  ...  0.898148  0.972222\n",
              "F1 Score          0.121389       0.088435  ...  0.865486  0.962677\n",
              "\n",
              "[2 rows x 12 columns]"
            ]
          },
          "metadata": {},
          "execution_count": 286
        }
      ]
    },
    {
      "cell_type": "code",
      "metadata": {
        "id": "d_x8bnlygXTX",
        "colab": {
          "base_uri": "https://localhost:8080/",
          "height": 883
        },
        "outputId": "d333a077-7c8d-4d67-ed6f-9b923a64cd1a"
      },
      "source": [
        "classifier_labels = list(accuracy.keys())\n",
        "classifier_accuracy = list(accuracy.values())\n",
        "classifier_f1 = list(f1.values())\n",
        "\n",
        "bar_plot(classifier_labels, classifier_accuracy, \"Accuracy Score (Out of the box)\")\n",
        "bar_plot(classifier_labels, classifier_f1, \"F1 Score (Out of the box)\")"
      ],
      "execution_count": 287,
      "outputs": [
        {
          "output_type": "display_data",
          "data": {
            "image/png": "[encoded data removed]",
            "text/plain": [
              "<Figure size 720x432 with 1 Axes>"
            ]
          },
          "metadata": {
            "needs_background": "light"
          }
        },
        {
          "output_type": "display_data",
          "data": {
            "image/png": "[encoded data removed]",
            "text/plain": [
              "<Figure size 720x432 with 1 Axes>"
            ]
          },
          "metadata": {
            "needs_background": "light"
          }
        }
      ]
    },
    {
      "cell_type": "markdown",
      "metadata": {
        "id": "1SrFT5Z9XNqX"
      },
      "source": [
        "#### Σχολιασμός/Παρατηρήσεις\n",
        "\n",
        "1. Παρατηρείται ότι σύμφωνα με την μετρική accuracy οι ταξινομητές DC Constant 1 και DC Most Frequent συγκριτικά με τους υπόλοιπους Dummy ταξινομητές. Αυτό οφείλεται στο γεγονός ότι η κλάση 1 έχει το μεγαλύτερο δείγμα. Παρ'όλα αυτά σύμφωνα με την μετρική f1 ο DC Constant 1 και ο DC Most Frequent δεν έχουν τόσο καλή επίδοση, διότι έχουν πολλά False Positive. Στην συγκεκριμένη μετρική, φαίνεται ο DC Stratified να τα πηγαίνει καλύτερα συγκριτικά με τους υπόλοιπους Dummy ταξινομητές. Γενικά οι Dummy ταξινομητές έχουν πολύ κακή επίδοση, όπως αναμενόταν, αφού είναι αφελής οι στρατηγικές τους.\n",
        "2. Από το γεγονός ότι οι υπόλοιποι 3 ταξινομητές που έχουμε εξετάσει (GNB, kNN, LR) έχουν αρκετά καλές επιδόσεις στις δύο μετρικές αυτές, ακόμα και χωρίς κάποια βελτιστοποίηση (αφού δίνουν σταθερά πάνω απο 80% σε κάθε μετρική) και χωρίς την χρήση 10-fold cross-validation, συμπεραίνουμε ότι κατά πάσα πιθανότητα οι κλάσεις είναι εύκολα διαχωρίσιμες μεταξύ τους.\n",
        "3. Μεταξύ των GNB, kNN, LR φαίνεται ότι ο LR έχει εμφανώς καλύτερη επίδοση από τους 3."
      ]
    },
    {
      "cell_type": "markdown",
      "metadata": {
        "id": "xXiLsCKQZUzl"
      },
      "source": [
        "### Ταξινομητές - Βελτιστοποίηση"
      ]
    },
    {
      "cell_type": "markdown",
      "metadata": {
        "id": "wX_6Rwu_wLne"
      },
      "source": [
        "Στην βελτιστοποίηση στους ταξινομητές (εξαιρουμένων των Dummy), πρόκειται να εφαρμοστεί η εξής λογική:\n",
        "* Διερεύνηση της αρχιτεκτονικής που θα χρησιμοποιηθεί στο pipeline. Θα κρατήσουμε τα pipelines τα οποία επιφέρουν τo καλύτερο accuracy score και το καλύτερο f1 score. Μπορεί αυτά τα 2 pipelines να ταυτίζονται.\n",
        "    * Η διερεύνηση αυτή γίνεται με μια εξαντλητική αναζήτηση σε όλους τους συνδυασμούς των πιθανών βημάτων ενός pipeline (selector, scaler, sampler, pca).\n",
        "* Όταν βρεθεί η βέλτιστη αρχιτεκτονική για κάθε score, τότε θα γίνει εύρεση των βέλτιστων υπερμαραμέτρων με αναζήτηση πλέγματος με διασταυρούμενη επικύρωση για κάθε score."
      ]
    },
    {
      "cell_type": "markdown",
      "metadata": {
        "id": "TZMSIOElrduP"
      },
      "source": [
        "#### Εύρεση των καλύτερων αρχιτεκτονικών Pipeline για κάθε ένα Ταξινομητή"
      ]
    },
    {
      "cell_type": "code",
      "metadata": {
        "id": "i39j_TuEoI16"
      },
      "source": [
        "from imblearn.pipeline import Pipeline\n",
        "\n",
        "# known pre processing classes\n",
        "from sklearn import neighbors\n",
        "from sklearn.feature_selection import VarianceThreshold\n",
        "from sklearn.preprocessing import StandardScaler\n",
        "from imblearn.over_sampling import RandomOverSampler\n",
        "from sklearn.decomposition import PCA\n",
        "\n",
        "import itertools\n",
        "################################################################################\n",
        "\n",
        "# initialization \n",
        "selector = VarianceThreshold()\n",
        "scaler = StandardScaler()\n",
        "ros = RandomOverSampler()\n",
        "pca = PCA()\n",
        "\n",
        "# KNN Classifier\n",
        "clf = neighbors.KNeighborsClassifier()\n",
        "# LR\n",
        "logisticRegr = LogisticRegression()\n",
        "# GNB\n",
        "gnb = GaussianNB()\n",
        "\n",
        "################################################################################\n",
        "\n",
        "# create all possible pipelines in order to get the pipelines with the \n",
        "# best accuracy_score and f1_score (might differ, might be the same)\n",
        "permutationsList = []\n",
        "\n",
        "steps = [('selector', selector), ('scaler', scaler), ('sampler', ros), ('pca', pca)]\n",
        "\n",
        "for i in range (len(steps)):\n",
        "  l = []\n",
        "  l.append(steps[i])\n",
        "  permutationsList.append(l)\n",
        "\n",
        "for i in range (2, len(steps) + 1):\n",
        "  perms = itertools.permutations(steps, i)\n",
        "  for p in perms:\n",
        "    permutationsList.append(list(p))"
      ],
      "execution_count": 288,
      "outputs": []
    },
    {
      "cell_type": "code",
      "metadata": {
        "id": "K2WjRGTpM_mk"
      },
      "source": [
        "def find_best_pipelines(_name, _classifier):\n",
        "  for perm in permutationsList:\n",
        "    # copy the list so as the permutationsList remains clean\n",
        "    stepsList = perm.copy()\n",
        "    # append every time to the list that was copied the classifier as the last process of the pipeline\n",
        "    stepsList.append((_name.lower(), _classifier))\n",
        "    # initiate pipeline\n",
        "    pipe = Pipeline(steps = stepsList)\n",
        "    # train, predict & calculate times\n",
        "    start_time = time.time()\n",
        "    pipe.fit(train, train_labels)\n",
        "    train_time = time.time() - start_time\n",
        "    start_time = time.time()\n",
        "    preds = pipe.predict(test)\n",
        "    prediction_time = time.time() - start_time\n",
        "    # find current accuracy and current f1 scores of this specific pipeline\n",
        "    curr_accuracy = accuracy_score(test_labels, preds)\n",
        "    curr_f1 = f1_score(test_labels, preds, average = \"macro\")\n",
        "\n",
        "    # update best accuracy/best fit (which pipeline and times also)\n",
        "    if (accuracy_pipeline.get(_name, 0) < curr_accuracy):\n",
        "      accuracy_pipeline[_name] = curr_accuracy\n",
        "      train_time_pipeline[_name + \" accuracy\"] = train_time\n",
        "      pred_time_pipeline[_name + \" accuracy\"] = prediction_time\n",
        "      pipeline_best_accuracy = perm.copy()\n",
        "    if (f1_pipeline.get(_name, 0) < curr_f1):\n",
        "      f1_pipeline[_name] = curr_f1\n",
        "      train_time_pipeline[_name + \" f1\"] = train_time\n",
        "      pred_time_pipeline[_name + \" f1\"] = prediction_time\n",
        "      pipeline_best_f1 = perm.copy()\n",
        "  \n",
        "  return (pipeline_best_accuracy, pipeline_best_f1)"
      ],
      "execution_count": 289,
      "outputs": []
    },
    {
      "cell_type": "markdown",
      "metadata": {
        "id": "mDxJlO4umq2V"
      },
      "source": [
        "##### Dummy"
      ]
    },
    {
      "cell_type": "markdown",
      "metadata": {
        "id": "4ie8uFx8mufw"
      },
      "source": [
        "Ο συγκεκριμένος ταξινομητής μπορεί να βελτιστοποιήσει τα αποτελέσματα του μόνο με resampling, το οποίο και πάλι δε θα επιφέρει κάποιο ιδιαίτερο αποτέλεσμα. Ο λόγος είναι διότι ο εν λόγω ταξινομητής χρησιμοποιεί κάποια πολύ συγκεκριμένες στρατηγικές για να κάνει τις προβλέψεις του. Γενικότερα δεν έχει κάποιο νόημα να συγκρίνουμε τον ταξινομητή αυτό με κάποιο άλλο καθώς σαφέστατα θα έχει τα χειρότερα αποτελέσματα."
      ]
    },
    {
      "cell_type": "markdown",
      "metadata": {
        "id": "uJ5Xk9YSt268"
      },
      "source": [
        "##### GNB\n"
      ]
    },
    {
      "cell_type": "code",
      "metadata": {
        "id": "FNYPCEeOt5tq",
        "colab": {
          "base_uri": "https://localhost:8080/"
        },
        "outputId": "e9deccb6-5c5d-4f74-be27-c3dbbfaefb7f"
      },
      "source": [
        "accuracy_pipeline = {}\n",
        "f1_pipeline = {}\n",
        "train_time_pipeline = {}\n",
        "pred_time_pipeline = {}\n",
        "\n",
        "gnb_pipeline_best_acc, gnb_pipeline_best_f1 = find_best_pipelines(\"GNB\", gnb)\n",
        "print(\"Best accuracy score:\", accuracy_pipeline[\"GNB\"])\n",
        "gnb_pipeline_best_acc.append((\"gnb\", gnb))\n",
        "print(\"Best pipeline based on accuracy score:\", gnb_pipeline_best_acc)\n",
        "gnb_pipeline_best_f1.append((\"gnb\", gnb))\n",
        "print(\"Best F1 score:\", f1_pipeline[\"GNB\"])\n",
        "print(\"Best pipeline based on f1 score:\", gnb_pipeline_best_f1)"
      ],
      "execution_count": 290,
      "outputs": [
        {
          "output_type": "stream",
          "name": "stdout",
          "text": [
            "Best accuracy score: 0.9629629629629629\n",
            "Best pipeline based on accuracy score: [('selector', VarianceThreshold()), ('pca', PCA()), ('sampler', RandomOverSampler()), ('gnb', GaussianNB())]\n",
            "Best F1 score: 0.9610739750445633\n",
            "Best pipeline based on f1 score: [('selector', VarianceThreshold()), ('pca', PCA()), ('sampler', RandomOverSampler()), ('gnb', GaussianNB())]\n"
          ]
        }
      ]
    },
    {
      "cell_type": "markdown",
      "metadata": {
        "id": "TfR1GB5zdL5F"
      },
      "source": [
        "##### KNN"
      ]
    },
    {
      "cell_type": "code",
      "metadata": {
        "id": "W4n2VcwIdNew",
        "colab": {
          "base_uri": "https://localhost:8080/"
        },
        "outputId": "65dfc3ef-4116-4165-87c9-7361e13552bd"
      },
      "source": [
        "knn_pipeline_best_acc, knn_pipeline_best_f1 = find_best_pipelines(\"KNN\", clf)\n",
        "print(\"Best accuracy score:\", accuracy_pipeline[\"KNN\"])\n",
        "knn_pipeline_best_acc.append((\"kNN\", clf))\n",
        "print(\"Best pipeline based on accuracy score:\", knn_pipeline_best_acc)\n",
        "knn_pipeline_best_f1.append((\"kNN\", clf))\n",
        "print(\"Best F1 score:\", f1_pipeline[\"KNN\"])\n",
        "print(\"Best pipeline based on f1 score:\", knn_pipeline_best_f1)"
      ],
      "execution_count": 291,
      "outputs": [
        {
          "output_type": "stream",
          "name": "stdout",
          "text": [
            "Best accuracy score: 0.9629629629629629\n",
            "Best pipeline based on accuracy score: [('scaler', StandardScaler()), ('kNN', KNeighborsClassifier())]\n",
            "Best F1 score: 0.9575778488821967\n",
            "Best pipeline based on f1 score: [('scaler', StandardScaler()), ('sampler', RandomOverSampler()), ('selector', VarianceThreshold()), ('kNN', KNeighborsClassifier())]\n"
          ]
        }
      ]
    },
    {
      "cell_type": "markdown",
      "metadata": {
        "id": "raEQOmlGdhvA"
      },
      "source": [
        "##### LR"
      ]
    },
    {
      "cell_type": "code",
      "metadata": {
        "id": "418nBjewdkqJ",
        "colab": {
          "base_uri": "https://localhost:8080/"
        },
        "outputId": "e9cef8e0-b81e-4dcc-9beb-000589e9b1b3"
      },
      "source": [
        "lr_pipeline_best_acc, lr_pipeline_best_f1 = find_best_pipelines(\"LR\", logisticRegr)\n",
        "print(\"Best accuracy score:\", accuracy_pipeline[\"LR\"])\n",
        "lr_pipeline_best_acc.append((\"lr\", logisticRegr))\n",
        "print(\"Best pipeline based on accuracy score:\", lr_pipeline_best_acc)\n",
        "lr_pipeline_best_f1.append((\"lr\", logisticRegr))\n",
        "print(\"Best F1 score:\", f1_pipeline[\"LR\"])\n",
        "print(\"Best pipeline based on f1 score:\", lr_pipeline_best_f1)"
      ],
      "execution_count": 292,
      "outputs": [
        {
          "output_type": "stream",
          "name": "stdout",
          "text": [
            "Best accuracy score: 0.9907407407407407\n",
            "Best pipeline based on accuracy score: [('sampler', RandomOverSampler()), ('lr', LogisticRegression())]\n",
            "Best F1 score: 0.9875589875589875\n",
            "Best pipeline based on f1 score: [('sampler', RandomOverSampler()), ('lr', LogisticRegression())]\n"
          ]
        }
      ]
    },
    {
      "cell_type": "markdown",
      "metadata": {
        "id": "05JlNmVEtsV5"
      },
      "source": [
        "##### Αποτελέσματα καλύτερων αρχιτεκτονικών Pipeline"
      ]
    },
    {
      "cell_type": "code",
      "metadata": {
        "id": "lOrzyGTtraSP",
        "colab": {
          "base_uri": "https://localhost:8080/",
          "height": 112
        },
        "outputId": "67f7ebde-bd24-470b-aed7-721e32f4d530"
      },
      "source": [
        "data = []\n",
        "data.append(list(accuracy_pipeline.values()))\n",
        "data.append(list(f1_pipeline.values()))\n",
        "\n",
        "pd.DataFrame(data, index = [\"Accuracy Score\", \"F1 Score\"], columns = list(accuracy_pipeline.keys()))"
      ],
      "execution_count": 293,
      "outputs": [
        {
          "output_type": "execute_result",
          "data": {
            "text/html": [
              "<div>\n",
              "<style scoped>\n",
              "    .dataframe tbody tr th:only-of-type {\n",
              "        vertical-align: middle;\n",
              "    }\n",
              "\n",
              "    .dataframe tbody tr th {\n",
              "        vertical-align: top;\n",
              "    }\n",
              "\n",
              "    .dataframe thead th {\n",
              "        text-align: right;\n",
              "    }\n",
              "</style>\n",
              "<table border=\"1\" class=\"dataframe\">\n",
              "  <thead>\n",
              "    <tr style=\"text-align: right;\">\n",
              "      <th></th>\n",
              "      <th>GNB</th>\n",
              "      <th>KNN</th>\n",
              "      <th>LR</th>\n",
              "    </tr>\n",
              "  </thead>\n",
              "  <tbody>\n",
              "    <tr>\n",
              "      <th>Accuracy Score</th>\n",
              "      <td>0.962963</td>\n",
              "      <td>0.962963</td>\n",
              "      <td>0.990741</td>\n",
              "    </tr>\n",
              "    <tr>\n",
              "      <th>F1 Score</th>\n",
              "      <td>0.961074</td>\n",
              "      <td>0.957578</td>\n",
              "      <td>0.987559</td>\n",
              "    </tr>\n",
              "  </tbody>\n",
              "</table>\n",
              "</div>"
            ],
            "text/plain": [
              "                     GNB       KNN        LR\n",
              "Accuracy Score  0.962963  0.962963  0.990741\n",
              "F1 Score        0.961074  0.957578  0.987559"
            ]
          },
          "metadata": {},
          "execution_count": 293
        }
      ]
    },
    {
      "cell_type": "markdown",
      "metadata": {
        "id": "xtpG3bXSuIvK"
      },
      "source": [
        "#### Εύρεση βέλτιστων υπερπαραμέτρων με αναζήτηση πλέγματος με διασταυρούμενη επικύρωση για κάθε score"
      ]
    },
    {
      "cell_type": "code",
      "metadata": {
        "id": "H3Jq6xppySY4",
        "colab": {
          "base_uri": "https://localhost:8080/"
        },
        "outputId": "aa5eecfb-be7d-4214-d48a-3964092bb3ab"
      },
      "source": [
        "from sklearn.model_selection import GridSearchCV\n",
        "\n",
        "# calculate the variance of the train set to determine which values\n",
        "# we should include as vthreshold\n",
        "\n",
        "train_var = train.var(axis = 0)\n",
        "print(\"min variance: \", np.min(train_var))\n",
        "print(\"max variance: \", np.max(train_var))\n",
        "max_variance = np.max(train_var)\n",
        "\n",
        "# create vthreshold (for every classifier)\n",
        "vthreshold = list(np.arange(start = 0, stop = int(max_variance) + 1, step = 25))\n",
        "print(vthreshold)\n",
        "\n",
        "# GNB no params opt\n",
        "\n",
        "# KNN Classifier\n",
        "weights = ['distance', 'uniform']\n",
        "metric = ['manhattan', 'euclidean', 'minkowski']\n",
        "k_neighbors = [1, 5, 10, 20, 30, 40, 50]\n",
        "\n",
        "# LR Classifier\n",
        "solver = ['newton-cg', 'lbfgs', 'liblinear', 'sag', 'saga']\n",
        "max_iter = [100, 200, 300, 400, 500]"
      ],
      "execution_count": 294,
      "outputs": [
        {
          "output_type": "stream",
          "name": "stdout",
          "text": [
            "min variance:  0.11161599999999951\n",
            "max variance:  243.96569599999967\n",
            "[0, 25, 50, 75, 100, 125, 150, 175, 200, 225]\n"
          ]
        }
      ]
    },
    {
      "cell_type": "markdown",
      "metadata": {
        "id": "bp1EoWcXuX4z"
      },
      "source": [
        "##### GNB"
      ]
    },
    {
      "cell_type": "code",
      "metadata": {
        "id": "tnkEHsjeuaTt",
        "colab": {
          "base_uri": "https://localhost:8080/"
        },
        "outputId": "52c58bd8-c595-4d9b-9145-ced2db5d14ef"
      },
      "source": [
        "accuracy_gridsearch = {}\n",
        "f1_gridsearch = {}\n",
        "\n",
        "gnb_gridsearch_acc_dict = {}\n",
        "gnb_gridsearch_f1_dict = {}\n",
        "\n",
        "train_time_gridsearch = {}\n",
        "pred_time_gridsearch = {}\n",
        "\n",
        "######################## ACCURACY PIPELINE ########################\n",
        "\n",
        "# create best pipeline\n",
        "pipe_acc_gnb = Pipeline(steps = gnb_pipeline_best_acc, memory = \"tmp\")\n",
        "\n",
        "# append necessary attrs to the accuracy dictionary\n",
        "if ('selector', selector) in gnb_pipeline_best_acc:\n",
        "  if ('scaler', scaler) not in gnb_pipeline_best_acc:\n",
        "    gnb_gridsearch_acc_dict[\"selector__threshold\"] = vthreshold\n",
        "  if ('scaler', scaler) in gnb_pipeline_best_acc:\n",
        "    if gnb_pipeline_best_acc.index(('scaler', scaler)) > gnb_pipeline_best_acc.index(('selector', selector)):\n",
        "      gnb_gridsearch_acc_dict[\"selector__threshold\"] = vthreshold\n",
        "\n",
        "estimator_acc_gnb = GridSearchCV(pipe_acc_gnb, gnb_gridsearch_acc_dict, cv = 10, scoring = \"accuracy\", n_jobs = -1)\n",
        "\n",
        "start_time = time.time()\n",
        "estimator_acc_gnb.fit(train, train_labels)\n",
        "train_time_gridsearch[\"GNB accuracy\"] = time.time() - start_time\n",
        "\n",
        "start_time = time.time()\n",
        "pred_estimator_acc_gnb = estimator_acc_gnb.predict(test)\n",
        "pred_time_gridsearch[\"GNB accuracy\"] = time.time() - start_time\n",
        "\n",
        "accuracy_gridsearch[\"GNB\"] = accuracy_score(test_labels, pred_estimator_acc_gnb)\n",
        "\n",
        "print(\"\\033[4m\\033[1mBest estimator and params for accuracy score - GNB\\033[0m\\n\")\n",
        "print(estimator_acc_gnb.best_estimator_)\n",
        "print(estimator_acc_gnb.best_params_)\n",
        "\n",
        "print(\"\\n\\n\")\n",
        "########################### F1 PIPELINE ###########################\n",
        "\n",
        "# create best pipeline\n",
        "pipe_f1_gnb = Pipeline(steps = gnb_pipeline_best_f1, memory = \"tmp\")\n",
        "\n",
        "# append necessary attrs to the f1 dictionary\n",
        "if ('selector', selector) in gnb_pipeline_best_f1:\n",
        "  if ('scaler', scaler) not in gnb_pipeline_best_f1:\n",
        "    gnb_gridsearch_f1_dict[\"selector__threshold\"] = vthreshold\n",
        "  if ('scaler', scaler) in gnb_pipeline_best_f1:\n",
        "    if gnb_pipeline_best_f1.index(('scaler', scaler)) > gnb_pipeline_best_f1.index(('selector', selector)):\n",
        "      gnb_gridsearch_f1_dict[\"selector__threshold\"] = vthreshold\n",
        "  \n",
        "estimator_f1_gnb = GridSearchCV(pipe_f1_gnb, gnb_gridsearch_f1_dict, cv = 10, scoring = \"f1_macro\", n_jobs = -1)\n",
        "\n",
        "start_time = time.time()\n",
        "estimator_f1_gnb.fit(train, train_labels)\n",
        "train_time_gridsearch[\"GNB f1\"] = time.time() - start_time\n",
        "\n",
        "start_time = time.time()\n",
        "pred_estimator_f1_gnb = estimator_f1_gnb.predict(test)\n",
        "pred_time_gridsearch[\"GNB f1\"] = time.time() - start_time\n",
        "\n",
        "f1_gridsearch[\"GNB\"] = f1_score(test_labels, pred_estimator_f1_gnb, average = \"macro\")\n",
        "\n",
        "print(\"\\033[4m\\033[1mBest estimator and params for f1 score - GNB\\033[0m\\n\")\n",
        "print(estimator_f1_gnb.best_estimator_)\n",
        "print(estimator_f1_gnb.best_params_)"
      ],
      "execution_count": 295,
      "outputs": [
        {
          "output_type": "stream",
          "name": "stdout",
          "text": [
            "\u001b[4m\u001b[1mBest estimator and params for accuracy score - GNB\u001b[0m\n",
            "\n",
            "Pipeline(memory='tmp',\n",
            "         steps=[('selector', VarianceThreshold(threshold=0)), ('pca', PCA()),\n",
            "                ('sampler', RandomOverSampler()), ('gnb', GaussianNB())])\n",
            "{'selector__threshold': 0}\n",
            "\n",
            "\n",
            "\n",
            "\u001b[4m\u001b[1mBest estimator and params for f1 score - GNB\u001b[0m\n",
            "\n",
            "Pipeline(memory='tmp',\n",
            "         steps=[('selector', VarianceThreshold(threshold=0)), ('pca', PCA()),\n",
            "                ('sampler', RandomOverSampler()), ('gnb', GaussianNB())])\n",
            "{'selector__threshold': 0}\n"
          ]
        }
      ]
    },
    {
      "cell_type": "markdown",
      "metadata": {
        "id": "E4ifD8KuK58Q"
      },
      "source": [
        "Παρατηρείται ότι οι δοκιμές για τις υπερπαραμέτρους δεν ωφέλησαν τις αποδόσεις του ταξινομητή αφού η μόνη υπερπαράμετρος που χρησιμοποιήθηκε ήταν το threshold το οποίο είχε την τιμή μηδέν. Οπότε οι βελτιώσεις στην απόδοση του ταξινομητή οφείλονται αποκλειστικά στο pipeline. Επίσης και στις δύο περιπτώσεις χρησιμοποιήθηκε το ίδιο pipeline."
      ]
    },
    {
      "cell_type": "markdown",
      "metadata": {
        "id": "IwqHMzU6ua1r"
      },
      "source": [
        "##### KNN"
      ]
    },
    {
      "cell_type": "code",
      "metadata": {
        "id": "zxJItCSeuc-I",
        "colab": {
          "base_uri": "https://localhost:8080/"
        },
        "outputId": "3dcda136-a9ca-42f1-cdf6-1dc2681bd5c3"
      },
      "source": [
        "knn_gridsearch_acc_dict = {}\n",
        "knn_gridsearch_f1_dict = {}\n",
        "\n",
        "######################## ACCURACY PIPELINE ########################\n",
        "\n",
        "# create best pipeline\n",
        "pipe_acc_knn = Pipeline(steps = knn_pipeline_best_acc, memory = \"tmp\")\n",
        "\n",
        "# append necessary attrs to the accuracy dictionary\n",
        "knn_gridsearch_acc_dict[\"kNN__n_neighbors\"] = k_neighbors\n",
        "knn_gridsearch_acc_dict[\"kNN__weights\"] = weights\n",
        "knn_gridsearch_acc_dict[\"kNN__metric\"] = metric\n",
        "\n",
        "if ('selector', selector) in knn_pipeline_best_acc:\n",
        "  if ('scaler', scaler) not in knn_pipeline_best_acc:\n",
        "      knn_gridsearch_acc_dict[\"selector__threshold\"] = vthreshold\n",
        "  if ('scaler', scaler) in knn_pipeline_best_acc:\n",
        "    if knn_pipeline_best_acc.index(('scaler', scaler)) > knn_pipeline_best_acc.index(('selector', selector)):\n",
        "        knn_gridsearch_acc_dict[\"selector__threshold\"] = vthreshold\n",
        "\n",
        "estimator_acc_knn = GridSearchCV(pipe_acc_knn, knn_gridsearch_acc_dict, cv = 10, scoring = \"accuracy\", n_jobs = -1)\n",
        "\n",
        "start_time = time.time()\n",
        "estimator_acc_knn.fit(train, train_labels)\n",
        "train_time_gridsearch[\"KNN accuracy\"] = time.time() - start_time\n",
        "\n",
        "start_time = time.time()\n",
        "pred_estimator_acc_knn = estimator_acc_knn.predict(test)\n",
        "pred_time_gridsearch[\"KNN accuracy\"] = time.time() - start_time\n",
        "\n",
        "accuracy_gridsearch[\"KNN\"] = accuracy_score(test_labels, pred_estimator_acc_knn)\n",
        "\n",
        "print(\"\\033[4m\\033[1mBest estimator and params for accuracy score - KNN\\033[0m\\n\")\n",
        "print(estimator_acc_knn.best_estimator_)\n",
        "print(estimator_acc_knn.best_params_)\n",
        "\n",
        "print(\"\\n\\n\")\n",
        "########################### F1 PIPELINE ###########################\n",
        "\n",
        "# create best pipeline\n",
        "pipe_f1_knn = Pipeline(steps = knn_pipeline_best_f1, memory = \"tmp\")\n",
        "\n",
        "# append necessary attrs to the f1 dictionary\n",
        "knn_gridsearch_f1_dict[\"kNN__n_neighbors\"] = k_neighbors\n",
        "knn_gridsearch_f1_dict[\"kNN__weights\"] = weights\n",
        "knn_gridsearch_f1_dict[\"kNN__metric\"] = metric\n",
        "\n",
        "if ('selector', selector) in knn_pipeline_best_f1:\n",
        "  if ('scaler', scaler) not in knn_pipeline_best_f1:\n",
        "      knn_gridsearch_f1_dict[\"selector__threshold\"] = vthreshold\n",
        "  if ('scaler', scaler) in knn_pipeline_best_f1:\n",
        "    if knn_pipeline_best_f1.index(('scaler', scaler)) > knn_pipeline_best_f1.index(('selector', selector)):\n",
        "        knn_gridsearch_f1_dict[\"selector__threshold\"] = vthreshold\n",
        "\n",
        "estimator_f1_knn = GridSearchCV(pipe_f1_knn, knn_gridsearch_f1_dict, cv = 10, scoring = \"f1_macro\", n_jobs = -1)\n",
        "\n",
        "start_time = time.time()\n",
        "estimator_f1_knn.fit(train, train_labels)\n",
        "train_time_gridsearch[\"KNN f1\"] = time.time() - start_time\n",
        "\n",
        "start_time = time.time()\n",
        "pred_estimator_f1_knn = estimator_f1_knn.predict(test)\n",
        "pred_time_gridsearch[\"KNN f1\"] = time.time() - start_time\n",
        "\n",
        "f1_gridsearch[\"KNN\"] = f1_score(test_labels, pred_estimator_f1_knn, average = \"macro\")\n",
        "\n",
        "print(\"\\033[4m\\033[1mBest estimator and params for f1 score - KNN\\033[0m\\n\")\n",
        "print(estimator_f1_knn.best_estimator_)\n",
        "print(estimator_f1_knn.best_params_)"
      ],
      "execution_count": 296,
      "outputs": [
        {
          "output_type": "stream",
          "name": "stdout",
          "text": [
            "\u001b[4m\u001b[1mBest estimator and params for accuracy score - KNN\u001b[0m\n",
            "\n",
            "Pipeline(memory='tmp',\n",
            "         steps=[('scaler', StandardScaler()),\n",
            "                ('kNN',\n",
            "                 KNeighborsClassifier(metric='manhattan', n_neighbors=10))])\n",
            "{'kNN__metric': 'manhattan', 'kNN__n_neighbors': 10, 'kNN__weights': 'uniform'}\n",
            "\n",
            "\n",
            "\n",
            "\u001b[4m\u001b[1mBest estimator and params for f1 score - KNN\u001b[0m\n",
            "\n",
            "Pipeline(memory='tmp',\n",
            "         steps=[('scaler', StandardScaler()), ('sampler', RandomOverSampler()),\n",
            "                ('selector', VarianceThreshold()),\n",
            "                ('kNN',\n",
            "                 KNeighborsClassifier(metric='manhattan', n_neighbors=20,\n",
            "                                      weights='distance'))])\n",
            "{'kNN__metric': 'manhattan', 'kNN__n_neighbors': 20, 'kNN__weights': 'distance'}\n"
          ]
        }
      ]
    },
    {
      "cell_type": "markdown",
      "metadata": {
        "id": "UU8xJcprLa2r"
      },
      "source": [
        "Παρατηρείται ότι τόσο οι δοκιμές για τις υπερπαραμέτρους όσο και το pipeline έχουν βοηθήσει στην απόδοση του ταξινομητή (και στις δύο περιπτώσεις).\n",
        "\n",
        "Επιπλέον, παρατηρείται ότι για κάθε μια μετρική o βέλτιστος συνδυασμός υπερπαραμέτρων και pipeline ήταν διαφορετικός."
      ]
    },
    {
      "cell_type": "markdown",
      "metadata": {
        "id": "2QajZbKUudQJ"
      },
      "source": [
        "##### LR"
      ]
    },
    {
      "cell_type": "code",
      "metadata": {
        "id": "1Z9AlloNueVg",
        "colab": {
          "base_uri": "https://localhost:8080/"
        },
        "outputId": "e2371541-ed61-4e4d-eaa9-bc46ce2e74ed"
      },
      "source": [
        "lr_gridsearch_acc_dict = {}\n",
        "lr_gridsearch_f1_dict = {}\n",
        "\n",
        "######################## ACCURACY PIPELINE ########################\n",
        "\n",
        "# create best pipeline\n",
        "pipe_acc_lr = Pipeline(steps = lr_pipeline_best_acc, memory = \"tmp\")\n",
        "\n",
        "# append necessary attrs to the accuracy dictionary\n",
        "lr_gridsearch_acc_dict[\"lr__solver\"] = solver\n",
        "lr_gridsearch_acc_dict[\"lr__max_iter\"] = max_iter\n",
        "\n",
        "if ('selector', selector) in lr_pipeline_best_acc:\n",
        "  if ('scaler', scaler) not in lr_pipeline_best_acc:\n",
        "      lr_gridsearch_acc_dict[\"selector__threshold\"] = vthreshold\n",
        "  if ('scaler', scaler) in lr_pipeline_best_acc:\n",
        "    if lr_pipeline_best_acc.index(('scaler', scaler)) > lr_pipeline_best_acc.index(('selector', selector)):\n",
        "        lr_gridsearch_acc_dict[\"selector__threshold\"] = vthreshold\n",
        "\n",
        "estimator_acc_lr = GridSearchCV(pipe_acc_lr, lr_gridsearch_acc_dict, cv = 10, scoring = \"accuracy\", n_jobs = -1)\n",
        "\n",
        "start_time = time.time()\n",
        "estimator_acc_lr.fit(train, train_labels)\n",
        "train_time_gridsearch[\"LR accuracy\"] = time.time() - start_time\n",
        "\n",
        "start_time = time.time()\n",
        "pred_estimator_acc_lr = estimator_acc_lr.predict(test)\n",
        "pred_time_gridsearch[\"LR accuracy\"] = time.time() - start_time\n",
        "\n",
        "accuracy_gridsearch[\"LR\"] = accuracy_score(test_labels, pred_estimator_acc_lr)\n",
        "\n",
        "print(\"\\033[4m\\033[1mBest estimator and params for accuracy score - LR\\033[0m\\n\")\n",
        "print(estimator_acc_lr.best_estimator_)\n",
        "print(estimator_acc_lr.best_params_)\n",
        "\n",
        "print(\"\\n\\n\")\n",
        "########################### F1 PIPELINE ###########################\n",
        "\n",
        "# create best pipeline\n",
        "pipe_f1_lr = Pipeline(steps = lr_pipeline_best_f1, memory = \"tmp\")\n",
        "\n",
        "# append necessary attrs to the f1 dictionary\n",
        "lr_gridsearch_f1_dict[\"lr__solver\"] = solver\n",
        "lr_gridsearch_f1_dict[\"lr__max_iter\"] = max_iter\n",
        "\n",
        "if ('selector', selector) in lr_pipeline_best_f1:\n",
        "  if ('scaler', scaler) not in lr_pipeline_best_f1:\n",
        "      lr_gridsearch_f1_dict[\"selector__threshold\"] = vthreshold\n",
        "  if ('scaler', scaler) in lr_pipeline_best_f1:\n",
        "    if lr_pipeline_best_f1.index(('scaler', scaler)) > lr_pipeline_best_f1.index(('selector', selector)):\n",
        "        lr_gridsearch_f1_dict[\"selector__threshold\"] = vthreshold\n",
        "\n",
        "estimator_f1_lr = GridSearchCV(pipe_f1_lr, lr_gridsearch_f1_dict, cv = 10, scoring = \"f1_macro\", n_jobs = -1)\n",
        "\n",
        "start_time = time.time()\n",
        "estimator_f1_lr.fit(train, train_labels)\n",
        "train_time_gridsearch[\"LR f1\"] = time.time() - start_time\n",
        "\n",
        "start_time = time.time()\n",
        "pred_estimator_f1_lr = estimator_f1_lr.predict(test)\n",
        "pred_time_gridsearch[\"LR f1\"] = time.time() - start_time\n",
        "\n",
        "f1_gridsearch[\"LR\"] = f1_score(test_labels, pred_estimator_f1_lr, average = \"macro\")\n",
        "\n",
        "print(\"\\033[4m\\033[1mBest estimator and params for f1 score - LR\\033[0m\\n\")\n",
        "print(estimator_f1_lr.best_estimator_)\n",
        "print(estimator_f1_lr.best_params_)"
      ],
      "execution_count": 297,
      "outputs": [
        {
          "output_type": "stream",
          "name": "stdout",
          "text": [
            "\u001b[4m\u001b[1mBest estimator and params for accuracy score - LR\u001b[0m\n",
            "\n",
            "Pipeline(memory='tmp',\n",
            "         steps=[('sampler', RandomOverSampler()),\n",
            "                ('lr', LogisticRegression(solver='saga'))])\n",
            "{'lr__max_iter': 100, 'lr__solver': 'saga'}\n",
            "\n",
            "\n",
            "\n",
            "\u001b[4m\u001b[1mBest estimator and params for f1 score - LR\u001b[0m\n",
            "\n",
            "Pipeline(memory='tmp',\n",
            "         steps=[('sampler', RandomOverSampler()),\n",
            "                ('lr', LogisticRegression(solver='saga'))])\n",
            "{'lr__max_iter': 100, 'lr__solver': 'saga'}\n"
          ]
        }
      ]
    },
    {
      "cell_type": "markdown",
      "metadata": {
        "id": "xdpj5GsyMFQy"
      },
      "source": [
        "Παρατηρείται ότι οι βέλτιστοι ταξινομητές χρησιμοποιούν τις default υπερπαραμέτρους. Οπότε η βελτίωση στην επίδοση του ταξινομητή για την κάθε περίπτωση οφείλεται αποκλειστικά στο pipeline."
      ]
    },
    {
      "cell_type": "markdown",
      "metadata": {
        "id": "_s2MXNRcZXNS"
      },
      "source": [
        "## Αποτελέσματα και συμπεράσματα"
      ]
    },
    {
      "cell_type": "code",
      "metadata": {
        "colab": {
          "base_uri": "https://localhost:8080/",
          "height": 147
        },
        "id": "EAZj1CBhsykG",
        "outputId": "5d2e578a-24b7-4b92-d522-9ebe77758a27"
      },
      "source": [
        "print(\"\\033[4m\\033[1mAccuracy Score\\033[0m\\n\")\n",
        "\n",
        "data = []\n",
        "data.append(list(accuracy.values())[9:])\n",
        "data.append(list(accuracy_gridsearch.values()))\n",
        "pd.DataFrame(data, index = [\"Out of the box\", \"Optimized based on Accuracy Score\"], columns = list(accuracy_gridsearch.keys()))"
      ],
      "execution_count": 298,
      "outputs": [
        {
          "output_type": "stream",
          "name": "stdout",
          "text": [
            "\u001b[4m\u001b[1mAccuracy Score\u001b[0m\n",
            "\n"
          ]
        },
        {
          "output_type": "execute_result",
          "data": {
            "text/html": [
              "<div>\n",
              "<style scoped>\n",
              "    .dataframe tbody tr th:only-of-type {\n",
              "        vertical-align: middle;\n",
              "    }\n",
              "\n",
              "    .dataframe tbody tr th {\n",
              "        vertical-align: top;\n",
              "    }\n",
              "\n",
              "    .dataframe thead th {\n",
              "        text-align: right;\n",
              "    }\n",
              "</style>\n",
              "<table border=\"1\" class=\"dataframe\">\n",
              "  <thead>\n",
              "    <tr style=\"text-align: right;\">\n",
              "      <th></th>\n",
              "      <th>GNB</th>\n",
              "      <th>KNN</th>\n",
              "      <th>LR</th>\n",
              "    </tr>\n",
              "  </thead>\n",
              "  <tbody>\n",
              "    <tr>\n",
              "      <th>Out of the box</th>\n",
              "      <td>0.907407</td>\n",
              "      <td>0.898148</td>\n",
              "      <td>0.972222</td>\n",
              "    </tr>\n",
              "    <tr>\n",
              "      <th>Optimized based on Accuracy Score</th>\n",
              "      <td>0.935185</td>\n",
              "      <td>0.981481</td>\n",
              "      <td>0.972222</td>\n",
              "    </tr>\n",
              "  </tbody>\n",
              "</table>\n",
              "</div>"
            ],
            "text/plain": [
              "                                        GNB       KNN        LR\n",
              "Out of the box                     0.907407  0.898148  0.972222\n",
              "Optimized based on Accuracy Score  0.935185  0.981481  0.972222"
            ]
          },
          "metadata": {},
          "execution_count": 298
        }
      ]
    },
    {
      "cell_type": "markdown",
      "metadata": {
        "id": "qo0m0szEGaFH"
      },
      "source": [
        "Με βάση τα πιο πάνω αποτελέσματα:\n",
        "* Η βελτιστοποίηση που υπέστει ο GNB βελτίωσε αρκετά την απόδοση του ταξινομητή σύμφωνα με την μετρική accuracy\n",
        "* Η βελτιστοποίηση που υπέστει ο KNN βελτίωσε πάρα πολύ την απόδοση του ταξινομητή σύμφωνα με την μετρική accuracy\n",
        "* H βελτιστοποίηση που υπέστει O LR δεν βελτίωσε την απόδοση του σύμφωνα με την μετρική accuracy"
      ]
    },
    {
      "cell_type": "code",
      "metadata": {
        "colab": {
          "base_uri": "https://localhost:8080/",
          "height": 147
        },
        "id": "dOwlF6BUu0us",
        "outputId": "0af6c7d3-f11a-41bf-c4f1-b4387c9c1d74"
      },
      "source": [
        "print(\"\\033[4m\\033[1mF1 Score\\033[0m\\n\")\n",
        "\n",
        "data = []\n",
        "data.append(list(f1.values())[9:])\n",
        "data.append(list(f1_gridsearch.values()))\n",
        "pd.DataFrame(data, index = [\"Out of the box\", \"Optimized based on F1 Score\"], columns = list(f1_gridsearch.keys()))"
      ],
      "execution_count": 299,
      "outputs": [
        {
          "output_type": "stream",
          "name": "stdout",
          "text": [
            "\u001b[4m\u001b[1mF1 Score\u001b[0m\n",
            "\n"
          ]
        },
        {
          "output_type": "execute_result",
          "data": {
            "text/html": [
              "<div>\n",
              "<style scoped>\n",
              "    .dataframe tbody tr th:only-of-type {\n",
              "        vertical-align: middle;\n",
              "    }\n",
              "\n",
              "    .dataframe tbody tr th {\n",
              "        vertical-align: top;\n",
              "    }\n",
              "\n",
              "    .dataframe thead th {\n",
              "        text-align: right;\n",
              "    }\n",
              "</style>\n",
              "<table border=\"1\" class=\"dataframe\">\n",
              "  <thead>\n",
              "    <tr style=\"text-align: right;\">\n",
              "      <th></th>\n",
              "      <th>GNB</th>\n",
              "      <th>KNN</th>\n",
              "      <th>LR</th>\n",
              "    </tr>\n",
              "  </thead>\n",
              "  <tbody>\n",
              "    <tr>\n",
              "      <th>Out of the box</th>\n",
              "      <td>0.877641</td>\n",
              "      <td>0.865486</td>\n",
              "      <td>0.962677</td>\n",
              "    </tr>\n",
              "    <tr>\n",
              "      <th>Optimized based on F1 Score</th>\n",
              "      <td>0.924847</td>\n",
              "      <td>0.960282</td>\n",
              "      <td>0.962677</td>\n",
              "    </tr>\n",
              "  </tbody>\n",
              "</table>\n",
              "</div>"
            ],
            "text/plain": [
              "                                  GNB       KNN        LR\n",
              "Out of the box               0.877641  0.865486  0.962677\n",
              "Optimized based on F1 Score  0.924847  0.960282  0.962677"
            ]
          },
          "metadata": {},
          "execution_count": 299
        }
      ]
    },
    {
      "cell_type": "markdown",
      "metadata": {
        "id": "UzbWLYmuGyQm"
      },
      "source": [
        "Με βάση τα πιο πάνω αποτελέσματα:\n",
        "* Η βελτιστοποίηση που υπέστει ο GNB βελτίωσε αρκετά την απόδοση του ταξινομητή σύμφωνα με την μετρική f1\n",
        "* Η βελτιστοποίηση που υπέστει ο KNN βελτίωσε πάρα πολύ την απόδοση του ταξινομητή σύμφωνα με την μετρική f1\n",
        "* H βελτιστοποίηση που υπέστει O LR δεν βελτίωσε την απόδοση του σύμφωνα με την μετρική f1"
      ]
    },
    {
      "cell_type": "code",
      "metadata": {
        "colab": {
          "base_uri": "https://localhost:8080/",
          "height": 147
        },
        "id": "qLSxrfb24cwX",
        "outputId": "d5832b14-0e7c-4a75-d4d0-003151d36945"
      },
      "source": [
        "print(\"\\033[4m\\033[1mTrain Time (sec)\\033[0m\\n\")\n",
        "\n",
        "data = []\n",
        "data.append(list(train_time_base.values()))\n",
        "train_time_accuracy = [\n",
        "     train_time_gridsearch[\"GNB accuracy\"],\n",
        "     train_time_gridsearch[\"KNN accuracy\"],\n",
        "     train_time_gridsearch[\"LR accuracy\"]\n",
        "]\n",
        "data.append(train_time_accuracy)\n",
        "pd.DataFrame(data, index = [\"Out of the box\", \"Optimized based on Accuracy Score\"], columns = list(accuracy_gridsearch.keys()))"
      ],
      "execution_count": 300,
      "outputs": [
        {
          "output_type": "stream",
          "name": "stdout",
          "text": [
            "\u001b[4m\u001b[1mTrain Time (sec)\u001b[0m\n",
            "\n"
          ]
        },
        {
          "output_type": "execute_result",
          "data": {
            "text/html": [
              "<div>\n",
              "<style scoped>\n",
              "    .dataframe tbody tr th:only-of-type {\n",
              "        vertical-align: middle;\n",
              "    }\n",
              "\n",
              "    .dataframe tbody tr th {\n",
              "        vertical-align: top;\n",
              "    }\n",
              "\n",
              "    .dataframe thead th {\n",
              "        text-align: right;\n",
              "    }\n",
              "</style>\n",
              "<table border=\"1\" class=\"dataframe\">\n",
              "  <thead>\n",
              "    <tr style=\"text-align: right;\">\n",
              "      <th></th>\n",
              "      <th>GNB</th>\n",
              "      <th>KNN</th>\n",
              "      <th>LR</th>\n",
              "    </tr>\n",
              "  </thead>\n",
              "  <tbody>\n",
              "    <tr>\n",
              "      <th>Out of the box</th>\n",
              "      <td>0.003852</td>\n",
              "      <td>0.001011</td>\n",
              "      <td>0.074802</td>\n",
              "    </tr>\n",
              "    <tr>\n",
              "      <th>Optimized based on Accuracy Score</th>\n",
              "      <td>1.490816</td>\n",
              "      <td>2.436186</td>\n",
              "      <td>26.829340</td>\n",
              "    </tr>\n",
              "  </tbody>\n",
              "</table>\n",
              "</div>"
            ],
            "text/plain": [
              "                                        GNB       KNN         LR\n",
              "Out of the box                     0.003852  0.001011   0.074802\n",
              "Optimized based on Accuracy Score  1.490816  2.436186  26.829340"
            ]
          },
          "metadata": {},
          "execution_count": 300
        }
      ]
    },
    {
      "cell_type": "markdown",
      "metadata": {
        "id": "tmw2yBLWJJLe"
      },
      "source": [
        "Η καθυστέρηση στον χρόνο της εκπαίδευσης λόγω της βελτιστοποίησης ήταν πολύ μεγάλη σε σχέση με τον αρχικό χρόνο εκπαίδευσης. \n",
        "\n",
        "Πιο συγκεκριμένα μπορούμε να προβούμε στα εξής συμπεράσματα:\n",
        "* Ο ταξινομητής GNB και KNN χρησιμοποίησαν περισσότερο χρόνο κατα την βελτιστοποίηση ωστόσο η διαφορά στην απόδοση του κάθε ταξινομητή ήταν ωφέλιμη.\n",
        "* Ο ταξινομητής LR φαίνεται ότι χρησιμοποίησε περισσότερο χρόνο ο οποίος εν τέλει δεν ωφέλεσε την απόδοση του ταξινομητή. Μάλιστα ο χρόνος που χρησιμοποίησε ο LR ήταν κατα πολύ μεγαλύτερος σε σχέση με τους χρόνους που χρησιμοποίησαν κατα το train της βελτιστοποίησης οι GNB, KNN."
      ]
    },
    {
      "cell_type": "code",
      "metadata": {
        "colab": {
          "base_uri": "https://localhost:8080/",
          "height": 147
        },
        "id": "M91GEKBw534D",
        "outputId": "343a40aa-5619-4d06-8e89-2df6ba9678c9"
      },
      "source": [
        "print(\"\\033[4m\\033[1mPrediction Time (sec)\\033[0m\\n\")\n",
        "\n",
        "data = []\n",
        "data.append(list(pred_time_base.values()))\n",
        "pred_time_accuracy = [\n",
        "     pred_time_gridsearch[\"GNB accuracy\"],\n",
        "     pred_time_gridsearch[\"KNN accuracy\"],\n",
        "     pred_time_gridsearch[\"LR accuracy\"]\n",
        "]\n",
        "data.append(pred_time_accuracy)\n",
        "pd.DataFrame(data, index = [\"Out of the box\", \"Optimized based on Accuracy Score\"], columns = list(accuracy_gridsearch.keys()))"
      ],
      "execution_count": 301,
      "outputs": [
        {
          "output_type": "stream",
          "name": "stdout",
          "text": [
            "\u001b[4m\u001b[1mPrediction Time (sec)\u001b[0m\n",
            "\n"
          ]
        },
        {
          "output_type": "execute_result",
          "data": {
            "text/html": [
              "<div>\n",
              "<style scoped>\n",
              "    .dataframe tbody tr th:only-of-type {\n",
              "        vertical-align: middle;\n",
              "    }\n",
              "\n",
              "    .dataframe tbody tr th {\n",
              "        vertical-align: top;\n",
              "    }\n",
              "\n",
              "    .dataframe thead th {\n",
              "        text-align: right;\n",
              "    }\n",
              "</style>\n",
              "<table border=\"1\" class=\"dataframe\">\n",
              "  <thead>\n",
              "    <tr style=\"text-align: right;\">\n",
              "      <th></th>\n",
              "      <th>GNB</th>\n",
              "      <th>KNN</th>\n",
              "      <th>LR</th>\n",
              "    </tr>\n",
              "  </thead>\n",
              "  <tbody>\n",
              "    <tr>\n",
              "      <th>Out of the box</th>\n",
              "      <td>0.001267</td>\n",
              "      <td>0.007408</td>\n",
              "      <td>0.000426</td>\n",
              "    </tr>\n",
              "    <tr>\n",
              "      <th>Optimized based on Accuracy Score</th>\n",
              "      <td>0.001496</td>\n",
              "      <td>0.004949</td>\n",
              "      <td>0.000424</td>\n",
              "    </tr>\n",
              "  </tbody>\n",
              "</table>\n",
              "</div>"
            ],
            "text/plain": [
              "                                        GNB       KNN        LR\n",
              "Out of the box                     0.001267  0.007408  0.000426\n",
              "Optimized based on Accuracy Score  0.001496  0.004949  0.000424"
            ]
          },
          "metadata": {},
          "execution_count": 301
        }
      ]
    },
    {
      "cell_type": "markdown",
      "metadata": {
        "id": "32tpueBDKC8l"
      },
      "source": [
        "Ο χρόνος πρόβλεψης δεν παρουσίασε σημαντική μεταβολή, κάτι το οποίο είναι αναμενόμενο αφού η βελτιστοποίηση αφορά μόνο το κομμάτι της εκπαίδευσης."
      ]
    },
    {
      "cell_type": "code",
      "metadata": {
        "colab": {
          "base_uri": "https://localhost:8080/",
          "height": 147
        },
        "id": "HI-B1l2y6NCv",
        "outputId": "9cb7d3e1-4454-40fc-97b9-db3738c24f5f"
      },
      "source": [
        "print(\"\\033[4m\\033[1mTrain Time (sec)\\033[0m\\n\")\n",
        "\n",
        "data = []\n",
        "data.append(list(train_time_base.values()))\n",
        "train_time_accuracy = [\n",
        "     train_time_gridsearch[\"GNB f1\"],\n",
        "     train_time_gridsearch[\"KNN f1\"],\n",
        "     train_time_gridsearch[\"LR f1\"]\n",
        "]\n",
        "data.append(train_time_accuracy)\n",
        "pd.DataFrame(data, index = [\"Out of the box\", \"Optimized based on F1 Score\"], columns = list(f1_gridsearch.keys()))"
      ],
      "execution_count": 302,
      "outputs": [
        {
          "output_type": "stream",
          "name": "stdout",
          "text": [
            "\u001b[4m\u001b[1mTrain Time (sec)\u001b[0m\n",
            "\n"
          ]
        },
        {
          "output_type": "execute_result",
          "data": {
            "text/html": [
              "<div>\n",
              "<style scoped>\n",
              "    .dataframe tbody tr th:only-of-type {\n",
              "        vertical-align: middle;\n",
              "    }\n",
              "\n",
              "    .dataframe tbody tr th {\n",
              "        vertical-align: top;\n",
              "    }\n",
              "\n",
              "    .dataframe thead th {\n",
              "        text-align: right;\n",
              "    }\n",
              "</style>\n",
              "<table border=\"1\" class=\"dataframe\">\n",
              "  <thead>\n",
              "    <tr style=\"text-align: right;\">\n",
              "      <th></th>\n",
              "      <th>GNB</th>\n",
              "      <th>KNN</th>\n",
              "      <th>LR</th>\n",
              "    </tr>\n",
              "  </thead>\n",
              "  <tbody>\n",
              "    <tr>\n",
              "      <th>Out of the box</th>\n",
              "      <td>0.003852</td>\n",
              "      <td>0.001011</td>\n",
              "      <td>0.074802</td>\n",
              "    </tr>\n",
              "    <tr>\n",
              "      <th>Optimized based on F1 Score</th>\n",
              "      <td>0.956419</td>\n",
              "      <td>4.018809</td>\n",
              "      <td>26.751434</td>\n",
              "    </tr>\n",
              "  </tbody>\n",
              "</table>\n",
              "</div>"
            ],
            "text/plain": [
              "                                  GNB       KNN         LR\n",
              "Out of the box               0.003852  0.001011   0.074802\n",
              "Optimized based on F1 Score  0.956419  4.018809  26.751434"
            ]
          },
          "metadata": {},
          "execution_count": 302
        }
      ]
    },
    {
      "cell_type": "markdown",
      "metadata": {
        "id": "5al22TyXKQy8"
      },
      "source": [
        "Όπως και στην περίπτωση της μετρικής accuracy, παρατηρείται ότι για τους GNB, KNN η καθυστέρηση ήταν ωφέλιμη αφού βελτιώθηκε σημαντικά η απόδοση τους ενώ για τον LR φαίνεται ότι ο επιπλέον χρόνος που χρησιμοποιήθηκε για την βελτιστοποίηση δεν ήταν ωφέλιμος."
      ]
    },
    {
      "cell_type": "code",
      "metadata": {
        "colab": {
          "base_uri": "https://localhost:8080/",
          "height": 147
        },
        "id": "GfITszEV6k6u",
        "outputId": "d40a0fcb-55d5-4b54-8b17-608fab59ec2b"
      },
      "source": [
        "print(\"\\033[4m\\033[1mPrediction Time (sec)\\033[0m\\n\")\n",
        "\n",
        "data = []\n",
        "data.append(list(pred_time_base.values()))\n",
        "pred_time_accuracy = [\n",
        "     pred_time_gridsearch[\"GNB f1\"],\n",
        "     pred_time_gridsearch[\"KNN f1\"],\n",
        "     pred_time_gridsearch[\"LR f1\"]\n",
        "]\n",
        "data.append(pred_time_accuracy)\n",
        "pd.DataFrame(data, index = [\"Out of the box\", \"Optimized based on F1 Score\"], columns = list(f1_gridsearch.keys()))"
      ],
      "execution_count": 303,
      "outputs": [
        {
          "output_type": "stream",
          "name": "stdout",
          "text": [
            "\u001b[4m\u001b[1mPrediction Time (sec)\u001b[0m\n",
            "\n"
          ]
        },
        {
          "output_type": "execute_result",
          "data": {
            "text/html": [
              "<div>\n",
              "<style scoped>\n",
              "    .dataframe tbody tr th:only-of-type {\n",
              "        vertical-align: middle;\n",
              "    }\n",
              "\n",
              "    .dataframe tbody tr th {\n",
              "        vertical-align: top;\n",
              "    }\n",
              "\n",
              "    .dataframe thead th {\n",
              "        text-align: right;\n",
              "    }\n",
              "</style>\n",
              "<table border=\"1\" class=\"dataframe\">\n",
              "  <thead>\n",
              "    <tr style=\"text-align: right;\">\n",
              "      <th></th>\n",
              "      <th>GNB</th>\n",
              "      <th>KNN</th>\n",
              "      <th>LR</th>\n",
              "    </tr>\n",
              "  </thead>\n",
              "  <tbody>\n",
              "    <tr>\n",
              "      <th>Out of the box</th>\n",
              "      <td>0.001267</td>\n",
              "      <td>0.007408</td>\n",
              "      <td>0.000426</td>\n",
              "    </tr>\n",
              "    <tr>\n",
              "      <th>Optimized based on F1 Score</th>\n",
              "      <td>0.003770</td>\n",
              "      <td>0.004146</td>\n",
              "      <td>0.000393</td>\n",
              "    </tr>\n",
              "  </tbody>\n",
              "</table>\n",
              "</div>"
            ],
            "text/plain": [
              "                                  GNB       KNN        LR\n",
              "Out of the box               0.001267  0.007408  0.000426\n",
              "Optimized based on F1 Score  0.003770  0.004146  0.000393"
            ]
          },
          "metadata": {},
          "execution_count": 303
        }
      ]
    },
    {
      "cell_type": "markdown",
      "metadata": {
        "id": "emLxFGiTKPun"
      },
      "source": [
        "Ο χρόνος πρόβλεψης δεν παρουσίασε σημαντική μεταβολή, κάτι το οποίο είναι αναμενόμενο αφού η βελτιστοποίηση αφορά μόνο το κομμάτι της εκπαίδευσης."
      ]
    },
    {
      "cell_type": "code",
      "metadata": {
        "colab": {
          "base_uri": "https://localhost:8080/",
          "height": 621
        },
        "id": "mob0jWI5642v",
        "outputId": "318918ca-a1d6-46b6-8a4b-f0ab5ddf0964"
      },
      "source": [
        "plt.figure(figsize = (12, 10))\n",
        "acc_out_of_the_box = list(accuracy.values())[9:]\n",
        "acc_gridsearch = list(accuracy_gridsearch.values())\n",
        "labels = list(accuracy_gridsearch.keys())\n",
        "indices = np.arange(len(labels))\n",
        "width = 0.20\n",
        "plt.bar(indices, acc_out_of_the_box, width = width, label = 'Out of the box')\n",
        "plt.bar(indices + width, acc_gridsearch, width = width, label = 'Optimized')\n",
        "plt.xticks(ticks = indices, labels = labels)\n",
        "plt.legend()\n",
        "plt.xlabel(\"Classifier\")\n",
        "plt.ylabel(\"Accuracy Score\")\n",
        "plt.title(\"Out of the box VS Optimized on accuracy\")\n",
        "plt.show()\n"
      ],
      "execution_count": 304,
      "outputs": [
        {
          "output_type": "display_data",
          "data": {
            "image/png": "[encoded data removed]",
            "text/plain": [
              "<Figure size 864x720 with 1 Axes>"
            ]
          },
          "metadata": {
            "needs_background": "light"
          }
        }
      ]
    },
    {
      "cell_type": "code",
      "metadata": {
        "colab": {
          "base_uri": "https://localhost:8080/",
          "height": 621
        },
        "id": "oxRB3m9CDhSu",
        "outputId": "d3232bab-f8a8-4d12-8f08-a323191f7a88"
      },
      "source": [
        "plt.figure(figsize = (12, 10))\n",
        "f1_out_of_the_box = list(f1.values())[9:]\n",
        "f1_grid = list(f1_gridsearch.values())\n",
        "labels = list(f1_gridsearch.keys())\n",
        "indices = np.arange(len(labels))\n",
        "width = 0.20\n",
        "plt.bar(indices, f1_out_of_the_box, width = width, label = 'Out of the box')\n",
        "plt.bar(indices + width, f1_grid, width = width, label = 'Optimized')\n",
        "plt.xticks(ticks = indices, labels = labels)\n",
        "plt.legend()\n",
        "plt.xlabel(\"Classifier\")\n",
        "plt.ylabel(\"F1 Score\")\n",
        "plt.title(\"Out of the box VS Optimized on f1\")\n",
        "plt.show()"
      ],
      "execution_count": 305,
      "outputs": [
        {
          "output_type": "display_data",
          "data": {
            "image/png": "[encoded data removed]",
            "text/plain": [
              "<Figure size 864x720 with 1 Axes>"
            ]
          },
          "metadata": {
            "needs_background": "light"
          }
        }
      ]
    }
  ]
}