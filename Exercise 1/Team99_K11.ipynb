{
  "nbformat": 4,
  "nbformat_minor": 0,
  "metadata": {
    "kernelspec": {
      "language": "python",
      "display_name": "Python 3",
      "name": "python3"
    },
    "language_info": {
      "pygments_lexer": "ipython3",
      "nbconvert_exporter": "python",
      "version": "3.6.4",
      "file_extension": ".py",
      "codemirror_mode": {
        "name": "ipython",
        "version": 3
      },
      "name": "python",
      "mimetype": "text/x-python"
    },
    "colab": {
      "name": "Team99_K11.ipynb",
      "provenance": [],
      "collapsed_sections": []
    }
  },
  "cells": [
    {
      "cell_type": "code",
      "metadata": {
        "execution": {
          "iopub.status.busy": "2021-12-01T19:02:11.352433Z",
          "iopub.execute_input": "2021-12-01T19:02:11.352749Z",
          "iopub.status.idle": "2021-12-01T19:06:48.809038Z",
          "shell.execute_reply.started": "2021-12-01T19:02:11.352721Z",
          "shell.execute_reply": "2021-12-01T19:06:48.807853Z"
        },
        "trusted": true,
        "id": "-HLnL2Xcie67",
        "colab": {
          "base_uri": "https://localhost:8080/"
        },
        "outputId": "7e8f8fd7-912f-4702-8bd3-0dd5d5d63242"
      },
      "source": [
        "!pip install --upgrade imbalanced-learn\n",
        "!pip install optuna"
      ],
      "execution_count": null,
      "outputs": [
        {
          "output_type": "stream",
          "name": "stdout",
          "text": [
            "Requirement already satisfied: imbalanced-learn in /usr/local/lib/python3.7/dist-packages (0.8.1)\n",
            "Requirement already satisfied: numpy>=1.13.3 in /usr/local/lib/python3.7/dist-packages (from imbalanced-learn) (1.19.5)\n",
            "Requirement already satisfied: scipy>=0.19.1 in /usr/local/lib/python3.7/dist-packages (from imbalanced-learn) (1.4.1)\n",
            "Requirement already satisfied: joblib>=0.11 in /usr/local/lib/python3.7/dist-packages (from imbalanced-learn) (1.1.0)\n",
            "Requirement already satisfied: scikit-learn>=0.24 in /usr/local/lib/python3.7/dist-packages (from imbalanced-learn) (1.0.1)\n",
            "Requirement already satisfied: threadpoolctl>=2.0.0 in /usr/local/lib/python3.7/dist-packages (from scikit-learn>=0.24->imbalanced-learn) (3.0.0)\n",
            "Collecting optuna\n",
            "  Downloading optuna-2.10.0-py3-none-any.whl (308 kB)\n",
            "\u001b[K     |████████████████████████████████| 308 kB 24.4 MB/s \n",
            "\u001b[?25hCollecting cliff\n",
            "  Downloading cliff-3.10.0-py3-none-any.whl (80 kB)\n",
            "\u001b[K     |████████████████████████████████| 80 kB 9.4 MB/s \n",
            "\u001b[?25hRequirement already satisfied: PyYAML in /usr/local/lib/python3.7/dist-packages (from optuna) (3.13)\n",
            "Requirement already satisfied: sqlalchemy>=1.1.0 in /usr/local/lib/python3.7/dist-packages (from optuna) (1.4.27)\n",
            "Requirement already satisfied: tqdm in /usr/local/lib/python3.7/dist-packages (from optuna) (4.62.3)\n",
            "Collecting colorlog\n",
            "  Downloading colorlog-6.6.0-py2.py3-none-any.whl (11 kB)\n",
            "Requirement already satisfied: scipy!=1.4.0 in /usr/local/lib/python3.7/dist-packages (from optuna) (1.4.1)\n",
            "Requirement already satisfied: packaging>=20.0 in /usr/local/lib/python3.7/dist-packages (from optuna) (21.3)\n",
            "Collecting cmaes>=0.8.2\n",
            "  Downloading cmaes-0.8.2-py3-none-any.whl (15 kB)\n",
            "Collecting alembic\n",
            "  Downloading alembic-1.7.5-py3-none-any.whl (209 kB)\n",
            "\u001b[K     |████████████████████████████████| 209 kB 60.5 MB/s \n",
            "\u001b[?25hRequirement already satisfied: numpy in /usr/local/lib/python3.7/dist-packages (from optuna) (1.19.5)\n",
            "Requirement already satisfied: pyparsing!=3.0.5,>=2.0.2 in /usr/local/lib/python3.7/dist-packages (from packaging>=20.0->optuna) (3.0.6)\n",
            "Requirement already satisfied: greenlet!=0.4.17 in /usr/local/lib/python3.7/dist-packages (from sqlalchemy>=1.1.0->optuna) (1.1.2)\n",
            "Requirement already satisfied: importlib-metadata in /usr/local/lib/python3.7/dist-packages (from sqlalchemy>=1.1.0->optuna) (4.8.2)\n",
            "Collecting Mako\n",
            "  Downloading Mako-1.1.6-py2.py3-none-any.whl (75 kB)\n",
            "\u001b[K     |████████████████████████████████| 75 kB 4.2 MB/s \n",
            "\u001b[?25hRequirement already satisfied: importlib-resources in /usr/local/lib/python3.7/dist-packages (from alembic->optuna) (5.4.0)\n",
            "Collecting cmd2>=1.0.0\n",
            "  Downloading cmd2-2.3.3-py3-none-any.whl (149 kB)\n",
            "\u001b[K     |████████████████████████████████| 149 kB 68.8 MB/s \n",
            "\u001b[?25hCollecting pbr!=2.1.0,>=2.0.0\n",
            "  Downloading pbr-5.8.0-py2.py3-none-any.whl (112 kB)\n",
            "\u001b[K     |████████████████████████████████| 112 kB 70.6 MB/s \n",
            "\u001b[?25hCollecting autopage>=0.4.0\n",
            "  Downloading autopage-0.4.0-py3-none-any.whl (20 kB)\n",
            "Requirement already satisfied: PrettyTable>=0.7.2 in /usr/local/lib/python3.7/dist-packages (from cliff->optuna) (2.4.0)\n",
            "Collecting stevedore>=2.0.1\n",
            "  Downloading stevedore-3.5.0-py3-none-any.whl (49 kB)\n",
            "\u001b[K     |████████████████████████████████| 49 kB 6.2 MB/s \n",
            "\u001b[?25hCollecting pyperclip>=1.6\n",
            "  Downloading pyperclip-1.8.2.tar.gz (20 kB)\n",
            "Requirement already satisfied: typing-extensions in /usr/local/lib/python3.7/dist-packages (from cmd2>=1.0.0->cliff->optuna) (3.10.0.2)\n",
            "Requirement already satisfied: wcwidth>=0.1.7 in /usr/local/lib/python3.7/dist-packages (from cmd2>=1.0.0->cliff->optuna) (0.2.5)\n",
            "Requirement already satisfied: attrs>=16.3.0 in /usr/local/lib/python3.7/dist-packages (from cmd2>=1.0.0->cliff->optuna) (21.2.0)\n",
            "Requirement already satisfied: zipp>=0.5 in /usr/local/lib/python3.7/dist-packages (from importlib-metadata->sqlalchemy>=1.1.0->optuna) (3.6.0)\n",
            "Requirement already satisfied: MarkupSafe>=0.9.2 in /usr/local/lib/python3.7/dist-packages (from Mako->alembic->optuna) (2.0.1)\n",
            "Building wheels for collected packages: pyperclip\n",
            "  Building wheel for pyperclip (setup.py) ... \u001b[?25l\u001b[?25hdone\n",
            "  Created wheel for pyperclip: filename=pyperclip-1.8.2-py3-none-any.whl size=11136 sha256=f8264183d53df9bd5181bbc6e8c3214367593995985de3fb277b51a464eb27be\n",
            "  Stored in directory: /root/.cache/pip/wheels/9f/18/84/8f69f8b08169c7bae2dde6bd7daf0c19fca8c8e500ee620a28\n",
            "Successfully built pyperclip\n",
            "Installing collected packages: pyperclip, pbr, stevedore, Mako, cmd2, autopage, colorlog, cmaes, cliff, alembic, optuna\n",
            "Successfully installed Mako-1.1.6 alembic-1.7.5 autopage-0.4.0 cliff-3.10.0 cmaes-0.8.2 cmd2-2.3.3 colorlog-6.6.0 optuna-2.10.0 pbr-5.8.0 pyperclip-1.8.2 stevedore-3.5.0\n"
          ]
        }
      ]
    },
    {
      "cell_type": "markdown",
      "metadata": {
        "id": "0O2okmhvie68"
      },
      "source": [
        "## Επισκόπηση\n",
        "\n",
        "* Σύντομη παρουσίαση του dataset δηλαδή ποιο είναι το πρόβλημα που περιγράφει. <br/><br/>\n",
        "To dataset περιέχει δεδομένα που έχουν συλλεχθεί από διαδικτυακές παρτίδες πόκερ. Συγκεκριμένα κάθε εγγραφή του dataset περιγράφει το πως έπαιξε ένας παίκτης σε κάποια παρτίδα και το τελικό αποτέλεσμα, δηλ αν κέρδισε ή αν έχασε<br/><br/>\n",
        "\n",
        "* Χρειάστηκε να κάνετε μετατροπές στα αρχεία plain text για την εισαγωγή του; αν ναι, ποιες είναι αυτές; <br/><br/>\n",
        "Το dataset αποτελείται από ένα αρχείο που περιέχει επικεφαλίδες στο οποίο δεν έγινε καμία μετατροπή<br/><br/>\n",
        "\n",
        "* Δώστε το πλήθος δειγμάτων και χαρακτηριστικών, και το είδος όλων των χαρακτηριστικών. Υπάρχουν μη διατεταγμένα χαρακτηριστικά και ποια είναι αυτά; <br/><br/>\n",
        "Κάθε δείγμα από τα 102615 του dataset περιέχει 35 χαρακτηριστικά ένα εκ των οποίων είναι το αποτέλεσμα και ένα το τελικό ποσό που κέρδισε ή έχασε ο παίκτης. Ορισμένα από τα υπόλοιπα χαρακτηριστικά αφορούν τη συγκεκριμένη παρτίδα και είναι κοινά για εγγραφές για διαφορετικούς παίκτες στην ίδια παρτίδα. Τέτοια χαρακτηριστικά είναι το id της παρτίδας, ο χρόνος διεξαγωγής της, τα χαρτιά που κατέβηκαν στο board, το μέγεθος του τραπεζιού, ο αριθμός παικτών και άλλα. Υπάρχουν επίσης χαρακτηριστικά που περιγράφουν πως έπαιξε ο συγκεκριμένος παίκτης στη συγκεκριμένη παρτίδα και αυτά είναι η θέση του στο τραπέζι, τα χαρτιά του, οι ενέργειες και τα πονταρίσματά του σε κάθε γύρο πονταρίσματος και άλλα.<br/><br/>\n",
        "\n",
        "\n",
        "* Υπάρχουν επικεφαλίδες; Αρίθμηση γραμμών; <br/><br/>\n",
        "Υπάρχουν επικεφαλίδες αλλά οι γραμμές δεν είναι αριθμημένες.<br/><br/>\n",
        "\n",
        "* Ποιες είναι οι ετικέτες των κλάσεων και σε ποια κολόνα βρίσκονται; <br/><br/>\n",
        "Οι ετικέτες των κλάσεων βρίσκονται στην κολόνα result και είναι οι εξης:\n",
        "  * gave up: Ο παίκτης αποσύρθηκε από την παρτίδα \n",
        "  * lost: Ο παίκτης έμεινε στη διεκδίκηση του γύρου μέχρι το τέλος, έδειξε τα χαρτιά του αλλά έχασε γιατί κάποιος άλλος παίκτης είχε πιο ισχυρό συνδυασμό χαρτιών\n",
        "  * took chips: Ο παίκτης ήταν ο μόνος που παρέμεινε στην παρτίδα αφού όλοι οι άλλοι αποσύρθηκαν \n",
        "  * won: Ο παίκτης έμεινε στη διεκδίκηση του γύρου μέχρι το τέλος, έδειξε τα χαρτιά του αλλά κέρδισε γιατί είχε τον πιο ισχυρό συνδυασμό χαρτιών<br/><br/>\n",
        "\n",
        "* Υπάρχουν απουσιάζουσες τιμές; Πόσα είναι τα δείγματα με απουσιάζουσες τιμές και ποιο το ποσοστό τους επί του συνόλου; <br/><br/>\n",
        "Οι μόνες απουσιάζουσες τιμές βρίσκονται στο χαρακτηριστικό combination (που είναι ο συνδυασμός των χαρτιών του παίκτη). Παρόλα αυτά η παράληψή τους δεν αποτελεί αμέλεια αλλά σημαντικό στοιχείο για τον τρόπο παιχνιδιού του παίκτη. Για την ακρίβεια σημαίνει ότι ο παίκτης δεν παρέμεινε μέχρι το τέλος της παρτίδας (είτε επειδή αποσύρθηκε, είτε επειδή αποσύρθηκαν όλοι οι άλλοι και η παρτίδα δεν ολοκληρώθηκε). Για αυτό το λόγο οι απουσιάζουσες τιμές γεμίζονται με τιμή \"no info\" ώστε να χρησιμοποιηθούν ως πληροφορία κατά την εκπαιδευση του νευρωνικού δικτύου.<br/><br/>\n",
        "\n",
        "* Ποιο είναι το πλήθος των κλάσεων και τα ποσοστά δειγμάτων τους επί του συνόλου; Αν θεωρήσουμε ότι ένα dataset είναι μη ισορροπημένο αν μια οποιαδήποτε κλάση είναι 1.5 φορά πιο συχνή από κάποια άλλη (60%-40% σε binary datasets) εκτιμήστε αν το dataset είναι ισορροπημένο ή όχι <br/><br/>\n",
        "Όπως φαίνεται και πιο κάτω η κατανομή των κλάσεων των 102615 δειγμάτων είναι η εξής: { gave up: 50728 (49%), lost: 10028 (10%), took chips: 31087 (31%), won: 10772 (10%) } και παρατηρείται ότι η πρώτη κλάση έχει σημαντικά περισσότερα δείγματα από τις υπόλοιπες άρα το dataset δεν είναι ισορροπημένο\n",
        "\n",
        "\n",
        "## Μετρική\n",
        "\n",
        "Επιλέχθηκε ως μετρική η F1 διότι συνδυάζει τα αποτελέσματα των μετρικών recall και precision και δίνει μια πιο γενική άποψη για την επίδοση του ταξινομητή, παρόλο που το αποτέλεσμα της δεν ερμηνεύεται πρακτικά τόσο εύκολα όσο της accuracy. Το πρόβλημα το οποίο πραγματεύεται το dataset δεν έχει να κάνει με κάποιο πρόβλημα υγείας ή κάτι αντίστοιχο επομένως δεν χρειάζεται να αξιολογηθεί η επίδοση του ταξινομητή δίνοντας προτεραιότητα σε κάποιο συγκεκριμένο κριτήριο όπως κάνουν οι recall και precision. Επίσης η F1 διαχειρίζεται καλύτερα μη-ισορροπημένα dataset όπως αυτό που χρησιμοποιούν οι out-of-the box ταξινομητές άρα ή σύγκριση με τους βελτιστοποιημένους, που χρησιμοποιούν ισορροπημένα datasets, είναι πιο αντικειμενική.\n",
        "\n",
        "\n",
        "## Cross Validation\n",
        "\n",
        "Λόγω του μεγάλου αριθμού εγγραφών στο dataset επιλέχθηκε να μη γίνει cross validation για να μειωθεί ο συνολικός χρόνος εκτέλεσης"
      ]
    },
    {
      "cell_type": "code",
      "metadata": {
        "execution": {
          "iopub.status.busy": "2021-12-01T19:06:48.81057Z",
          "iopub.execute_input": "2021-12-01T19:06:48.810846Z",
          "iopub.status.idle": "2021-12-01T19:06:49.441653Z",
          "shell.execute_reply.started": "2021-12-01T19:06:48.81081Z",
          "shell.execute_reply": "2021-12-01T19:06:49.44069Z"
        },
        "trusted": true,
        "id": "VOApTDg8ie6-",
        "colab": {
          "base_uri": "https://localhost:8080/",
          "height": 313
        },
        "outputId": "0946884f-4eca-4965-b941-65f3da245447"
      },
      "source": [
        "import pandas as pd\n",
        "import numpy as np\n",
        "import os\n",
        "from sklearn.metrics import accuracy_score\n",
        "from sklearn.metrics import f1_score\n",
        "import matplotlib.pyplot as plt\n",
        "import warnings\n",
        "warnings.filterwarnings(\"ignore\")\n",
        "\n",
        "# df = pd.read_csv(os.path.join(dirname, filename))\n",
        "url = 'https://raw.githubusercontent.com/ChristosHadjichristofi/NN_data/main/one_dollar_spin_and_go.csv'\n",
        "df = pd.read_csv(url)\n",
        "\n",
        "df.head()\n",
        "# print(df)"
      ],
      "execution_count": null,
      "outputs": [
        {
          "output_type": "execute_result",
          "data": {
            "text/html": [
              "<div>\n",
              "<style scoped>\n",
              "    .dataframe tbody tr th:only-of-type {\n",
              "        vertical-align: middle;\n",
              "    }\n",
              "\n",
              "    .dataframe tbody tr th {\n",
              "        vertical-align: top;\n",
              "    }\n",
              "\n",
              "    .dataframe thead th {\n",
              "        text-align: right;\n",
              "    }\n",
              "</style>\n",
              "<table border=\"1\" class=\"dataframe\">\n",
              "  <thead>\n",
              "    <tr style=\"text-align: right;\">\n",
              "      <th></th>\n",
              "      <th>buyin</th>\n",
              "      <th>tourn_id</th>\n",
              "      <th>table</th>\n",
              "      <th>hand_id</th>\n",
              "      <th>date</th>\n",
              "      <th>time</th>\n",
              "      <th>table_size</th>\n",
              "      <th>level</th>\n",
              "      <th>playing</th>\n",
              "      <th>seat</th>\n",
              "      <th>name</th>\n",
              "      <th>stack</th>\n",
              "      <th>position</th>\n",
              "      <th>action_pre</th>\n",
              "      <th>action_flop</th>\n",
              "      <th>action_turn</th>\n",
              "      <th>action_river</th>\n",
              "      <th>all_in</th>\n",
              "      <th>cards</th>\n",
              "      <th>board_flop</th>\n",
              "      <th>board_turn</th>\n",
              "      <th>board_river</th>\n",
              "      <th>combination</th>\n",
              "      <th>pot_pre</th>\n",
              "      <th>pot_flop</th>\n",
              "      <th>pot_turn</th>\n",
              "      <th>pot_river</th>\n",
              "      <th>ante</th>\n",
              "      <th>blinds</th>\n",
              "      <th>bet_pre</th>\n",
              "      <th>bet_flop</th>\n",
              "      <th>bet_turn</th>\n",
              "      <th>bet_river</th>\n",
              "      <th>result</th>\n",
              "      <th>balance</th>\n",
              "    </tr>\n",
              "  </thead>\n",
              "  <tbody>\n",
              "    <tr>\n",
              "      <th>0</th>\n",
              "      <td>$0.92+$0.08</td>\n",
              "      <td>2929450288</td>\n",
              "      <td>1</td>\n",
              "      <td>215051507105</td>\n",
              "      <td>2020-06-07</td>\n",
              "      <td>18:15:09</td>\n",
              "      <td>3</td>\n",
              "      <td>1</td>\n",
              "      <td>3</td>\n",
              "      <td>1</td>\n",
              "      <td>fa538846</td>\n",
              "      <td>500</td>\n",
              "      <td>BTN</td>\n",
              "      <td>folds</td>\n",
              "      <td>x</td>\n",
              "      <td>x</td>\n",
              "      <td>x</td>\n",
              "      <td>False</td>\n",
              "      <td>8d Qh</td>\n",
              "      <td>0</td>\n",
              "      <td>0</td>\n",
              "      <td>0</td>\n",
              "      <td>NaN</td>\n",
              "      <td>30</td>\n",
              "      <td>30</td>\n",
              "      <td>30</td>\n",
              "      <td>30</td>\n",
              "      <td>0</td>\n",
              "      <td>0</td>\n",
              "      <td>0</td>\n",
              "      <td>0</td>\n",
              "      <td>0</td>\n",
              "      <td>0</td>\n",
              "      <td>gave up</td>\n",
              "      <td>0</td>\n",
              "    </tr>\n",
              "    <tr>\n",
              "      <th>1</th>\n",
              "      <td>$0.92+$0.08</td>\n",
              "      <td>2929450288</td>\n",
              "      <td>1</td>\n",
              "      <td>215051507105</td>\n",
              "      <td>2020-06-07</td>\n",
              "      <td>18:15:09</td>\n",
              "      <td>3</td>\n",
              "      <td>1</td>\n",
              "      <td>3</td>\n",
              "      <td>2</td>\n",
              "      <td>676c5599</td>\n",
              "      <td>500</td>\n",
              "      <td>SB</td>\n",
              "      <td>folds</td>\n",
              "      <td>x</td>\n",
              "      <td>x</td>\n",
              "      <td>x</td>\n",
              "      <td>False</td>\n",
              "      <td>--</td>\n",
              "      <td>0</td>\n",
              "      <td>0</td>\n",
              "      <td>0</td>\n",
              "      <td>NaN</td>\n",
              "      <td>30</td>\n",
              "      <td>30</td>\n",
              "      <td>30</td>\n",
              "      <td>30</td>\n",
              "      <td>0</td>\n",
              "      <td>10</td>\n",
              "      <td>10</td>\n",
              "      <td>0</td>\n",
              "      <td>0</td>\n",
              "      <td>0</td>\n",
              "      <td>gave up</td>\n",
              "      <td>-10</td>\n",
              "    </tr>\n",
              "    <tr>\n",
              "      <th>2</th>\n",
              "      <td>$0.92+$0.08</td>\n",
              "      <td>2929450288</td>\n",
              "      <td>1</td>\n",
              "      <td>215051507105</td>\n",
              "      <td>2020-06-07</td>\n",
              "      <td>18:15:09</td>\n",
              "      <td>3</td>\n",
              "      <td>1</td>\n",
              "      <td>3</td>\n",
              "      <td>3</td>\n",
              "      <td>7055f691</td>\n",
              "      <td>500</td>\n",
              "      <td>BB</td>\n",
              "      <td>x</td>\n",
              "      <td>x</td>\n",
              "      <td>x</td>\n",
              "      <td>x</td>\n",
              "      <td>False</td>\n",
              "      <td>--</td>\n",
              "      <td>0</td>\n",
              "      <td>0</td>\n",
              "      <td>0</td>\n",
              "      <td>NaN</td>\n",
              "      <td>30</td>\n",
              "      <td>30</td>\n",
              "      <td>30</td>\n",
              "      <td>30</td>\n",
              "      <td>0</td>\n",
              "      <td>20</td>\n",
              "      <td>20</td>\n",
              "      <td>0</td>\n",
              "      <td>0</td>\n",
              "      <td>0</td>\n",
              "      <td>took chips</td>\n",
              "      <td>10</td>\n",
              "    </tr>\n",
              "    <tr>\n",
              "      <th>3</th>\n",
              "      <td>$0.92+$0.08</td>\n",
              "      <td>2929450288</td>\n",
              "      <td>1</td>\n",
              "      <td>215051520234</td>\n",
              "      <td>2020-06-07</td>\n",
              "      <td>18:15:23</td>\n",
              "      <td>3</td>\n",
              "      <td>1</td>\n",
              "      <td>3</td>\n",
              "      <td>1</td>\n",
              "      <td>fa538846</td>\n",
              "      <td>500</td>\n",
              "      <td>BB</td>\n",
              "      <td>raises</td>\n",
              "      <td>bets-doesn't</td>\n",
              "      <td>x</td>\n",
              "      <td>x</td>\n",
              "      <td>False</td>\n",
              "      <td>Ks 4s</td>\n",
              "      <td>Ad Kh 4c</td>\n",
              "      <td>0</td>\n",
              "      <td>0</td>\n",
              "      <td>NaN</td>\n",
              "      <td>120</td>\n",
              "      <td>180</td>\n",
              "      <td>180</td>\n",
              "      <td>180</td>\n",
              "      <td>0</td>\n",
              "      <td>20</td>\n",
              "      <td>60</td>\n",
              "      <td>60</td>\n",
              "      <td>0</td>\n",
              "      <td>0</td>\n",
              "      <td>took chips</td>\n",
              "      <td>60</td>\n",
              "    </tr>\n",
              "    <tr>\n",
              "      <th>4</th>\n",
              "      <td>$0.92+$0.08</td>\n",
              "      <td>2929450288</td>\n",
              "      <td>1</td>\n",
              "      <td>215051520234</td>\n",
              "      <td>2020-06-07</td>\n",
              "      <td>18:15:23</td>\n",
              "      <td>3</td>\n",
              "      <td>1</td>\n",
              "      <td>3</td>\n",
              "      <td>2</td>\n",
              "      <td>676c5599</td>\n",
              "      <td>490</td>\n",
              "      <td>BTN</td>\n",
              "      <td>folds</td>\n",
              "      <td>x</td>\n",
              "      <td>x</td>\n",
              "      <td>x</td>\n",
              "      <td>False</td>\n",
              "      <td>--</td>\n",
              "      <td>Ad Kh 4c</td>\n",
              "      <td>0</td>\n",
              "      <td>0</td>\n",
              "      <td>NaN</td>\n",
              "      <td>120</td>\n",
              "      <td>180</td>\n",
              "      <td>180</td>\n",
              "      <td>180</td>\n",
              "      <td>0</td>\n",
              "      <td>0</td>\n",
              "      <td>0</td>\n",
              "      <td>0</td>\n",
              "      <td>0</td>\n",
              "      <td>0</td>\n",
              "      <td>gave up</td>\n",
              "      <td>0</td>\n",
              "    </tr>\n",
              "  </tbody>\n",
              "</table>\n",
              "</div>"
            ],
            "text/plain": [
              "         buyin    tourn_id  table  ...  bet_river      result balance\n",
              "0  $0.92+$0.08  2929450288      1  ...          0     gave up       0\n",
              "1  $0.92+$0.08  2929450288      1  ...          0     gave up     -10\n",
              "2  $0.92+$0.08  2929450288      1  ...          0  took chips      10\n",
              "3  $0.92+$0.08  2929450288      1  ...          0  took chips      60\n",
              "4  $0.92+$0.08  2929450288      1  ...          0     gave up       0\n",
              "\n",
              "[5 rows x 35 columns]"
            ]
          },
          "metadata": {},
          "execution_count": 2
        }
      ]
    },
    {
      "cell_type": "code",
      "metadata": {
        "execution": {
          "iopub.status.busy": "2021-12-01T19:06:49.444754Z",
          "iopub.execute_input": "2021-12-01T19:06:49.44512Z",
          "iopub.status.idle": "2021-12-01T19:06:49.540388Z",
          "shell.execute_reply.started": "2021-12-01T19:06:49.445076Z",
          "shell.execute_reply": "2021-12-01T19:06:49.539327Z"
        },
        "trusted": true,
        "id": "B098G-Trie6_",
        "colab": {
          "base_uri": "https://localhost:8080/"
        },
        "outputId": "a7935b33-e2b4-4381-f709-a8d83a323cff"
      },
      "source": [
        "labels_df = df.iloc[: , -2] # τα labels είναι στην στήλη results\n",
        "features_df = df.copy()\n",
        "del features_df[\"result\"] # features είναι όλες οι στήλες εκτός από την results \n",
        "\n",
        "print(features_df.shape)\n",
        "print(labels_df.shape)\n",
        "print(np.unique(labels_df))"
      ],
      "execution_count": null,
      "outputs": [
        {
          "output_type": "stream",
          "name": "stdout",
          "text": [
            "(102615, 34)\n",
            "(102615,)\n",
            "['gave up' 'lost' 'took chips' 'won']\n"
          ]
        }
      ]
    },
    {
      "cell_type": "markdown",
      "metadata": {
        "id": "Y6O9rCeKie7A"
      },
      "source": [
        "## Προεπεξεργασία"
      ]
    },
    {
      "cell_type": "markdown",
      "metadata": {
        "id": "B--0Kepsie7A"
      },
      "source": [
        "### Αφαίρεση χαρακτηριστικών"
      ]
    },
    {
      "cell_type": "markdown",
      "metadata": {
        "id": "ua3kLoQjie7B"
      },
      "source": [
        "#### Όπως προαναφέρθηκε, η απουσία τιμής για το χαρακτηριστικό combination δεν είναι παράληψη κατά τη δημιουργεί του dataset αλλά αποτελεί σημαντική ένδειξη ότι ο εκάστοτε παίκτης δεν ολοκλήρωσε την παρτίδα επειδή είτε έκανε \"gave up\" είτε επειδή έκανε \"took chips\" επομένως η τιμή NaN αντικαθίσταται με \"no info\" για να μπορεί να χρησιμοποιηθεί από τους ταξινομητές"
      ]
    },
    {
      "cell_type": "code",
      "metadata": {
        "execution": {
          "iopub.status.busy": "2021-12-01T19:06:49.568611Z",
          "iopub.execute_input": "2021-12-01T19:06:49.568849Z",
          "iopub.status.idle": "2021-12-01T19:06:50.47379Z",
          "shell.execute_reply.started": "2021-12-01T19:06:49.568812Z",
          "shell.execute_reply": "2021-12-01T19:06:50.472825Z"
        },
        "trusted": true,
        "id": "BLIBLn_fie7C",
        "colab": {
          "base_uri": "https://localhost:8080/"
        },
        "outputId": "878873a0-fe39-4fec-c3d1-fcf0e2fe7657"
      },
      "source": [
        "features_df[\"combination\"] = features_df['combination'].replace(np.nan, \"no info\")\n",
        "features_df[\"combination\"] = features_df[\"combination\"].replace('a full house.*', 'a full house', regex=True)\n",
        "features_df[\"combination\"] = features_df[\"combination\"].replace('two pair.*', 'two pair', regex=True)\n",
        "features_df[\"combination\"] = features_df[\"combination\"].replace('a straight.*', 'a straight', regex=True)\n",
        "features_df[\"combination\"] = features_df[\"combination\"].replace('a flush.*', 'a flush', regex=True)\n",
        "features_df[\"combination\"] = features_df[\"combination\"].replace('three of a kind.*', 'three of a kind', regex=True)\n",
        "features_df[\"combination\"] = features_df[\"combination\"].replace('a pair.*', 'a pair', regex=True)\n",
        "features_df[\"combination\"] = features_df[\"combination\"].replace('four of a kind.*', 'four of a kind', regex=True)\n",
        "print(np.unique(features_df[\"combination\"]))"
      ],
      "execution_count": null,
      "outputs": [
        {
          "output_type": "stream",
          "name": "stdout",
          "text": [
            "['a Royal Flush' 'a flush' 'a full house' 'a pair' 'a straight'\n",
            " 'four of a kind' 'high card Ace' 'high card Jack' 'high card King'\n",
            " 'high card Nine' 'high card Queen' 'high card Ten' 'no info'\n",
            " 'three of a kind' 'two pair']\n"
          ]
        }
      ]
    },
    {
      "cell_type": "markdown",
      "metadata": {
        "id": "XKfNpUMnie7D"
      },
      "source": [
        "#### Χαρακτηριστικά για τα οποία ένας αντίπαλος παίκτης δεν μπορεί να έχει πληροφορία (δλδ τα χαρτιά του αντιπάλου) πρέπει να αφαιρεθούν"
      ]
    },
    {
      "cell_type": "code",
      "metadata": {
        "execution": {
          "iopub.status.busy": "2021-12-01T19:06:50.474855Z",
          "iopub.execute_input": "2021-12-01T19:06:50.4751Z",
          "iopub.status.idle": "2021-12-01T19:06:50.48259Z",
          "shell.execute_reply.started": "2021-12-01T19:06:50.475047Z",
          "shell.execute_reply": "2021-12-01T19:06:50.481771Z"
        },
        "trusted": true,
        "id": "71jItBuhie7E"
      },
      "source": [
        "del features_df[\"cards\"] \n",
        "feature_names = np.array(features_df.columns) # αποθηκευση ονομάτων χαρακτηριστικών"
      ],
      "execution_count": null,
      "outputs": []
    },
    {
      "cell_type": "markdown",
      "metadata": {
        "id": "LwXare5aie7F"
      },
      "source": [
        "#### Χαρακτηριστικά που έχουν ίδια τιμή για κάθε εγγραφή του dataset δεν προσφέρουν πληροφορία και μπορούν να αφαιρεθούν"
      ]
    },
    {
      "cell_type": "code",
      "metadata": {
        "execution": {
          "iopub.status.busy": "2021-12-01T19:06:50.484143Z",
          "iopub.execute_input": "2021-12-01T19:06:50.48447Z",
          "iopub.status.idle": "2021-12-01T19:06:51.340446Z",
          "shell.execute_reply.started": "2021-12-01T19:06:50.48443Z",
          "shell.execute_reply": "2021-12-01T19:06:51.339065Z"
        },
        "trusted": true,
        "id": "O-cD3b8wie7G",
        "colab": {
          "base_uri": "https://localhost:8080/"
        },
        "outputId": "628d31f5-db1e-4731-fcda-789525aad9ee"
      },
      "source": [
        "for feature_name in feature_names:\n",
        "    if(len(np.unique(features_df[feature_name])) == 1): \n",
        "        print(feature_name)\n",
        "        del features_df[feature_name]"
      ],
      "execution_count": null,
      "outputs": [
        {
          "output_type": "stream",
          "name": "stdout",
          "text": [
            "buyin\n",
            "table\n",
            "table_size\n",
            "ante\n"
          ]
        }
      ]
    },
    {
      "cell_type": "markdown",
      "metadata": {
        "id": "PeTpRO6-ie7G"
      },
      "source": [
        "#### Χαρακτηριστικά που δεν προσφέρουν ουσιαστική πληροφορία (πχ ημερομηνία, tour_id) μπορούν να αφαιρεθούν. \n",
        "\n",
        "*Παρατήρηση: Υπό μία ευρεία έννοια θεωρήθηκε ότι ο συνδιασμός ημερομηνίας και ονόματος παίκτη μπορεί να προσφέρει πληροφορία αν θεωρηθεί ότι ο παίκτης βελτιώνει την επίδοσή του σε βάθος χρόνου αλλά θεωρήθηκε ότι μια τέτοια πληροφορία δεν είναι σημαντική συγκριτικά με τις υπόλοιπες. Επίσης το χαρακτηριστικό balance αφαιρέθηκε διότι πρακτικά είναι πληροφορία που προκείπτει από το result. Επιπλέον το χαρακτηριστικό seat αναφέρεται στην αρίθμηση της καρέκλας του παίκτη και όχι της θέσης του στο παιχνίδι (δλδ το χαρακτηριστικό position που παρέμεινε)*"
      ]
    },
    {
      "cell_type": "code",
      "metadata": {
        "execution": {
          "iopub.status.busy": "2021-12-01T19:06:51.341564Z",
          "iopub.execute_input": "2021-12-01T19:06:51.34179Z",
          "iopub.status.idle": "2021-12-01T19:06:51.35026Z",
          "shell.execute_reply.started": "2021-12-01T19:06:51.341762Z",
          "shell.execute_reply": "2021-12-01T19:06:51.349395Z"
        },
        "trusted": true,
        "id": "cFmZPQ_1ie7G"
      },
      "source": [
        "del features_df['tourn_id']\n",
        "del features_df['hand_id']\n",
        "del features_df['date']\n",
        "del features_df['time']\n",
        "del features_df['seat']\n",
        "del features_df['balance']\n",
        "\n",
        "feature_names = np.array(features_df.columns) "
      ],
      "execution_count": null,
      "outputs": []
    },
    {
      "cell_type": "markdown",
      "metadata": {
        "id": "Oav2u1r-ie7H"
      },
      "source": [
        "### Απόδοση αριθμητικής τιμή στα χαρακτηριστικά"
      ]
    },
    {
      "cell_type": "markdown",
      "metadata": {
        "id": "4IXVXNnSie7H"
      },
      "source": [
        "#### Χαρακτηριστικό Combination\n",
        "*Παρατηρήσεις: Το χαρακτηριστικό αυτό παίρνει πολύ μεγάλο εύρος τιμών. Χωρίς πολύ σημαντική απώλεια πληροφορίας, οι επεξηγήσεις για το ποιά χαρτιά δημιουργούν τους συνδυασμούς κάθε παίκτη αφαιρέθηκαν, δλδ το four of a kind με Άσσους έχει πλέον ίδιο βάρος με four of a kind με ρηγάδες. Αυτό έγινε για να περιοριστεί το εύρος τιμών και να αντικατασταθούν οι τιμές με αριθμητικές* "
      ]
    },
    {
      "cell_type": "code",
      "metadata": {
        "execution": {
          "iopub.status.busy": "2021-12-01T19:06:51.351644Z",
          "iopub.execute_input": "2021-12-01T19:06:51.351869Z",
          "iopub.status.idle": "2021-12-01T19:06:51.377713Z",
          "shell.execute_reply.started": "2021-12-01T19:06:51.351842Z",
          "shell.execute_reply": "2021-12-01T19:06:51.376856Z"
        },
        "trusted": true,
        "id": "jP6ojAVDie7H",
        "colab": {
          "base_uri": "https://localhost:8080/"
        },
        "outputId": "ce2e357e-bf30-4c19-de36-5e220143bdd2"
      },
      "source": [
        "combination_mapping = { 'a Royal Flush':0, 'four of a kind':1, 'a full house':2, 'a flush':3, 'a straight':4, \n",
        "                       'three of a kind':5, 'two pair':6, 'a pair':7, 'high card Ace':8, 'high card King':9,\n",
        "                       'high card Queen':9, 'high card Jack':10, 'high card Ten':11, 'high card Nine':12, 'no info':13 }\n",
        "\n",
        "features_df[\"combination\"] = features_df[\"combination\"] .map(combination_mapping)\n",
        "\n",
        "print(np.unique(features_df[\"combination\"]))"
      ],
      "execution_count": null,
      "outputs": [
        {
          "output_type": "stream",
          "name": "stdout",
          "text": [
            "[ 0  1  2  3  4  5  6  7  8  9 10 11 12 13]\n"
          ]
        }
      ]
    },
    {
      "cell_type": "code",
      "metadata": {
        "execution": {
          "iopub.status.busy": "2021-12-01T19:06:51.378959Z",
          "iopub.execute_input": "2021-12-01T19:06:51.379189Z",
          "iopub.status.idle": "2021-12-01T19:06:52.038289Z",
          "shell.execute_reply.started": "2021-12-01T19:06:51.379161Z",
          "shell.execute_reply": "2021-12-01T19:06:52.037271Z"
        },
        "trusted": true,
        "id": "oBJ2b5Z1ie7H",
        "colab": {
          "base_uri": "https://localhost:8080/"
        },
        "outputId": "915d057a-8c43-4ece-f142-b561b81ca1d5"
      },
      "source": [
        "mapping = {}\n",
        "for feature_name in feature_names:\n",
        "    if(type(features_df[feature_name][0]) == str): \n",
        "        print(feature_name)\n",
        "        mapping[feature_name] = {label:idx for idx,label in enumerate(np.unique(features_df[feature_name]))}\n",
        "        features_df[feature_name] = features_df[feature_name] .map(mapping[feature_name])\n",
        "        "
      ],
      "execution_count": null,
      "outputs": [
        {
          "output_type": "stream",
          "name": "stdout",
          "text": [
            "name\n",
            "position\n",
            "action_pre\n",
            "action_flop\n",
            "action_turn\n",
            "action_river\n",
            "board_flop\n",
            "board_turn\n",
            "board_river\n"
          ]
        }
      ]
    },
    {
      "cell_type": "markdown",
      "metadata": {
        "id": "EvSsoejWie7I"
      },
      "source": [
        "#### Ετικέτες - Labels"
      ]
    },
    {
      "cell_type": "code",
      "metadata": {
        "execution": {
          "iopub.status.busy": "2021-12-01T19:06:52.039563Z",
          "iopub.execute_input": "2021-12-01T19:06:52.039792Z",
          "iopub.status.idle": "2021-12-01T19:06:52.19216Z",
          "shell.execute_reply.started": "2021-12-01T19:06:52.039763Z",
          "shell.execute_reply": "2021-12-01T19:06:52.191243Z"
        },
        "trusted": true,
        "id": "mvOKUNf9ie7I",
        "colab": {
          "base_uri": "https://localhost:8080/"
        },
        "outputId": "44fbf79e-df09-4ef5-979f-e560e3473d84"
      },
      "source": [
        "print(np.unique(labels_df))\n",
        "original_labels = (np.unique(labels_df))\n",
        "label_mapping = { 'gave up':0, 'lost':1, 'took chips':2, 'won':3 }\n",
        "labels_df_mapped = labels_df.map(label_mapping)\n",
        "print(np.unique(labels_df_mapped))\n"
      ],
      "execution_count": null,
      "outputs": [
        {
          "output_type": "stream",
          "name": "stdout",
          "text": [
            "['gave up' 'lost' 'took chips' 'won']\n",
            "[0 1 2 3]\n"
          ]
        }
      ]
    },
    {
      "cell_type": "markdown",
      "metadata": {
        "id": "HPaxucOqie7I"
      },
      "source": [
        "### Δημιουργία np arrays"
      ]
    },
    {
      "cell_type": "code",
      "metadata": {
        "execution": {
          "iopub.status.busy": "2021-12-01T19:06:52.19321Z",
          "iopub.execute_input": "2021-12-01T19:06:52.193605Z",
          "iopub.status.idle": "2021-12-01T19:06:52.270578Z",
          "shell.execute_reply.started": "2021-12-01T19:06:52.193575Z",
          "shell.execute_reply": "2021-12-01T19:06:52.26976Z"
        },
        "trusted": true,
        "id": "8oWm7dCNie7I",
        "colab": {
          "base_uri": "https://localhost:8080/"
        },
        "outputId": "1e82c07f-8e06-4158-e250-9a54b6c96d33"
      },
      "source": [
        "# print(features_df)\n",
        "\n",
        "feature_names = np.array(features_df.columns) # αποθηκευση ονομάτων χαρακτηριστικών\n",
        "print(feature_names)\n",
        "\n",
        "np_labels = labels_df_mapped.values.flatten()\n",
        "print(np.unique(np_labels))\n",
        "\n",
        "np_features = features_df.values\n",
        "print(np_features.shape)"
      ],
      "execution_count": null,
      "outputs": [
        {
          "output_type": "stream",
          "name": "stdout",
          "text": [
            "['level' 'playing' 'name' 'stack' 'position' 'action_pre' 'action_flop'\n",
            " 'action_turn' 'action_river' 'all_in' 'board_flop' 'board_turn'\n",
            " 'board_river' 'combination' 'pot_pre' 'pot_flop' 'pot_turn' 'pot_river'\n",
            " 'blinds' 'bet_pre' 'bet_flop' 'bet_turn' 'bet_river']\n",
            "[0 1 2 3]\n",
            "(102615, 23)\n"
          ]
        }
      ]
    },
    {
      "cell_type": "code",
      "metadata": {
        "execution": {
          "iopub.status.busy": "2021-12-01T19:06:52.271894Z",
          "iopub.execute_input": "2021-12-01T19:06:52.272123Z",
          "iopub.status.idle": "2021-12-01T19:06:52.280593Z",
          "shell.execute_reply.started": "2021-12-01T19:06:52.272094Z",
          "shell.execute_reply": "2021-12-01T19:06:52.27993Z"
        },
        "trusted": true,
        "id": "QuoFUTjsie7J",
        "colab": {
          "base_uri": "https://localhost:8080/"
        },
        "outputId": "81349779-071d-413a-e9ca-613f90ced3be"
      },
      "source": [
        "print(original_labels)\n",
        "print(np.unique(np_labels))\n",
        "print(np.bincount(np_labels))"
      ],
      "execution_count": null,
      "outputs": [
        {
          "output_type": "stream",
          "name": "stdout",
          "text": [
            "['gave up' 'lost' 'took chips' 'won']\n",
            "[0 1 2 3]\n",
            "[50728 10028 31087 10772]\n"
          ]
        }
      ]
    },
    {
      "cell_type": "code",
      "metadata": {
        "id": "eQvdBXVXvGkS",
        "colab": {
          "base_uri": "https://localhost:8080/"
        },
        "outputId": "f43f8482-0ce4-45b0-944a-f3353387584a"
      },
      "source": [
        "from sklearn.model_selection import train_test_split\n",
        "from sklearn.model_selection import StratifiedShuffleSplit\n",
        "\n",
        "# no sampling\n",
        "train, test, train_labels, test_labels = train_test_split(np_features, np_labels, test_size = 0.3)\n",
        "\n",
        "###################################################################################################\n",
        "ratio = 0.1\n",
        "N = int(len(np_labels) * ratio)\n",
        "sss = StratifiedShuffleSplit(n_splits = 1, test_size = int(0.3 * N), train_size = int(0.7 * N), random_state = 0)\n",
        "\n",
        "for train_index, test_index in sss.split(np_features, np_labels):\n",
        "  train_sss, test_sss = np_features[train_index], np_features[test_index]\n",
        "  train_labels_sss, test_labels_sss = np_labels[train_index], np_labels[test_index]\n",
        "\n",
        "print(train.shape)\n",
        "print(test.shape)\n",
        "print(train_labels.shape)\n",
        "print(test_labels.shape)\n",
        "print(train_sss.shape)\n",
        "print(test_sss.shape)\n",
        "print(train_labels_sss.shape)\n",
        "print(test_labels_sss.shape)"
      ],
      "execution_count": null,
      "outputs": [
        {
          "output_type": "stream",
          "name": "stdout",
          "text": [
            "(71830, 23)\n",
            "(30785, 23)\n",
            "(71830,)\n",
            "(30785,)\n",
            "(7182, 23)\n",
            "(3078, 23)\n",
            "(7182,)\n",
            "(3078,)\n"
          ]
        }
      ]
    },
    {
      "cell_type": "markdown",
      "metadata": {
        "id": "cMwpXe41nH2G"
      },
      "source": [
        "## Out of the box"
      ]
    },
    {
      "cell_type": "markdown",
      "metadata": {
        "id": "eZmKlysRnB2y"
      },
      "source": [
        "### Dummy Classifier"
      ]
    },
    {
      "cell_type": "code",
      "metadata": {
        "id": "Lb4g3ZoqnMmK"
      },
      "source": [
        "from sklearn.dummy import DummyClassifier\n",
        "\n",
        "dc_uniform = DummyClassifier(strategy=\"uniform\")\n",
        "dc_constant_0 = DummyClassifier(strategy=\"constant\", constant=0)\n",
        "dc_constant_1 = DummyClassifier(strategy=\"constant\", constant=1)\n",
        "dc_constant_2 = DummyClassifier(strategy=\"constant\", constant=2)\n",
        "dc_constant_3 = DummyClassifier(strategy=\"constant\", constant=3)\n",
        "dc_most_frequent = DummyClassifier(strategy=\"most_frequent\")\n",
        "dc_stratified = DummyClassifier(strategy=\"stratified\")\n",
        "\n",
        "# dictionary to store all classifier without optimization preds\n",
        "predictions = {}\n",
        "\n",
        "# with the fit method we train the classifier with the train set\n",
        "# with the predict method predictions occur based on the input data\n",
        "\n",
        "dc_uniform.fit(train, train_labels)\n",
        "predictions[\"DC Uniform\"] = dc_uniform.predict(test)\n",
        "\n",
        "dc_constant_0.fit(train, train_labels)\n",
        "predictions[\"DC Constant 0\"] = dc_constant_0.predict(test)\n",
        "\n",
        "dc_constant_1.fit(train, train_labels)\n",
        "predictions[\"DC Constant 1\"] = dc_constant_1.predict(test)\n",
        "\n",
        "dc_constant_2.fit(train, train_labels)\n",
        "predictions[\"DC Constant 2\"] = dc_constant_2.predict(test)\n",
        "\n",
        "dc_constant_3.fit(train, train_labels)\n",
        "predictions[\"DC Constant 3\"] = dc_constant_3.predict(test)\n",
        "\n",
        "dc_most_frequent.fit(train, train_labels)\n",
        "predictions[\"DC Most Frequent\"] = dc_most_frequent.predict(test)\n",
        "\n",
        "dc_stratified.fit(train, train_labels)\n",
        "predictions[\"DC Stratified\"] = dc_stratified.predict(test)"
      ],
      "execution_count": null,
      "outputs": []
    },
    {
      "cell_type": "code",
      "metadata": {
        "id": "5_SuzWdFnYgX"
      },
      "source": [
        "f1 = {}\n",
        "\n",
        "def metrics_info(classifier_name, preds, isSSS):\n",
        "  if isSSS:\n",
        "    f1[classifier_name] = f1_score(test_labels_sss, preds, average = \"macro\")\n",
        "  else:\n",
        "    f1[classifier_name] = f1_score(test_labels, preds, average = \"macro\")\n",
        "\n",
        "# Dummy Metrics\n",
        "metrics_info(\"DC Uniform\", predictions[\"DC Uniform\"], False)\n",
        "metrics_info(\"DC Constant 0\", predictions[\"DC Constant 0\"], False)\n",
        "metrics_info(\"DC Constant 1\", predictions[\"DC Constant 1\"], False)\n",
        "metrics_info(\"DC Constant 2\", predictions[\"DC Constant 2\"], False)\n",
        "metrics_info(\"DC Constant 3\", predictions[\"DC Constant 3\"], False)\n",
        "metrics_info(\"DC Most Frequent\", predictions[\"DC Most Frequent\"], False)\n",
        "metrics_info(\"DC Stratified\", predictions[\"DC Stratified\"], False)"
      ],
      "execution_count": null,
      "outputs": []
    },
    {
      "cell_type": "markdown",
      "metadata": {
        "id": "cr-FbHQ4ie7L"
      },
      "source": [
        "### MLP"
      ]
    },
    {
      "cell_type": "code",
      "metadata": {
        "id": "6eD-Y-zIqJ9x"
      },
      "source": [
        "from sklearn.neural_network import MLPClassifier\n",
        "from sklearn.metrics import classification_report\n",
        "\n",
        "clf = MLPClassifier()\n",
        "clf.fit(train, train_labels)\n",
        "predictions[\"MLP\"] = clf.predict(test)\n",
        "metrics_info(\"MLP\", predictions[\"MLP\"], False)"
      ],
      "execution_count": null,
      "outputs": []
    },
    {
      "cell_type": "markdown",
      "metadata": {
        "id": "yYBOb1Gsie7J"
      },
      "source": [
        "### SVM"
      ]
    },
    {
      "cell_type": "code",
      "metadata": {
        "id": "m-glf6oXx0dE"
      },
      "source": [
        "from sklearn.svm import SVC\n",
        "\n",
        "svm = SVC()\n",
        "svm.fit(train_sss, train_labels_sss)\n",
        "predictions[\"SVM\"] = svm.predict(test_sss)\n",
        "metrics_info(\"SVM\", predictions[\"SVM\"], True)"
      ],
      "execution_count": null,
      "outputs": []
    },
    {
      "cell_type": "markdown",
      "metadata": {
        "id": "hQcPkpbqReZt"
      },
      "source": [
        "#### Αποτελέσματα και Παρατηρήσεις"
      ]
    },
    {
      "cell_type": "code",
      "metadata": {
        "colab": {
          "base_uri": "https://localhost:8080/",
          "height": 115
        },
        "id": "6DU1ST8PRx8o",
        "outputId": "83c20b1a-a34a-445a-deeb-29bdce038693"
      },
      "source": [
        "print(\"\\033[4m\\033[1mF1 Score\\033[0m\\n\")\n",
        "\n",
        "data = []\n",
        "data.append(list(f1.values()))\n",
        "\n",
        "pd.DataFrame(data, index = [\"F1 Score\"], columns = list(f1.keys()))"
      ],
      "execution_count": null,
      "outputs": [
        {
          "output_type": "stream",
          "name": "stdout",
          "text": [
            "\u001b[4m\u001b[1mF1 Score\u001b[0m\n",
            "\n"
          ]
        },
        {
          "output_type": "execute_result",
          "data": {
            "text/html": [
              "<div>\n",
              "<style scoped>\n",
              "    .dataframe tbody tr th:only-of-type {\n",
              "        vertical-align: middle;\n",
              "    }\n",
              "\n",
              "    .dataframe tbody tr th {\n",
              "        vertical-align: top;\n",
              "    }\n",
              "\n",
              "    .dataframe thead th {\n",
              "        text-align: right;\n",
              "    }\n",
              "</style>\n",
              "<table border=\"1\" class=\"dataframe\">\n",
              "  <thead>\n",
              "    <tr style=\"text-align: right;\">\n",
              "      <th></th>\n",
              "      <th>DC Uniform</th>\n",
              "      <th>DC Constant 0</th>\n",
              "      <th>DC Constant 1</th>\n",
              "      <th>DC Constant 2</th>\n",
              "      <th>DC Constant 3</th>\n",
              "      <th>DC Most Frequent</th>\n",
              "      <th>DC Stratified</th>\n",
              "      <th>MLP</th>\n",
              "      <th>SVM</th>\n",
              "    </tr>\n",
              "  </thead>\n",
              "  <tbody>\n",
              "    <tr>\n",
              "      <th>F1 Score</th>\n",
              "      <td>0.224183</td>\n",
              "      <td>0.164783</td>\n",
              "      <td>0.045354</td>\n",
              "      <td>0.115697</td>\n",
              "      <td>0.048581</td>\n",
              "      <td>0.164783</td>\n",
              "      <td>0.248766</td>\n",
              "      <td>0.786188</td>\n",
              "      <td>0.284531</td>\n",
              "    </tr>\n",
              "  </tbody>\n",
              "</table>\n",
              "</div>"
            ],
            "text/plain": [
              "          DC Uniform  DC Constant 0  ...       MLP       SVM\n",
              "F1 Score    0.224183       0.164783  ...  0.786188  0.284531\n",
              "\n",
              "[1 rows x 9 columns]"
            ]
          },
          "metadata": {},
          "execution_count": 37
        }
      ]
    },
    {
      "cell_type": "code",
      "metadata": {
        "colab": {
          "base_uri": "https://localhost:8080/",
          "height": 450
        },
        "id": "ZWVlhvZ4SC2s",
        "outputId": "17fd1137-179c-4855-b0d7-421d28bede1b"
      },
      "source": [
        "classifiers = list(f1.keys())\n",
        "scores = list(f1.values())\n",
        "\n",
        "plt.figure(figsize = (10,6))\n",
        "y_pos = np.arange(len(classifiers))\n",
        "plt.bar(y_pos, scores, align='center', alpha = 0.9)\n",
        "plt.ylim(0, 1)\n",
        "plt.xticks(y_pos, classifiers, rotation = 45)\n",
        "plt.ylabel('Score')\n",
        "plt.title('Classifiers F1 Metric')\n",
        "plt.show()"
      ],
      "execution_count": null,
      "outputs": [
        {
          "output_type": "display_data",
          "data": {
            "image/png": "[encoded data removed]",
            "text/plain": [
              "<Figure size 720x432 with 1 Axes>"
            ]
          },
          "metadata": {
            "needs_background": "light"
          }
        }
      ]
    },
    {
      "cell_type": "markdown",
      "metadata": {
        "id": "nw1wUzQmS1-k"
      },
      "source": [
        "Παρατηρήσεις\n",
        "\n",
        "Η επίδοση του SVM είναι κοντά στο 0.25 το οποίο είναι πολύ κοντά στην επίδοση που έχει ο ταξινομητής DC stratified που επιλέγει τυχαία σύμφωνα με την κατανομή των δεδομένων σε κλάσεις. Επομενως προκύπτει ότι ο SVM χωρίς βελτιστοποίηση έχει πολύ κακή επίδοση. Από την άλλη ο MLP χωρίς βελτιστοποίηση έχει αρκετά καλή επίδοση κοντά στο 0.8. Για τους υπόλοιπους ταξινομητές παρατηρείται ότι οι επιδόσεις τους είναι αναμενόμενα χαμηλές και εξαρτώνται από την κατανομή των δεδομένων σε κλάσεις."
      ]
    },
    {
      "cell_type": "markdown",
      "metadata": {
        "id": "u5xwRs30ie7L"
      },
      "source": [
        "## Βελτιστοποίηση με Optuna"
      ]
    },
    {
      "cell_type": "markdown",
      "metadata": {
        "id": "JQoQrIysH0DM"
      },
      "source": [
        "### MLP"
      ]
    },
    {
      "cell_type": "code",
      "metadata": {
        "trusted": true,
        "id": "-FH0hPn6ie7L"
      },
      "source": [
        "import optuna\n",
        "from sklearn.metrics import mean_squared_error\n",
        "from imblearn.pipeline import Pipeline\n",
        "from sklearn.feature_selection import VarianceThreshold\n",
        "from sklearn.preprocessing import StandardScaler, MinMaxScaler\n",
        "from imblearn.over_sampling import RandomOverSampler\n",
        "from sklearn.decomposition import PCA\n",
        "\n",
        "n_trials = 50\n",
        "\n",
        "def objective_mlp(trial):\n",
        "  # selector\n",
        "  train_var = train.var(axis = 0)\n",
        "  max_variance = np.max(train_var)\n",
        "  vthreshold = list(np.arange(start = 0, stop = int(max_variance) + 1, step = 25000))\n",
        "  # threshold = trial.suggest_categorical(\"threshold\", vthreshold)\n",
        "\n",
        "  # scaler\n",
        "  scaler_option = trial.suggest_categorical(\"scaler\", [\"StandardScaler\", \"MinMaxScaler\"])\n",
        "\n",
        "  # n component values (for pca)\n",
        "  n_components = [5,10,15,20,23]\n",
        "  n_comp = trial.suggest_categorical(\"n_components\", n_components)\n",
        "\n",
        "  # mlp hyperparams\n",
        "  hidden_layer_sizes = trial.suggest_categorical(\"hidden_layer_sizes\", [(50,), (100,), (200,), (50,100,), (100,50,), (100,200,), (200,50,), (50,100,200,), (200,100,50,)])\n",
        "  activation = trial.suggest_categorical(\"activation\", [\"logistic\", \"relu\", \"identity\", \"tanh\"])\n",
        "  solver = trial.suggest_categorical(\"solver\", [\"adam\", \"sgd\", \"lbfgs\"])\n",
        "  learning_rate = trial.suggest_categorical(\"learning_rate\", [\"constant\", \"invscaling\", \"adaptive\"])\n",
        "  max_iter = trial.suggest_categorical(\"max_iter\", [100, 200, 300])\n",
        "  tol = trial.suggest_categorical(\"tol\", [1e-3, 1e-4, 1e-5])\n",
        "  early_stopping = trial.suggest_categorical(\"early_stopping\", [False, True])\n",
        "  n_iter_no_change = trial.suggest_categorical(\"n_iter_no_change\", [5, 10, 15])\n",
        "\n",
        "  # create pipeline\n",
        "  selector = VarianceThreshold()\n",
        "  scaler = StandardScaler() if scaler_option == \"StandardScaler\" else MinMaxScaler()\n",
        "  ros = RandomOverSampler()\n",
        "  pca = PCA(n_components = n_comp)\n",
        "  mlp = MLPClassifier(hidden_layer_sizes = hidden_layer_sizes, \n",
        "                      activation = activation, solver = solver, \n",
        "                      learning_rate = learning_rate, max_iter = max_iter,\n",
        "                      tol = tol, early_stopping = early_stopping,\n",
        "                      n_iter_no_change = n_iter_no_change)\n",
        "  \n",
        "  pipeline = Pipeline(steps = [(\"sampler\", ros), (\"selector\", selector), (\"scaler\", scaler), (\"pca\", pca), (\"mlp\", mlp)])\n",
        "  \n",
        "  # train model\n",
        "  pipeline.fit(train, train_labels)\n",
        "\n",
        "  # prediction\n",
        "  predictions[\"MLP Opt\"] = pipeline.predict(test)\n",
        "  metrics_info(\"MLP Opt\", predictions[\"MLP Opt\"], False)\n",
        "\n",
        "  return f1[\"MLP Opt\"]"
      ],
      "execution_count": null,
      "outputs": []
    },
    {
      "cell_type": "code",
      "metadata": {
        "colab": {
          "base_uri": "https://localhost:8080/"
        },
        "id": "8HWYxheR3Lle",
        "outputId": "0013800e-da17-40ab-ee95-cefb34815833"
      },
      "source": [
        "study_mlp = optuna.create_study(direction = 'maximize')\n",
        "\n",
        "# start tuning for the hyper-parameters\n",
        "study_mlp.optimize(objective_mlp, n_trials = n_trials)"
      ],
      "execution_count": null,
      "outputs": [
        {
          "output_type": "stream",
          "name": "stderr",
          "text": [
            "\u001b[32m[I 2021-12-03 13:44:50,697]\u001b[0m A new study created in memory with name: no-name-0ada9171-27a1-4363-8370-eb61ad0e930b\u001b[0m\n",
            "\u001b[32m[I 2021-12-03 13:45:36,557]\u001b[0m Trial 0 finished with value: 0.2506113326505714 and parameters: {'scaler': 'MinMaxScaler', 'n_components': 23, 'hidden_layer_sizes': (200, 50), 'activation': 'logistic', 'solver': 'sgd', 'learning_rate': 'invscaling', 'max_iter': 100, 'tol': 0.001, 'early_stopping': False, 'n_iter_no_change': 10}. Best is trial 0 with value: 0.2506113326505714.\u001b[0m\n",
            "\u001b[32m[I 2021-12-03 13:46:03,043]\u001b[0m Trial 1 finished with value: 0.5979640399373469 and parameters: {'scaler': 'StandardScaler', 'n_components': 10, 'hidden_layer_sizes': (200, 50), 'activation': 'identity', 'solver': 'sgd', 'learning_rate': 'constant', 'max_iter': 200, 'tol': 1e-05, 'early_stopping': True, 'n_iter_no_change': 10}. Best is trial 1 with value: 0.5979640399373469.\u001b[0m\n",
            "\u001b[32m[I 2021-12-03 13:47:23,543]\u001b[0m Trial 2 finished with value: 0.5974919403508298 and parameters: {'scaler': 'MinMaxScaler', 'n_components': 10, 'hidden_layer_sizes': (50, 100, 200), 'activation': 'identity', 'solver': 'lbfgs', 'learning_rate': 'constant', 'max_iter': 100, 'tol': 1e-05, 'early_stopping': False, 'n_iter_no_change': 15}. Best is trial 1 with value: 0.5979640399373469.\u001b[0m\n",
            "\u001b[32m[I 2021-12-03 14:05:34,413]\u001b[0m Trial 3 finished with value: 0.8470336517260871 and parameters: {'scaler': 'StandardScaler', 'n_components': 15, 'hidden_layer_sizes': (50, 100, 200), 'activation': 'tanh', 'solver': 'lbfgs', 'learning_rate': 'adaptive', 'max_iter': 300, 'tol': 1e-05, 'early_stopping': True, 'n_iter_no_change': 15}. Best is trial 3 with value: 0.8470336517260871.\u001b[0m\n",
            "\u001b[32m[I 2021-12-03 14:09:11,640]\u001b[0m Trial 4 finished with value: 0.8427817847761072 and parameters: {'scaler': 'MinMaxScaler', 'n_components': 15, 'hidden_layer_sizes': (50,), 'activation': 'tanh', 'solver': 'adam', 'learning_rate': 'adaptive', 'max_iter': 300, 'tol': 1e-05, 'early_stopping': False, 'n_iter_no_change': 10}. Best is trial 3 with value: 0.8470336517260871.\u001b[0m\n",
            "\u001b[32m[I 2021-12-03 14:09:36,178]\u001b[0m Trial 5 finished with value: 0.5792014975665476 and parameters: {'scaler': 'StandardScaler', 'n_components': 10, 'hidden_layer_sizes': (100,), 'activation': 'identity', 'solver': 'sgd', 'learning_rate': 'invscaling', 'max_iter': 200, 'tol': 0.0001, 'early_stopping': True, 'n_iter_no_change': 15}. Best is trial 3 with value: 0.8470336517260871.\u001b[0m\n",
            "\u001b[32m[I 2021-12-03 14:10:55,164]\u001b[0m Trial 6 finished with value: 0.7234618983490555 and parameters: {'scaler': 'StandardScaler', 'n_components': 23, 'hidden_layer_sizes': (100, 200), 'activation': 'tanh', 'solver': 'sgd', 'learning_rate': 'invscaling', 'max_iter': 300, 'tol': 0.001, 'early_stopping': True, 'n_iter_no_change': 15}. Best is trial 3 with value: 0.8470336517260871.\u001b[0m\n",
            "\u001b[32m[I 2021-12-03 14:11:11,791]\u001b[0m Trial 7 finished with value: 0.5484038989157494 and parameters: {'scaler': 'MinMaxScaler', 'n_components': 10, 'hidden_layer_sizes': (50,), 'activation': 'tanh', 'solver': 'sgd', 'learning_rate': 'invscaling', 'max_iter': 200, 'tol': 0.0001, 'early_stopping': False, 'n_iter_no_change': 10}. Best is trial 3 with value: 0.8470336517260871.\u001b[0m\n",
            "\u001b[32m[I 2021-12-03 14:14:58,189]\u001b[0m Trial 8 finished with value: 0.7468489339277605 and parameters: {'scaler': 'MinMaxScaler', 'n_components': 10, 'hidden_layer_sizes': (200,), 'activation': 'logistic', 'solver': 'adam', 'learning_rate': 'constant', 'max_iter': 100, 'tol': 1e-05, 'early_stopping': True, 'n_iter_no_change': 10}. Best is trial 3 with value: 0.8470336517260871.\u001b[0m\n",
            "\u001b[32m[I 2021-12-03 14:16:37,776]\u001b[0m Trial 9 finished with value: 0.16478287381854612 and parameters: {'scaler': 'MinMaxScaler', 'n_components': 10, 'hidden_layer_sizes': (200, 100, 50), 'activation': 'logistic', 'solver': 'sgd', 'learning_rate': 'invscaling', 'max_iter': 300, 'tol': 1e-05, 'early_stopping': False, 'n_iter_no_change': 15}. Best is trial 3 with value: 0.8470336517260871.\u001b[0m\n",
            "\u001b[32m[I 2021-12-03 14:27:34,877]\u001b[0m Trial 10 finished with value: 0.7227967305445063 and parameters: {'scaler': 'StandardScaler', 'n_components': 5, 'hidden_layer_sizes': (50, 100, 200), 'activation': 'relu', 'solver': 'lbfgs', 'learning_rate': 'adaptive', 'max_iter': 300, 'tol': 0.0001, 'early_stopping': True, 'n_iter_no_change': 5}. Best is trial 3 with value: 0.8470336517260871.\u001b[0m\n",
            "\u001b[32m[I 2021-12-03 14:40:42,772]\u001b[0m Trial 11 finished with value: 0.8154867170737685 and parameters: {'scaler': 'StandardScaler', 'n_components': 15, 'hidden_layer_sizes': (50, 100), 'activation': 'tanh', 'solver': 'adam', 'learning_rate': 'adaptive', 'max_iter': 300, 'tol': 1e-05, 'early_stopping': False, 'n_iter_no_change': 5}. Best is trial 3 with value: 0.8470336517260871.\u001b[0m\n",
            "\u001b[32m[I 2021-12-03 14:41:46,119]\u001b[0m Trial 12 finished with value: 0.8436940703611644 and parameters: {'scaler': 'MinMaxScaler', 'n_components': 15, 'hidden_layer_sizes': (50,), 'activation': 'tanh', 'solver': 'adam', 'learning_rate': 'adaptive', 'max_iter': 300, 'tol': 1e-05, 'early_stopping': True, 'n_iter_no_change': 15}. Best is trial 3 with value: 0.8470336517260871.\u001b[0m\n",
            "\u001b[32m[I 2021-12-03 14:49:10,083]\u001b[0m Trial 13 finished with value: 0.8342339908034389 and parameters: {'scaler': 'StandardScaler', 'n_components': 15, 'hidden_layer_sizes': (100, 50), 'activation': 'tanh', 'solver': 'lbfgs', 'learning_rate': 'adaptive', 'max_iter': 300, 'tol': 1e-05, 'early_stopping': True, 'n_iter_no_change': 15}. Best is trial 3 with value: 0.8470336517260871.\u001b[0m\n",
            "\u001b[32m[I 2021-12-03 15:00:28,785]\u001b[0m Trial 14 finished with value: 0.8579336049446693 and parameters: {'scaler': 'MinMaxScaler', 'n_components': 20, 'hidden_layer_sizes': (50, 100, 200), 'activation': 'relu', 'solver': 'lbfgs', 'learning_rate': 'adaptive', 'max_iter': 300, 'tol': 1e-05, 'early_stopping': True, 'n_iter_no_change': 15}. Best is trial 14 with value: 0.8579336049446693.\u001b[0m\n",
            "\u001b[32m[I 2021-12-03 15:12:45,906]\u001b[0m Trial 15 finished with value: 0.85710739146532 and parameters: {'scaler': 'StandardScaler', 'n_components': 20, 'hidden_layer_sizes': (50, 100, 200), 'activation': 'relu', 'solver': 'lbfgs', 'learning_rate': 'adaptive', 'max_iter': 300, 'tol': 0.001, 'early_stopping': True, 'n_iter_no_change': 15}. Best is trial 14 with value: 0.8579336049446693.\u001b[0m\n",
            "\u001b[32m[I 2021-12-03 15:25:07,498]\u001b[0m Trial 16 finished with value: 0.8576115201156231 and parameters: {'scaler': 'StandardScaler', 'n_components': 20, 'hidden_layer_sizes': (50, 100, 200), 'activation': 'relu', 'solver': 'lbfgs', 'learning_rate': 'adaptive', 'max_iter': 300, 'tol': 0.001, 'early_stopping': True, 'n_iter_no_change': 5}. Best is trial 14 with value: 0.8579336049446693.\u001b[0m\n",
            "\u001b[32m[I 2021-12-03 15:36:26,412]\u001b[0m Trial 17 finished with value: 0.8529400473786883 and parameters: {'scaler': 'MinMaxScaler', 'n_components': 20, 'hidden_layer_sizes': (50, 100, 200), 'activation': 'relu', 'solver': 'lbfgs', 'learning_rate': 'adaptive', 'max_iter': 300, 'tol': 0.001, 'early_stopping': True, 'n_iter_no_change': 5}. Best is trial 14 with value: 0.8579336049446693.\u001b[0m\n",
            "\u001b[32m[I 2021-12-03 15:39:39,053]\u001b[0m Trial 18 finished with value: 0.8486974089242926 and parameters: {'scaler': 'MinMaxScaler', 'n_components': 20, 'hidden_layer_sizes': (50, 100), 'activation': 'relu', 'solver': 'lbfgs', 'learning_rate': 'adaptive', 'max_iter': 200, 'tol': 0.001, 'early_stopping': True, 'n_iter_no_change': 5}. Best is trial 14 with value: 0.8579336049446693.\u001b[0m\n",
            "\u001b[32m[I 2021-12-03 15:41:21,092]\u001b[0m Trial 19 finished with value: 0.8587677340992909 and parameters: {'scaler': 'StandardScaler', 'n_components': 20, 'hidden_layer_sizes': (100, 50), 'activation': 'relu', 'solver': 'lbfgs', 'learning_rate': 'adaptive', 'max_iter': 100, 'tol': 0.001, 'early_stopping': True, 'n_iter_no_change': 5}. Best is trial 19 with value: 0.8587677340992909.\u001b[0m\n",
            "\u001b[32m[I 2021-12-03 15:43:03,213]\u001b[0m Trial 20 finished with value: 0.8573526633008368 and parameters: {'scaler': 'StandardScaler', 'n_components': 20, 'hidden_layer_sizes': (100, 50), 'activation': 'relu', 'solver': 'lbfgs', 'learning_rate': 'constant', 'max_iter': 100, 'tol': 0.001, 'early_stopping': True, 'n_iter_no_change': 5}. Best is trial 19 with value: 0.8587677340992909.\u001b[0m\n",
            "\u001b[32m[I 2021-12-03 15:44:40,975]\u001b[0m Trial 21 finished with value: 0.8591793421371243 and parameters: {'scaler': 'StandardScaler', 'n_components': 20, 'hidden_layer_sizes': (100, 50), 'activation': 'relu', 'solver': 'lbfgs', 'learning_rate': 'adaptive', 'max_iter': 100, 'tol': 0.001, 'early_stopping': True, 'n_iter_no_change': 5}. Best is trial 21 with value: 0.8591793421371243.\u001b[0m\n",
            "\u001b[32m[I 2021-12-03 15:46:22,671]\u001b[0m Trial 22 finished with value: 0.8572546454087735 and parameters: {'scaler': 'StandardScaler', 'n_components': 20, 'hidden_layer_sizes': (100, 50), 'activation': 'relu', 'solver': 'lbfgs', 'learning_rate': 'adaptive', 'max_iter': 100, 'tol': 0.001, 'early_stopping': True, 'n_iter_no_change': 5}. Best is trial 21 with value: 0.8591793421371243.\u001b[0m\n",
            "\u001b[32m[I 2021-12-03 15:48:02,497]\u001b[0m Trial 23 finished with value: 0.8578502746638961 and parameters: {'scaler': 'StandardScaler', 'n_components': 20, 'hidden_layer_sizes': (100, 50), 'activation': 'relu', 'solver': 'lbfgs', 'learning_rate': 'adaptive', 'max_iter': 100, 'tol': 0.001, 'early_stopping': True, 'n_iter_no_change': 5}. Best is trial 21 with value: 0.8591793421371243.\u001b[0m\n",
            "\u001b[32m[I 2021-12-03 15:49:34,314]\u001b[0m Trial 24 finished with value: 0.714794748631614 and parameters: {'scaler': 'StandardScaler', 'n_components': 5, 'hidden_layer_sizes': (100, 50), 'activation': 'relu', 'solver': 'lbfgs', 'learning_rate': 'adaptive', 'max_iter': 100, 'tol': 0.001, 'early_stopping': True, 'n_iter_no_change': 5}. Best is trial 21 with value: 0.8591793421371243.\u001b[0m\n",
            "\u001b[32m[I 2021-12-03 15:53:47,242]\u001b[0m Trial 25 finished with value: 0.8577015788967534 and parameters: {'scaler': 'StandardScaler', 'n_components': 20, 'hidden_layer_sizes': (200, 100, 50), 'activation': 'relu', 'solver': 'lbfgs', 'learning_rate': 'adaptive', 'max_iter': 100, 'tol': 0.0001, 'early_stopping': True, 'n_iter_no_change': 5}. Best is trial 21 with value: 0.8591793421371243.\u001b[0m\n",
            "\u001b[32m[I 2021-12-03 15:57:06,156]\u001b[0m Trial 26 finished with value: 0.8463692036020904 and parameters: {'scaler': 'MinMaxScaler', 'n_components': 20, 'hidden_layer_sizes': (100, 200), 'activation': 'relu', 'solver': 'lbfgs', 'learning_rate': 'adaptive', 'max_iter': 100, 'tol': 0.001, 'early_stopping': True, 'n_iter_no_change': 5}. Best is trial 21 with value: 0.8591793421371243.\u001b[0m\n",
            "\u001b[32m[I 2021-12-03 15:58:13,628]\u001b[0m Trial 27 finished with value: 0.8556850887996199 and parameters: {'scaler': 'StandardScaler', 'n_components': 20, 'hidden_layer_sizes': (100,), 'activation': 'relu', 'solver': 'lbfgs', 'learning_rate': 'adaptive', 'max_iter': 100, 'tol': 0.001, 'early_stopping': True, 'n_iter_no_change': 5}. Best is trial 21 with value: 0.8591793421371243.\u001b[0m\n",
            "\u001b[32m[I 2021-12-03 16:00:01,273]\u001b[0m Trial 28 finished with value: 0.8500574436482896 and parameters: {'scaler': 'MinMaxScaler', 'n_components': 23, 'hidden_layer_sizes': (200,), 'activation': 'relu', 'solver': 'lbfgs', 'learning_rate': 'adaptive', 'max_iter': 100, 'tol': 0.001, 'early_stopping': True, 'n_iter_no_change': 5}. Best is trial 21 with value: 0.8591793421371243.\u001b[0m\n",
            "\u001b[32m[I 2021-12-03 16:05:31,883]\u001b[0m Trial 29 finished with value: 0.6693584526366063 and parameters: {'scaler': 'MinMaxScaler', 'n_components': 5, 'hidden_layer_sizes': (200, 50), 'activation': 'logistic', 'solver': 'adam', 'learning_rate': 'constant', 'max_iter': 100, 'tol': 0.0001, 'early_stopping': False, 'n_iter_no_change': 15}. Best is trial 21 with value: 0.8591793421371243.\u001b[0m\n",
            "\u001b[32m[I 2021-12-03 16:07:11,601]\u001b[0m Trial 30 finished with value: 0.8553528273058677 and parameters: {'scaler': 'StandardScaler', 'n_components': 20, 'hidden_layer_sizes': (100, 50), 'activation': 'relu', 'solver': 'lbfgs', 'learning_rate': 'invscaling', 'max_iter': 100, 'tol': 0.001, 'early_stopping': True, 'n_iter_no_change': 10}. Best is trial 21 with value: 0.8591793421371243.\u001b[0m\n",
            "\u001b[32m[I 2021-12-03 16:08:58,215]\u001b[0m Trial 31 finished with value: 0.8601226226240629 and parameters: {'scaler': 'StandardScaler', 'n_components': 20, 'hidden_layer_sizes': (100, 50), 'activation': 'relu', 'solver': 'lbfgs', 'learning_rate': 'adaptive', 'max_iter': 100, 'tol': 0.001, 'early_stopping': True, 'n_iter_no_change': 5}. Best is trial 31 with value: 0.8601226226240629.\u001b[0m\n",
            "\u001b[32m[I 2021-12-03 16:10:42,413]\u001b[0m Trial 32 finished with value: 0.858725725397017 and parameters: {'scaler': 'StandardScaler', 'n_components': 20, 'hidden_layer_sizes': (100, 50), 'activation': 'relu', 'solver': 'lbfgs', 'learning_rate': 'adaptive', 'max_iter': 100, 'tol': 0.001, 'early_stopping': True, 'n_iter_no_change': 5}. Best is trial 31 with value: 0.8601226226240629.\u001b[0m\n",
            "\u001b[32m[I 2021-12-03 16:11:44,256]\u001b[0m Trial 33 finished with value: 0.8314012692312579 and parameters: {'scaler': 'StandardScaler', 'n_components': 20, 'hidden_layer_sizes': (100, 50), 'activation': 'identity', 'solver': 'lbfgs', 'learning_rate': 'adaptive', 'max_iter': 100, 'tol': 0.001, 'early_stopping': True, 'n_iter_no_change': 5}. Best is trial 31 with value: 0.8601226226240629.\u001b[0m\n",
            "\u001b[32m[I 2021-12-03 16:13:29,788]\u001b[0m Trial 34 finished with value: 0.8644824810425425 and parameters: {'scaler': 'StandardScaler', 'n_components': 23, 'hidden_layer_sizes': (100, 50), 'activation': 'relu', 'solver': 'lbfgs', 'learning_rate': 'adaptive', 'max_iter': 100, 'tol': 0.001, 'early_stopping': True, 'n_iter_no_change': 5}. Best is trial 34 with value: 0.8644824810425425.\u001b[0m\n",
            "\u001b[32m[I 2021-12-03 16:14:34,997]\u001b[0m Trial 35 finished with value: 0.8557858979780492 and parameters: {'scaler': 'StandardScaler', 'n_components': 23, 'hidden_layer_sizes': (100, 50), 'activation': 'identity', 'solver': 'lbfgs', 'learning_rate': 'constant', 'max_iter': 100, 'tol': 0.001, 'early_stopping': True, 'n_iter_no_change': 5}. Best is trial 34 with value: 0.8644824810425425.\u001b[0m\n",
            "\u001b[32m[I 2021-12-03 16:16:20,035]\u001b[0m Trial 36 finished with value: 0.8628616781774315 and parameters: {'scaler': 'StandardScaler', 'n_components': 23, 'hidden_layer_sizes': (100, 50), 'activation': 'relu', 'solver': 'lbfgs', 'learning_rate': 'adaptive', 'max_iter': 100, 'tol': 0.001, 'early_stopping': False, 'n_iter_no_change': 5}. Best is trial 34 with value: 0.8644824810425425.\u001b[0m\n",
            "\u001b[32m[I 2021-12-03 16:24:30,987]\u001b[0m Trial 37 finished with value: 0.8509126432321743 and parameters: {'scaler': 'StandardScaler', 'n_components': 23, 'hidden_layer_sizes': (200, 50), 'activation': 'logistic', 'solver': 'sgd', 'learning_rate': 'adaptive', 'max_iter': 200, 'tol': 0.001, 'early_stopping': False, 'n_iter_no_change': 5}. Best is trial 34 with value: 0.8644824810425425.\u001b[0m\n",
            "\u001b[32m[I 2021-12-03 16:25:32,899]\u001b[0m Trial 38 finished with value: 0.8537693554646701 and parameters: {'scaler': 'StandardScaler', 'n_components': 23, 'hidden_layer_sizes': (100, 50), 'activation': 'identity', 'solver': 'lbfgs', 'learning_rate': 'invscaling', 'max_iter': 100, 'tol': 0.001, 'early_stopping': False, 'n_iter_no_change': 10}. Best is trial 34 with value: 0.8644824810425425.\u001b[0m\n",
            "\u001b[32m[I 2021-12-03 16:26:38,725]\u001b[0m Trial 39 finished with value: 0.8576103677631194 and parameters: {'scaler': 'StandardScaler', 'n_components': 23, 'hidden_layer_sizes': (100,), 'activation': 'relu', 'solver': 'sgd', 'learning_rate': 'constant', 'max_iter': 100, 'tol': 0.001, 'early_stopping': False, 'n_iter_no_change': 5}. Best is trial 34 with value: 0.8644824810425425.\u001b[0m\n",
            "\u001b[32m[I 2021-12-03 16:32:11,310]\u001b[0m Trial 40 finished with value: 0.844255179857158 and parameters: {'scaler': 'StandardScaler', 'n_components': 23, 'hidden_layer_sizes': (100, 200), 'activation': 'relu', 'solver': 'adam', 'learning_rate': 'adaptive', 'max_iter': 200, 'tol': 0.001, 'early_stopping': False, 'n_iter_no_change': 5}. Best is trial 34 with value: 0.8644824810425425.\u001b[0m\n",
            "\u001b[32m[I 2021-12-03 16:33:57,542]\u001b[0m Trial 41 finished with value: 0.864651956536862 and parameters: {'scaler': 'StandardScaler', 'n_components': 23, 'hidden_layer_sizes': (100, 50), 'activation': 'relu', 'solver': 'lbfgs', 'learning_rate': 'adaptive', 'max_iter': 100, 'tol': 0.001, 'early_stopping': False, 'n_iter_no_change': 5}. Best is trial 41 with value: 0.864651956536862.\u001b[0m\n",
            "\u001b[32m[I 2021-12-03 16:35:39,582]\u001b[0m Trial 42 finished with value: 0.8634430225115202 and parameters: {'scaler': 'StandardScaler', 'n_components': 23, 'hidden_layer_sizes': (100, 50), 'activation': 'relu', 'solver': 'lbfgs', 'learning_rate': 'adaptive', 'max_iter': 100, 'tol': 0.001, 'early_stopping': False, 'n_iter_no_change': 5}. Best is trial 41 with value: 0.864651956536862.\u001b[0m\n",
            "\u001b[32m[I 2021-12-03 16:37:21,120]\u001b[0m Trial 43 finished with value: 0.8651237502494721 and parameters: {'scaler': 'StandardScaler', 'n_components': 23, 'hidden_layer_sizes': (100, 50), 'activation': 'relu', 'solver': 'lbfgs', 'learning_rate': 'adaptive', 'max_iter': 100, 'tol': 0.001, 'early_stopping': False, 'n_iter_no_change': 5}. Best is trial 43 with value: 0.8651237502494721.\u001b[0m\n",
            "\u001b[32m[I 2021-12-03 16:39:03,051]\u001b[0m Trial 44 finished with value: 0.8648268167293969 and parameters: {'scaler': 'StandardScaler', 'n_components': 23, 'hidden_layer_sizes': (100, 50), 'activation': 'relu', 'solver': 'lbfgs', 'learning_rate': 'adaptive', 'max_iter': 100, 'tol': 0.0001, 'early_stopping': False, 'n_iter_no_change': 10}. Best is trial 43 with value: 0.8651237502494721.\u001b[0m\n",
            "\u001b[32m[I 2021-12-03 16:40:09,436]\u001b[0m Trial 45 finished with value: 0.2614175292358402 and parameters: {'scaler': 'StandardScaler', 'n_components': 23, 'hidden_layer_sizes': (200, 100, 50), 'activation': 'logistic', 'solver': 'sgd', 'learning_rate': 'invscaling', 'max_iter': 100, 'tol': 0.0001, 'early_stopping': False, 'n_iter_no_change': 10}. Best is trial 43 with value: 0.8651237502494721.\u001b[0m\n",
            "\u001b[32m[I 2021-12-03 16:42:01,180]\u001b[0m Trial 46 finished with value: 0.8647600439043606 and parameters: {'scaler': 'StandardScaler', 'n_components': 23, 'hidden_layer_sizes': (200,), 'activation': 'relu', 'solver': 'lbfgs', 'learning_rate': 'adaptive', 'max_iter': 100, 'tol': 0.0001, 'early_stopping': False, 'n_iter_no_change': 10}. Best is trial 43 with value: 0.8651237502494721.\u001b[0m\n",
            "\u001b[32m[I 2021-12-03 16:44:27,226]\u001b[0m Trial 47 finished with value: 0.8602545609299076 and parameters: {'scaler': 'StandardScaler', 'n_components': 23, 'hidden_layer_sizes': (200,), 'activation': 'identity', 'solver': 'adam', 'learning_rate': 'adaptive', 'max_iter': 100, 'tol': 0.0001, 'early_stopping': False, 'n_iter_no_change': 10}. Best is trial 43 with value: 0.8651237502494721.\u001b[0m\n",
            "\u001b[32m[I 2021-12-03 16:50:41,551]\u001b[0m Trial 48 finished with value: 0.8525730896342939 and parameters: {'scaler': 'StandardScaler', 'n_components': 23, 'hidden_layer_sizes': (200,), 'activation': 'tanh', 'solver': 'lbfgs', 'learning_rate': 'adaptive', 'max_iter': 200, 'tol': 0.0001, 'early_stopping': False, 'n_iter_no_change': 10}. Best is trial 43 with value: 0.8651237502494721.\u001b[0m\n",
            "\u001b[32m[I 2021-12-03 16:52:36,774]\u001b[0m Trial 49 finished with value: 0.8604260332208902 and parameters: {'scaler': 'StandardScaler', 'n_components': 23, 'hidden_layer_sizes': (200,), 'activation': 'relu', 'solver': 'lbfgs', 'learning_rate': 'adaptive', 'max_iter': 100, 'tol': 0.0001, 'early_stopping': False, 'n_iter_no_change': 10}. Best is trial 43 with value: 0.8651237502494721.\u001b[0m\n"
          ]
        }
      ]
    },
    {
      "cell_type": "code",
      "metadata": {
        "id": "3cDjTMLbJpgM",
        "colab": {
          "base_uri": "https://localhost:8080/"
        },
        "outputId": "46a0abfb-c5ea-41a2-adcf-c17aabecc329"
      },
      "source": [
        "# save best f1 for mlp classifier\n",
        "f1[\"MLP Opt\"] = study_mlp.best_trial.value\n",
        "\n",
        "print(\"\\033[4m\\033[1mParams for f1 score - MLP\\033[0m\\n\")\n",
        "study_mlp.best_trial.params"
      ],
      "execution_count": null,
      "outputs": [
        {
          "output_type": "stream",
          "name": "stdout",
          "text": [
            "\u001b[4m\u001b[1mParams for f1 score - MLP\u001b[0m\n",
            "\n"
          ]
        },
        {
          "output_type": "execute_result",
          "data": {
            "text/plain": [
              "{'activation': 'relu',\n",
              " 'early_stopping': False,\n",
              " 'hidden_layer_sizes': (100, 50),\n",
              " 'learning_rate': 'adaptive',\n",
              " 'max_iter': 100,\n",
              " 'n_components': 23,\n",
              " 'n_iter_no_change': 5,\n",
              " 'scaler': 'StandardScaler',\n",
              " 'solver': 'lbfgs',\n",
              " 'tol': 0.001}"
            ]
          },
          "metadata": {},
          "execution_count": 46
        }
      ]
    },
    {
      "cell_type": "markdown",
      "metadata": {
        "id": "c89mJXg52T16"
      },
      "source": [
        "#### Παρατηρήσεις για τον MLP\n",
        "\n",
        "Στην περίπτωση του MLP έγιναν δοκιμές χρησιμοποιώντας ολόκληρο το dataset. Έγιναν δοκιμές για πολλές υπερπαραμέτρους με τη διαδικασία που αναφέρεται πιο κάτω και στο τέλος κρατήθηκαν οι εξής: hidden_layer_sizes, activation, solver, learning_rate, max_iter, tol, early_stopping, n_iter, no_change. Αξίζει να σημειωθεί ότι έγιναν δοκιμές με πιο πιο περιορισμένα εύρη τιμών απο αυτά που φαίνονται πιο πάνω και η επίδοση δεν ξεπερνούσε το 0.87, πιο πάνω φαίνεται μια πιο γενική προσπάθεια που και πάλι δεν κατάφερε να ξεπεράσει το ταβάνι του 0.87.\n",
        "\n",
        "\n",
        "* Για το pipeline τελικά επιλέχθηκε η σειρά  sampler > selector > scaler > pca > classifier αφού έδινε καλύτερα αποτελέσματα\n",
        "* O sampler χρησιμοποιήθηκε διότι το αρχικό dataset δεν είναι ισορροπημένο\n",
        "* Για τον selector παρατηρείται ότι δεν αφαίρεσε κανένα χαρακτηριστικό αφού στις περισσότερες καλές δοκιμές τα διατηρεί όλα επομένως ήταν όλα χρήσιμα\n",
        "* Για τον scaler χρησιμοποιήθηκαν MinMax (κανονικοποίηση δεδομένων στο [-1,1]) και standard (κανονικοποίηση δεδομένων στο [0,1]), γενικά κανένας από τους δύο δεν φάνηκε να υπερέχει σημαντικά αλλά ο βέλτιστος ταξινομητής χρησιμοποιεί τον StandardScaler\n",
        "* O pca χρησιμοποιείται για να μειωθεί η διαστατικότητα του dataset η οποία είναι μεγάλη διότι κάποια χαρακτηριστικά έχουν μεγάλο εύρος τιμών. Τέτοια χαρακτηριστικά είναι ο τρόπος παιχνιδιού του παίκτη σε κάθε γύρο πονταρίσματος (χαρακτηριστικά action). Το ίδιο ισχύει για το χαρακτηριστικό name και το χαρακτηριστικό board_flop (52^3 πιθανές τιμές).\n",
        "* Για την υπερπαράμετρο n_components παρατηρήσαμε ότι η επίδοση βελτιώνεται για τιμή ίση με 23\n",
        "* Η Relu είχε σταθερά καλύτερη επίδοση από όλες τις activation functions του hidden layer\n",
        "* Για το hidden_layer_size οι τιμές που δοκιμάσαμε δεν είχαν μεγάλη επίδραση στην επίδοση"
      ]
    },
    {
      "cell_type": "markdown",
      "metadata": {
        "id": "1lVWbvEIIMp9"
      },
      "source": [
        "### SVM"
      ]
    },
    {
      "cell_type": "code",
      "metadata": {
        "id": "gwgYGsEQIN06"
      },
      "source": [
        "def objective_svm(trial):\n",
        "  # selector\n",
        "  train_var = train.var(axis = 0)\n",
        "  max_variance = np.max(train_var)\n",
        "  vthreshold = list(np.arange(start = 0, stop = int(max_variance) + 1, step = 25))\n",
        "  threshold = trial.suggest_categorical(\"threshold\", vthreshold)\n",
        "\n",
        "  # scaler\n",
        "  scaler_option = trial.suggest_categorical(\"scaler\", [\"StandardScaler\"])\n",
        "\n",
        "  # n component values (for pca)\n",
        "  n_components = [23]\n",
        "  n_comp = trial.suggest_categorical(\"n_components\", n_components)\n",
        "\n",
        "  # svm hyperparams\n",
        "  C = trial.suggest_loguniform(\"C\", 1E-10, 1E10)\n",
        "  kernel = trial.suggest_categorical(\"kernel\", [\"poly\"])\n",
        "  degree = trial.suggest_int(\"degree\", 5, 5)\n",
        "  gamma = trial.suggest_loguniform(\"gamma\", 20.0, 100.0)\n",
        "  tol = trial.suggest_categorical(\"tol\", [1e-3, 1e-4, 1e-5])\n",
        "  max_iter = trial.suggest_categorical(\"max_iter\", [3000])\n",
        "  \n",
        "  # create pipeline\n",
        "  selector = VarianceThreshold()\n",
        "  scaler = StandardScaler()\n",
        "  ros = RandomOverSampler()\n",
        "  pca = PCA(n_components = n_comp)\n",
        "  svm = SVC(C = C, kernel = kernel, degree = degree, \n",
        "            gamma = gamma, \n",
        "            tol = tol, max_iter = max_iter)\n",
        "  \n",
        "  pipeline = Pipeline(steps = [(\"selector\", selector), (\"scaler\", scaler), (\"sampler\", ros), (\"pca\", pca), (\"svm\", svm)])\n",
        "  \n",
        "  # train model\n",
        "  pipeline.fit(train_sss, train_labels_sss)\n",
        "\n",
        "  # prediction\n",
        "  predictions[\"SVM Opt\"] = pipeline.predict(test_sss)\n",
        "  metrics_info(\"SVM Opt\", predictions[\"SVM Opt\"], True)\n",
        "\n",
        "  return f1[\"SVM Opt\"]"
      ],
      "execution_count": null,
      "outputs": []
    },
    {
      "cell_type": "code",
      "metadata": {
        "id": "NIfWDfMIJCkO",
        "colab": {
          "base_uri": "https://localhost:8080/"
        },
        "outputId": "cdfd0e52-3e51-47f3-960d-19295ef5aec1"
      },
      "source": [
        "study_svm = optuna.create_study(direction = 'maximize')\n",
        "\n",
        "# start tuning for the hyper-parameters\n",
        "study_svm.optimize(objective_svm, n_trials = n_trials)"
      ],
      "execution_count": null,
      "outputs": [
        {
          "output_type": "stream",
          "name": "stderr",
          "text": [
            "\u001b[32m[I 2021-12-03 19:25:55,262]\u001b[0m A new study created in memory with name: no-name-79a0c19b-bb21-4dc7-ab4c-5a8adb9db909\u001b[0m\n",
            "\u001b[32m[I 2021-12-03 19:26:23,200]\u001b[0m Trial 0 finished with value: 0.805448623122686 and parameters: {'threshold': 10239900, 'scaler': 'StandardScaler', 'n_components': 23, 'C': 8.311645264833186e-05, 'kernel': 'poly', 'degree': 5, 'gamma': 41.66585210140465, 'tol': 0.001, 'max_iter': 3000}. Best is trial 0 with value: 0.805448623122686.\u001b[0m\n",
            "\u001b[32m[I 2021-12-03 19:26:40,920]\u001b[0m Trial 1 finished with value: 0.8074324304839025 and parameters: {'threshold': 23468750, 'scaler': 'StandardScaler', 'n_components': 23, 'C': 0.00024389357635170997, 'kernel': 'poly', 'degree': 5, 'gamma': 55.7975522678715, 'tol': 0.001, 'max_iter': 3000}. Best is trial 1 with value: 0.8074324304839025.\u001b[0m\n",
            "\u001b[32m[I 2021-12-03 19:26:58,192]\u001b[0m Trial 2 finished with value: 0.7928215419580842 and parameters: {'threshold': 33157625, 'scaler': 'StandardScaler', 'n_components': 23, 'C': 0.15459203800435892, 'kernel': 'poly', 'degree': 5, 'gamma': 69.9357333884794, 'tol': 0.0001, 'max_iter': 3000}. Best is trial 1 with value: 0.8074324304839025.\u001b[0m\n",
            "\u001b[32m[I 2021-12-03 19:27:15,508]\u001b[0m Trial 3 finished with value: 0.8012017922996301 and parameters: {'threshold': 46359200, 'scaler': 'StandardScaler', 'n_components': 23, 'C': 120295722.8045494, 'kernel': 'poly', 'degree': 5, 'gamma': 99.92662974041009, 'tol': 0.001, 'max_iter': 3000}. Best is trial 1 with value: 0.8074324304839025.\u001b[0m\n",
            "\u001b[32m[I 2021-12-03 19:27:32,996]\u001b[0m Trial 4 finished with value: 0.7969058835937965 and parameters: {'threshold': 10730775, 'scaler': 'StandardScaler', 'n_components': 23, 'C': 132881.81865190755, 'kernel': 'poly', 'degree': 5, 'gamma': 49.70571538173829, 'tol': 1e-05, 'max_iter': 3000}. Best is trial 1 with value: 0.8074324304839025.\u001b[0m\n",
            "\u001b[32m[I 2021-12-03 19:27:50,526]\u001b[0m Trial 5 finished with value: 0.7910000571665319 and parameters: {'threshold': 21776975, 'scaler': 'StandardScaler', 'n_components': 23, 'C': 137.56374146184908, 'kernel': 'poly', 'degree': 5, 'gamma': 76.03727327058, 'tol': 0.001, 'max_iter': 3000}. Best is trial 1 with value: 0.8074324304839025.\u001b[0m\n",
            "\u001b[32m[I 2021-12-03 19:28:08,042]\u001b[0m Trial 6 finished with value: 0.8012166995513538 and parameters: {'threshold': 42109975, 'scaler': 'StandardScaler', 'n_components': 23, 'C': 4.15064182831563e-09, 'kernel': 'poly', 'degree': 5, 'gamma': 45.50439580782653, 'tol': 1e-05, 'max_iter': 3000}. Best is trial 1 with value: 0.8074324304839025.\u001b[0m\n",
            "\u001b[32m[I 2021-12-03 19:28:25,089]\u001b[0m Trial 7 finished with value: 0.8159989863959856 and parameters: {'threshold': 39105400, 'scaler': 'StandardScaler', 'n_components': 23, 'C': 345056701.5084512, 'kernel': 'poly', 'degree': 5, 'gamma': 39.634540893369966, 'tol': 0.0001, 'max_iter': 3000}. Best is trial 7 with value: 0.8159989863959856.\u001b[0m\n",
            "\u001b[32m[I 2021-12-03 19:28:42,322]\u001b[0m Trial 8 finished with value: 0.8080673847291701 and parameters: {'threshold': 28818075, 'scaler': 'StandardScaler', 'n_components': 23, 'C': 9674698633.082775, 'kernel': 'poly', 'degree': 5, 'gamma': 43.968979722704766, 'tol': 0.001, 'max_iter': 3000}. Best is trial 7 with value: 0.8159989863959856.\u001b[0m\n",
            "\u001b[32m[I 2021-12-03 19:28:59,662]\u001b[0m Trial 9 finished with value: 0.7984082930549864 and parameters: {'threshold': 10136725, 'scaler': 'StandardScaler', 'n_components': 23, 'C': 825763.3196459155, 'kernel': 'poly', 'degree': 5, 'gamma': 67.38816714486447, 'tol': 0.001, 'max_iter': 3000}. Best is trial 7 with value: 0.8159989863959856.\u001b[0m\n",
            "\u001b[32m[I 2021-12-03 19:29:17,372]\u001b[0m Trial 10 finished with value: 0.8157816027347189 and parameters: {'threshold': 38868025, 'scaler': 'StandardScaler', 'n_components': 23, 'C': 156.09241284395407, 'kernel': 'poly', 'degree': 5, 'gamma': 26.304876996630377, 'tol': 0.0001, 'max_iter': 3000}. Best is trial 7 with value: 0.8159989863959856.\u001b[0m\n",
            "\u001b[32m[I 2021-12-03 19:29:35,204]\u001b[0m Trial 11 finished with value: 0.8122258599132275 and parameters: {'threshold': 23701625, 'scaler': 'StandardScaler', 'n_components': 23, 'C': 314.8663389127949, 'kernel': 'poly', 'degree': 5, 'gamma': 26.006577997107573, 'tol': 0.0001, 'max_iter': 3000}. Best is trial 7 with value: 0.8159989863959856.\u001b[0m\n",
            "\u001b[32m[I 2021-12-03 19:29:53,119]\u001b[0m Trial 12 finished with value: 0.8154505699670621 and parameters: {'threshold': 35753025, 'scaler': 'StandardScaler', 'n_components': 23, 'C': 44077.57899275246, 'kernel': 'poly', 'degree': 5, 'gamma': 27.347534500480318, 'tol': 0.0001, 'max_iter': 3000}. Best is trial 7 with value: 0.8159989863959856.\u001b[0m\n",
            "\u001b[32m[I 2021-12-03 19:30:11,119]\u001b[0m Trial 13 finished with value: 0.813905745097225 and parameters: {'threshold': 16313700, 'scaler': 'StandardScaler', 'n_components': 23, 'C': 0.11879137534406334, 'kernel': 'poly', 'degree': 5, 'gamma': 21.335605206723216, 'tol': 0.0001, 'max_iter': 3000}. Best is trial 7 with value: 0.8159989863959856.\u001b[0m\n",
            "\u001b[32m[I 2021-12-03 19:30:28,968]\u001b[0m Trial 14 finished with value: 0.8133924063751116 and parameters: {'threshold': 39813675, 'scaler': 'StandardScaler', 'n_components': 23, 'C': 5691144126.525838, 'kernel': 'poly', 'degree': 5, 'gamma': 32.47603437292979, 'tol': 0.0001, 'max_iter': 3000}. Best is trial 7 with value: 0.8159989863959856.\u001b[0m\n",
            "\u001b[32m[I 2021-12-03 19:30:46,880]\u001b[0m Trial 15 finished with value: 0.8151757923875502 and parameters: {'threshold': 14577275, 'scaler': 'StandardScaler', 'n_components': 23, 'C': 158.5952173535, 'kernel': 'poly', 'degree': 5, 'gamma': 34.71537995230676, 'tol': 0.0001, 'max_iter': 3000}. Best is trial 7 with value: 0.8159989863959856.\u001b[0m\n",
            "\u001b[32m[I 2021-12-03 19:31:05,277]\u001b[0m Trial 16 finished with value: 0.8120456336222116 and parameters: {'threshold': 8176800, 'scaler': 'StandardScaler', 'n_components': 23, 'C': 21230384.83239321, 'kernel': 'poly', 'degree': 5, 'gamma': 34.74502085895179, 'tol': 0.0001, 'max_iter': 3000}. Best is trial 7 with value: 0.8159989863959856.\u001b[0m\n",
            "\u001b[32m[I 2021-12-03 19:31:23,392]\u001b[0m Trial 17 finished with value: 0.8164631254874275 and parameters: {'threshold': 23029100, 'scaler': 'StandardScaler', 'n_components': 23, 'C': 1.9012412995586912e-09, 'kernel': 'poly', 'degree': 5, 'gamma': 20.83881006000327, 'tol': 0.0001, 'max_iter': 3000}. Best is trial 17 with value: 0.8164631254874275.\u001b[0m\n",
            "\u001b[32m[I 2021-12-03 19:31:41,488]\u001b[0m Trial 18 finished with value: 0.7818734676531476 and parameters: {'threshold': 42376000, 'scaler': 'StandardScaler', 'n_components': 23, 'C': 2.0105278040199775e-10, 'kernel': 'poly', 'degree': 5, 'gamma': 20.045885461591805, 'tol': 1e-05, 'max_iter': 3000}. Best is trial 17 with value: 0.8164631254874275.\u001b[0m\n",
            "\u001b[32m[I 2021-12-03 19:31:59,493]\u001b[0m Trial 19 finished with value: 0.8103265790568529 and parameters: {'threshold': 20055300, 'scaler': 'StandardScaler', 'n_components': 23, 'C': 2.1025610756332788e-07, 'kernel': 'poly', 'degree': 5, 'gamma': 22.90308167383385, 'tol': 0.0001, 'max_iter': 3000}. Best is trial 17 with value: 0.8164631254874275.\u001b[0m\n",
            "\u001b[32m[I 2021-12-03 19:32:17,300]\u001b[0m Trial 20 finished with value: 0.8102828629465075 and parameters: {'threshold': 39734550, 'scaler': 'StandardScaler', 'n_components': 23, 'C': 0.00015429233385922823, 'kernel': 'poly', 'degree': 5, 'gamma': 29.207182272192433, 'tol': 0.0001, 'max_iter': 3000}. Best is trial 17 with value: 0.8164631254874275.\u001b[0m\n",
            "\u001b[32m[I 2021-12-03 19:32:35,558]\u001b[0m Trial 21 finished with value: 0.8017796462177037 and parameters: {'threshold': 24727000, 'scaler': 'StandardScaler', 'n_components': 23, 'C': 6.554245263833404e-07, 'kernel': 'poly', 'degree': 5, 'gamma': 24.80949421386253, 'tol': 0.0001, 'max_iter': 3000}. Best is trial 17 with value: 0.8164631254874275.\u001b[0m\n",
            "\u001b[32m[I 2021-12-03 19:32:53,646]\u001b[0m Trial 22 finished with value: 0.808870567691264 and parameters: {'threshold': 10016500, 'scaler': 'StandardScaler', 'n_components': 23, 'C': 2.3572414942327393, 'kernel': 'poly', 'degree': 5, 'gamma': 30.801779604485677, 'tol': 0.0001, 'max_iter': 3000}. Best is trial 17 with value: 0.8164631254874275.\u001b[0m\n",
            "\u001b[32m[I 2021-12-03 19:33:11,857]\u001b[0m Trial 23 finished with value: 0.810149075452856 and parameters: {'threshold': 16672800, 'scaler': 'StandardScaler', 'n_components': 23, 'C': 0.01350138146078014, 'kernel': 'poly', 'degree': 5, 'gamma': 37.42179996157161, 'tol': 0.0001, 'max_iter': 3000}. Best is trial 17 with value: 0.8164631254874275.\u001b[0m\n",
            "\u001b[32m[I 2021-12-03 19:33:30,185]\u001b[0m Trial 24 finished with value: 0.8156382907808466 and parameters: {'threshold': 35928700, 'scaler': 'StandardScaler', 'n_components': 23, 'C': 1756.9000089384908, 'kernel': 'poly', 'degree': 5, 'gamma': 24.365448924760294, 'tol': 0.0001, 'max_iter': 3000}. Best is trial 17 with value: 0.8164631254874275.\u001b[0m\n",
            "\u001b[32m[I 2021-12-03 19:33:48,411]\u001b[0m Trial 25 finished with value: 0.8163413450611823 and parameters: {'threshold': 11611550, 'scaler': 'StandardScaler', 'n_components': 23, 'C': 1.6576233658303703, 'kernel': 'poly', 'degree': 5, 'gamma': 20.081396875434, 'tol': 1e-05, 'max_iter': 3000}. Best is trial 17 with value: 0.8164631254874275.\u001b[0m\n",
            "\u001b[32m[I 2021-12-03 19:34:06,641]\u001b[0m Trial 26 finished with value: 0.8108184080959208 and parameters: {'threshold': 20343825, 'scaler': 'StandardScaler', 'n_components': 23, 'C': 7.227395006229809e-07, 'kernel': 'poly', 'degree': 5, 'gamma': 21.98199597080298, 'tol': 1e-05, 'max_iter': 3000}. Best is trial 17 with value: 0.8164631254874275.\u001b[0m\n",
            "\u001b[32m[I 2021-12-03 19:34:24,868]\u001b[0m Trial 27 finished with value: 0.8059941970228641 and parameters: {'threshold': 42674400, 'scaler': 'StandardScaler', 'n_components': 23, 'C': 0.0028909050043191098, 'kernel': 'poly', 'degree': 5, 'gamma': 54.85886833409498, 'tol': 1e-05, 'max_iter': 3000}. Best is trial 17 with value: 0.8164631254874275.\u001b[0m\n",
            "\u001b[32m[I 2021-12-03 19:34:43,239]\u001b[0m Trial 28 finished with value: 0.7917871901931928 and parameters: {'threshold': 6372550, 'scaler': 'StandardScaler', 'n_components': 23, 'C': 4.040748022339107, 'kernel': 'poly', 'degree': 5, 'gamma': 20.328558236631043, 'tol': 1e-05, 'max_iter': 3000}. Best is trial 17 with value: 0.8164631254874275.\u001b[0m\n",
            "\u001b[32m[I 2021-12-03 19:35:01,609]\u001b[0m Trial 29 finished with value: 0.8012355502353375 and parameters: {'threshold': 44037275, 'scaler': 'StandardScaler', 'n_components': 23, 'C': 1.0412450767626426e-05, 'kernel': 'poly', 'degree': 5, 'gamma': 38.427044296910495, 'tol': 1e-05, 'max_iter': 3000}. Best is trial 17 with value: 0.8164631254874275.\u001b[0m\n",
            "\u001b[32m[I 2021-12-03 19:35:19,942]\u001b[0m Trial 30 finished with value: 0.8119983705227956 and parameters: {'threshold': 12380175, 'scaler': 'StandardScaler', 'n_components': 23, 'C': 5.188507929135358e-09, 'kernel': 'poly', 'degree': 5, 'gamma': 28.918081824203604, 'tol': 1e-05, 'max_iter': 3000}. Best is trial 17 with value: 0.8164631254874275.\u001b[0m\n",
            "\u001b[32m[I 2021-12-03 19:35:38,291]\u001b[0m Trial 31 finished with value: 0.7962637097578746 and parameters: {'threshold': 6292450, 'scaler': 'StandardScaler', 'n_components': 23, 'C': 13.818651519631015, 'kernel': 'poly', 'degree': 5, 'gamma': 23.448187038687383, 'tol': 0.0001, 'max_iter': 3000}. Best is trial 17 with value: 0.8164631254874275.\u001b[0m\n",
            "\u001b[32m[I 2021-12-03 19:35:56,571]\u001b[0m Trial 32 finished with value: 0.8124148771245921 and parameters: {'threshold': 30265200, 'scaler': 'StandardScaler', 'n_components': 23, 'C': 10550358.851377787, 'kernel': 'poly', 'degree': 5, 'gamma': 26.511756504414787, 'tol': 0.0001, 'max_iter': 3000}. Best is trial 17 with value: 0.8164631254874275.\u001b[0m\n",
            "\u001b[32m[I 2021-12-03 19:36:15,304]\u001b[0m Trial 33 finished with value: 0.806992689880215 and parameters: {'threshold': 39854525, 'scaler': 'StandardScaler', 'n_components': 23, 'C': 0.003311274584961001, 'kernel': 'poly', 'degree': 5, 'gamma': 22.799806238872552, 'tol': 0.0001, 'max_iter': 3000}. Best is trial 17 with value: 0.8164631254874275.\u001b[0m\n",
            "\u001b[32m[I 2021-12-03 19:36:33,786]\u001b[0m Trial 34 finished with value: 0.8111134107056234 and parameters: {'threshold': 27601075, 'scaler': 'StandardScaler', 'n_components': 23, 'C': 325629763.5595805, 'kernel': 'poly', 'degree': 5, 'gamma': 20.066523125303853, 'tol': 0.0001, 'max_iter': 3000}. Best is trial 17 with value: 0.8164631254874275.\u001b[0m\n",
            "\u001b[32m[I 2021-12-03 19:36:52,381]\u001b[0m Trial 35 finished with value: 0.817789947437976 and parameters: {'threshold': 21618525, 'scaler': 'StandardScaler', 'n_components': 23, 'C': 3866.0436182120034, 'kernel': 'poly', 'degree': 5, 'gamma': 27.302131698979064, 'tol': 0.001, 'max_iter': 3000}. Best is trial 35 with value: 0.817789947437976.\u001b[0m\n",
            "\u001b[32m[I 2021-12-03 19:37:10,852]\u001b[0m Trial 36 finished with value: 0.8134653408648566 and parameters: {'threshold': 30115875, 'scaler': 'StandardScaler', 'n_components': 23, 'C': 9847.301378999604, 'kernel': 'poly', 'degree': 5, 'gamma': 39.71336548216647, 'tol': 0.001, 'max_iter': 3000}. Best is trial 35 with value: 0.817789947437976.\u001b[0m\n",
            "\u001b[32m[I 2021-12-03 19:37:29,417]\u001b[0m Trial 37 finished with value: 0.8064631642491944 and parameters: {'threshold': 35911375, 'scaler': 'StandardScaler', 'n_components': 23, 'C': 0.10561459125337185, 'kernel': 'poly', 'degree': 5, 'gamma': 88.40293543404623, 'tol': 0.001, 'max_iter': 3000}. Best is trial 35 with value: 0.817789947437976.\u001b[0m\n",
            "\u001b[32m[I 2021-12-03 19:37:48,133]\u001b[0m Trial 38 finished with value: 0.8129849340141928 and parameters: {'threshold': 28095150, 'scaler': 'StandardScaler', 'n_components': 23, 'C': 1781451.0816889605, 'kernel': 'poly', 'degree': 5, 'gamma': 49.324914649255575, 'tol': 0.001, 'max_iter': 3000}. Best is trial 35 with value: 0.817789947437976.\u001b[0m\n",
            "\u001b[32m[I 2021-12-03 19:38:06,643]\u001b[0m Trial 39 finished with value: 0.8143861022003385 and parameters: {'threshold': 27071250, 'scaler': 'StandardScaler', 'n_components': 23, 'C': 383302.457005753, 'kernel': 'poly', 'degree': 5, 'gamma': 60.07165577889412, 'tol': 0.001, 'max_iter': 3000}. Best is trial 35 with value: 0.817789947437976.\u001b[0m\n",
            "\u001b[32m[I 2021-12-03 19:38:25,258]\u001b[0m Trial 40 finished with value: 0.8136029099529131 and parameters: {'threshold': 36840875, 'scaler': 'StandardScaler', 'n_components': 23, 'C': 24579.59018918067, 'kernel': 'poly', 'degree': 5, 'gamma': 31.178047891233934, 'tol': 0.001, 'max_iter': 3000}. Best is trial 35 with value: 0.817789947437976.\u001b[0m\n",
            "\u001b[32m[I 2021-12-03 19:38:45,442]\u001b[0m Trial 41 finished with value: 0.8196529419752471 and parameters: {'threshold': 34371175, 'scaler': 'StandardScaler', 'n_components': 23, 'C': 29.130322945905586, 'kernel': 'poly', 'degree': 5, 'gamma': 27.26826266225984, 'tol': 1e-05, 'max_iter': 3000}. Best is trial 41 with value: 0.8196529419752471.\u001b[0m\n",
            "\u001b[32m[I 2021-12-03 19:39:04,218]\u001b[0m Trial 42 finished with value: 0.8152217985617906 and parameters: {'threshold': 33032625, 'scaler': 'StandardScaler', 'n_components': 23, 'C': 43.25330492396149, 'kernel': 'poly', 'degree': 5, 'gamma': 28.209711563655798, 'tol': 1e-05, 'max_iter': 3000}. Best is trial 41 with value: 0.8196529419752471.\u001b[0m\n",
            "\u001b[32m[I 2021-12-03 19:39:23,244]\u001b[0m Trial 43 finished with value: 0.7788140172950774 and parameters: {'threshold': 15910325, 'scaler': 'StandardScaler', 'n_components': 23, 'C': 3035.5323079070567, 'kernel': 'poly', 'degree': 5, 'gamma': 24.934056548359834, 'tol': 1e-05, 'max_iter': 3000}. Best is trial 41 with value: 0.8196529419752471.\u001b[0m\n",
            "\u001b[32m[I 2021-12-03 19:39:42,156]\u001b[0m Trial 44 finished with value: 0.8159701597163838 and parameters: {'threshold': 17917800, 'scaler': 'StandardScaler', 'n_components': 23, 'C': 0.5216160661454665, 'kernel': 'poly', 'degree': 5, 'gamma': 21.589590316761154, 'tol': 1e-05, 'max_iter': 3000}. Best is trial 41 with value: 0.8196529419752471.\u001b[0m\n",
            "\u001b[32m[I 2021-12-03 19:40:01,018]\u001b[0m Trial 45 finished with value: 0.8064083911315968 and parameters: {'threshold': 20377650, 'scaler': 'StandardScaler', 'n_components': 23, 'C': 0.03024196170514207, 'kernel': 'poly', 'degree': 5, 'gamma': 43.23863130968026, 'tol': 1e-05, 'max_iter': 3000}. Best is trial 41 with value: 0.8196529419752471.\u001b[0m\n",
            "\u001b[32m[I 2021-12-03 19:40:19,885]\u001b[0m Trial 46 finished with value: 0.8133924063751116 and parameters: {'threshold': 29885275, 'scaler': 'StandardScaler', 'n_components': 23, 'C': 1456344152.4535472, 'kernel': 'poly', 'degree': 5, 'gamma': 34.49678094245648, 'tol': 0.001, 'max_iter': 3000}. Best is trial 41 with value: 0.8196529419752471.\u001b[0m\n",
            "\u001b[32m[I 2021-12-03 19:40:38,792]\u001b[0m Trial 47 finished with value: 0.8020266348513542 and parameters: {'threshold': 16240400, 'scaler': 'StandardScaler', 'n_components': 23, 'C': 474.621878075694, 'kernel': 'poly', 'degree': 5, 'gamma': 46.80333222342964, 'tol': 1e-05, 'max_iter': 3000}. Best is trial 41 with value: 0.8196529419752471.\u001b[0m\n",
            "\u001b[32m[I 2021-12-03 19:40:57,583]\u001b[0m Trial 48 finished with value: 0.8128856666051018 and parameters: {'threshold': 15528950, 'scaler': 'StandardScaler', 'n_components': 23, 'C': 12.863576483083655, 'kernel': 'poly', 'degree': 5, 'gamma': 25.747143348982206, 'tol': 0.001, 'max_iter': 3000}. Best is trial 41 with value: 0.8196529419752471.\u001b[0m\n",
            "\u001b[32m[I 2021-12-03 19:41:16,558]\u001b[0m Trial 49 finished with value: 0.8149136222070024 and parameters: {'threshold': 5547000, 'scaler': 'StandardScaler', 'n_components': 23, 'C': 0.47583109761119013, 'kernel': 'poly', 'degree': 5, 'gamma': 23.76961590050362, 'tol': 1e-05, 'max_iter': 3000}. Best is trial 41 with value: 0.8196529419752471.\u001b[0m\n"
          ]
        }
      ]
    },
    {
      "cell_type": "code",
      "metadata": {
        "id": "ygPHaeZUOY_x",
        "colab": {
          "base_uri": "https://localhost:8080/"
        },
        "outputId": "2799d09d-f18a-412c-b958-5c4acacd63a8"
      },
      "source": [
        "# save best f1 for svm classifier\n",
        "f1[\"SVM Opt\"] = study_svm.best_trial.value\n",
        "\n",
        "print(\"\\033[4m\\033[1mParams for f1 score - SVM\\033[0m\\n\")\n",
        "study_svm.best_trial.params"
      ],
      "execution_count": null,
      "outputs": [
        {
          "output_type": "stream",
          "name": "stdout",
          "text": [
            "\u001b[4m\u001b[1mParams for f1 score - SVM\u001b[0m\n",
            "\n"
          ]
        },
        {
          "output_type": "execute_result",
          "data": {
            "text/plain": [
              "{'C': 29.130322945905586,\n",
              " 'degree': 5,\n",
              " 'gamma': 27.26826266225984,\n",
              " 'kernel': 'poly',\n",
              " 'max_iter': 3000,\n",
              " 'n_components': 23,\n",
              " 'scaler': 'StandardScaler',\n",
              " 'threshold': 34371175,\n",
              " 'tol': 1e-05}"
            ]
          },
          "metadata": {},
          "execution_count": 83
        }
      ]
    },
    {
      "cell_type": "markdown",
      "metadata": {
        "id": "c46Rox-_2ZfR"
      },
      "source": [
        "#### Παρατηρήσεις για τον SVM\n",
        "\n",
        "Αρχικά έγινε δοκιμή για ολόκληρο το dataset όμως η διάρκεια εκτέλεσης ήταν απαγορευτική και οδηγούσε σε αποσύνδεση από το colab. Για αυτό το λόγο έγινε stratified sampling και διατηρήθηκε το 10% των δειγμάτων που αντιστοιχεί σε περίπου 10000 δείγματα. Στη συνέχεια έγινε δοκιμή για πολλές υπερπαραμέτρους με τη διαδικασία που αναφέρεται πιο κάτω και στο τέλος κρατήθηκαν οι εξής: C, kernel, degree, gamma, tol, max_iter. \n",
        "\n",
        "* Συγκεκριμένα δοκιμάσαμε τους scalers MinMax και Standard και από τους δύο φαινόταν να έχει σταθερά καλύτερη απόδοση ο Standard\n",
        "\n",
        "* Επίσης, μετά απο πολλές δοκιμές στα n_components σε διάφορα εύρη τιμή μέχρι το 23 (συνολικός αριθμός χαρακτηριστικών) παρατηρήθηκε ότι για λιγότερα από 23 οι τιμές ήταν χειρότερες επομένως διατηρήσαμε τη τιμή της υπερπαραμέτρου στο 23\n",
        "\n",
        "* Σχετικά με το kernel καλύτερη επίδοση κατά κανόνα παρουσιάζονταν για τιμή \"poly\"\n",
        "\n",
        "* Για το degree έγιναν δοκιμές στο εύρος 1-50 και παρατηρήθηκε ότι βέλτιστη επίδοση υπήρχε για τιμές κοντά στο 5 γύρω από το οποίο έγιναν καινούργιες δοκιμές με πιο περιορισμένο εύρος και μικρότερο βήμα. Στη συνέχεια παρατηρήσαμε ότι η καλύτερη τιμή ήταν το 5 το οποίο τελικά και διατήρσαμε\n",
        "\n",
        "* Για την υπερπαράμετρο gamma ξεκινήσαμε από πολύ μεγάλο παράθυρο τιμών και καταλήξαμε ότι βέλτιστα αποτελέσματα παρουσιάζονταν για τιμές στο παράθυρο 20-100\n",
        "\n",
        "* Για την υπερπαράμετρο max_iter παρατηρήθηκε ότι τιμές που ξεπερνούσαν τις 2000 δεν υπήρχε αισθητή διαφορά. Τελικά όμως επιλέχθηκε η τιμή 3000 γιατί έδινε ελαφρώς καλύτερα αποτελέσματα"
      ]
    },
    {
      "cell_type": "markdown",
      "metadata": {
        "id": "Fl-Wwq3NRjR-"
      },
      "source": [
        "#### Αποτελέσματα και Παρατηρήσεις"
      ]
    },
    {
      "cell_type": "code",
      "metadata": {
        "id": "-q_8mTC8a3QN",
        "colab": {
          "base_uri": "https://localhost:8080/",
          "height": 147
        },
        "outputId": "1eef9b1c-b5f4-4bd5-a6a8-a987abae1fb8"
      },
      "source": [
        "print(\"\\033[4m\\033[1mF1 Score\\033[0m\\n\")\n",
        "\n",
        "data = []\n",
        "clf_oob = [f1[\"MLP\"], f1[\"SVM\"]]\n",
        "clf_opt = [f1[\"MLP Opt\"], f1[\"SVM Opt\"]]\n",
        "data.append(clf_oob)\n",
        "data.append(clf_opt)\n",
        "pd.DataFrame(data, index = [\"Out of the box\", \"Optimized based on F1 Score\"], columns = [\"MLP\", \"SVM\"])"
      ],
      "execution_count": null,
      "outputs": [
        {
          "output_type": "stream",
          "name": "stdout",
          "text": [
            "\u001b[4m\u001b[1mF1 Score\u001b[0m\n",
            "\n"
          ]
        },
        {
          "output_type": "execute_result",
          "data": {
            "text/html": [
              "<div>\n",
              "<style scoped>\n",
              "    .dataframe tbody tr th:only-of-type {\n",
              "        vertical-align: middle;\n",
              "    }\n",
              "\n",
              "    .dataframe tbody tr th {\n",
              "        vertical-align: top;\n",
              "    }\n",
              "\n",
              "    .dataframe thead th {\n",
              "        text-align: right;\n",
              "    }\n",
              "</style>\n",
              "<table border=\"1\" class=\"dataframe\">\n",
              "  <thead>\n",
              "    <tr style=\"text-align: right;\">\n",
              "      <th></th>\n",
              "      <th>MLP</th>\n",
              "      <th>SVM</th>\n",
              "    </tr>\n",
              "  </thead>\n",
              "  <tbody>\n",
              "    <tr>\n",
              "      <th>Out of the box</th>\n",
              "      <td>0.786188</td>\n",
              "      <td>0.284531</td>\n",
              "    </tr>\n",
              "    <tr>\n",
              "      <th>Optimized based on F1 Score</th>\n",
              "      <td>0.865124</td>\n",
              "      <td>0.819653</td>\n",
              "    </tr>\n",
              "  </tbody>\n",
              "</table>\n",
              "</div>"
            ],
            "text/plain": [
              "                                  MLP       SVM\n",
              "Out of the box               0.786188  0.284531\n",
              "Optimized based on F1 Score  0.865124  0.819653"
            ]
          },
          "metadata": {},
          "execution_count": 84
        }
      ]
    },
    {
      "cell_type": "code",
      "metadata": {
        "id": "jvzNYL0tdVDj",
        "colab": {
          "base_uri": "https://localhost:8080/",
          "height": 621
        },
        "outputId": "0c1ecb86-4aac-4ce8-ca38-3c51743e36bc"
      },
      "source": [
        "plt.figure(figsize = (12, 10))\n",
        "labels = [\"MLP\", \"SVM\"]\n",
        "indices = np.arange(len(labels))\n",
        "width = 0.20\n",
        "plt.bar(indices, clf_oob, width = width, label = 'Out of the box')\n",
        "plt.bar(indices + width, clf_opt, width = width, label = 'Optimized')\n",
        "plt.xticks(ticks = indices, labels = labels)\n",
        "plt.legend()\n",
        "plt.xlabel(\"Classifier\")\n",
        "plt.ylabel(\"F1 Score\")\n",
        "plt.title(\"Out of the box VS Optimized on F1\")\n",
        "plt.show()"
      ],
      "execution_count": null,
      "outputs": [
        {
          "output_type": "display_data",
          "data": {
            "image/png": "[encoded data removed]",
            "text/plain": [
              "<Figure size 864x720 with 1 Axes>"
            ]
          },
          "metadata": {
            "needs_background": "light"
          }
        }
      ]
    },
    {
      "cell_type": "markdown",
      "metadata": {
        "id": "D7QWd_K22cpP"
      },
      "source": [
        "#### Τεκμηρίωση της Διαδικασίας\n",
        "\n",
        "Η λογική ήταν να δοκιμάσουμε αρχικά αρκετές υπερπαραμέτρους και για κάθε μία να δοκιμάσουμε τη default τιμή, αρκετά μεγαλύτερες και αρκετά μικρότερες. \n",
        "\n",
        "Όταν παρατηρούσαμε ότι η υπερπαράμετρος δεν παρουσίαζε σημαντική επηρροή στα αποτελέσματα για πολύ διαφορετικές τιμές της, θεωρούσαμε ότι δεν χρειάζεται να εξετάζεται από το Optuna. \n",
        "\n",
        "Από την άλλη, για υπερπαραμέτρους για τις οποίες η μεταβολή των τιμων επηρέαζε την επίδοση, επιλέγαμε ένα εύρος γύρω από την τιμή που έδινε καλύτερο αποτέλεσμα και επαναλαμβάναμε τη διαδικασία.\n",
        "\n",
        "Επίσης υπήρχαν υπερπαραμέροι για τις οποίες ήταν ξεκάθαρο ποιά τιμή έδινε καλύτερο αποτέλεσμα. Για παράδειγμα για τον MLP η Relu ήταν με διαφορά η πιο αποδοτική activation function. \n",
        "\n",
        "Παράλληλα υπήρχαν τιμές υπερπαραμέτρων οι οποίες έδιναν σταθερά χειρότερα αποτελέσμτα. Για παράδειγμα για τον SVM η sigmoid ήταν με διαφορά η χειρότερη δυνατή επιλογή ως kernel type.\n",
        "\n",
        "Σχετικά με τη μορφή του pipeline, χρησιμοποιήθηκαν τα 4 στάδια του pipeline (sampler, scaler, pca, selector) σε διάφορες αλληλουχίες μέχρι να καταλήξουμε στην τελική μορφή.\n",
        "\n",
        "Ακόμη, φάνηκε ότι σε κάθε περίπτωση όλα τα 23 χαρακτηριστικά ήταν απαραίτητα αφού οποιαδήποτε παράληψη χαρακτηριστικού είχε αρνητική επίδραση στην απόδοση."
      ]
    },
    {
      "cell_type": "markdown",
      "metadata": {
        "id": "NL3dPYJl2eAG"
      },
      "source": [
        "#### Παρατηρήσεις:\n",
        "* Για τον MLP ταξινομητή ακόμα και η out-of-the-box υλοποίηση έδινε αρκετά ικανοποιητικά αποτελέσματα. Μετά από τις διάφορες δοκιμές που έγιναν για βελτιστοποίηση καταφέραμε να ξεπεράσουμε την τιμή 0.865 η οποία είναι ικανοποιητική. Αυτό συμβαίνει διότι από τα δεδομένα που υπάρχουν στο dataset για πολλές παρτίδες είναι δύσκολο ακόμα και για τον άνθρωπο να εκτιμήσει σωστά το αποτέλεσμα. Επίσης ο παράγοντας της μπλόφας σε παιχνίδια πόκερ είναι δύσκολο να συνυπολογιστεί από το νευρωνικό δίκτυο με μεγάλη ακρίβεια.\n",
        "\n",
        "* Για τον SVM η out-of-the-box υλοποίηση έδινε απελπιστικά αποτελέσματα. Με διάφορες δοκιμές που έγιναν κατά τη βελτιστοποίηση καταφέραμε να αυξήσουμε σημαντικά την επίδοση. Παρόλα αυτά οι επιδόσεις του παρέμειναν σταθερά πιο κάτω από του MLP, παράλληλα ήταν πολύ πιο χρονοβόρα διαδικασία."
      ]
    },
    {
      "cell_type": "markdown",
      "metadata": {
        "id": "Dm3fe4NT2fnx"
      },
      "source": [
        "#### Συμπέρασμα\n",
        "\n",
        "Για το συγκεκριμένο dataset φαίνεται ξεκάθαρα ότι η βέλτιστη επιλογή είναι ο MLP ταξινομητής αφού δίνει σταθερά καλύτερα αποτελέσματα σύμφωνα με τη μετρική F1 που χρησιμοποιήθηκε. Επίσης υπερτερεί σημαντικά στο χρόνο εκπαίδευσης διότι μπορεί να διαχειριστεί ολόκληρο το dataset σε μικρό συνολικά χρόνο ενώ ο SVM αδυνατούσε να το διαχειριστεί και χρειάστηκε να γίνει εκπαίδευση σε ένα sample του dataset. Από τις διάφορες δοκιμές που έγιναν δεν βρέθηκε κανένα κριτήριο σύμφωνα με το οποίο ο SVM να έχει καλύτερη επίδοση από τον MLP"
      ]
    }
  ]
}